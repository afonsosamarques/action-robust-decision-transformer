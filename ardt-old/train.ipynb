{
  "cells": [
    {
      "cell_type": "code",
      "execution_count": 1,
      "metadata": {},
      "outputs": [],
      "source": [
        "import random\n",
        "from dataclasses import dataclass\n",
        "\n",
        "import numpy as np\n",
        "import pickle\n",
        "import torch\n",
        "\n",
        "from datasets import load_dataset, load_from_disk\n",
        "from huggingface_hub import login, list_models\n",
        "from transformers import DecisionTransformerConfig, DecisionTransformerModel, Trainer, TrainingArguments\n",
        "\n",
        "from ardt import SingleAgentRobustDT, DecisionTransformerGymDataCollator\n",
        "from access_tokens import WRITE_TOKEN\n",
        "\n",
        "import warnings\n",
        "warnings.filterwarnings('ignore')"
      ]
    },
    {
      "cell_type": "code",
      "execution_count": 2,
      "metadata": {},
      "outputs": [],
      "source": [
        "# login(token=WRITE_TOKEN)"
      ]
    },
    {
      "attachments": {},
      "cell_type": "markdown",
      "metadata": {},
      "source": [
        "## Configs"
      ]
    },
    {
      "cell_type": "code",
      "execution_count": 3,
      "metadata": {},
      "outputs": [],
      "source": [
        "envs = {\n",
        "    0: \"walker2d-expert-v2\",\n",
        "    1: \"halfcheetah-expert-v2\",\n",
        "}\n",
        "\n",
        "chosen_env = envs[1]"
      ]
    },
    {
      "attachments": {},
      "cell_type": "markdown",
      "metadata": {},
      "source": [
        "## Loading and exploring the dataset: halfcheetah (expert)"
      ]
    },
    {
      "attachments": {},
      "cell_type": "markdown",
      "metadata": {},
      "source": [
        "Some notes:\n",
        "* This is a multi-dimensional, continuous environment. States are represented by 17 continuous dimensions; actions are represented by 7 continuous dimensions.\n",
        "* The state space includes the positions and velocities of multiple body parts of the robotic cheetah, which are continuous, unbounded, real-valued quantities.\n",
        "* The action space consists of torques applied to the joints, which are real-valued and thus continuous. They are however limited to the interval [-1, 1]. \n",
        "\n",
        "For more details: https://www.gymlibrary.dev/environments/mujoco/half_cheetah/"
      ]
    },
    {
      "cell_type": "code",
      "execution_count": 4,
      "metadata": {},
      "outputs": [],
      "source": [
        "# dataset = load_dataset(\"edbeeching/decision_transformer_gym_replay\", chosen_env)['train']"
      ]
    },
    {
      "cell_type": "code",
      "execution_count": 5,
      "metadata": {},
      "outputs": [],
      "source": [
        "# pr_actions = dataset['actions']\n",
        "# new_pr_actions = []\n",
        "# adv_actions =[]\n",
        "# for tr in pr_actions:\n",
        "#     pr_l = []\n",
        "#     adv_l = []\n",
        "#     for a in tr:\n",
        "#         adv = np.array(a) * 0.1 * np.random.choice([-1, 1], size=len(a)) * np.random.rand(len(a))\n",
        "#         pr = np.array(a) + adv\n",
        "#         pr_l.append(list(pr))\n",
        "#         adv_l.append(list(adv))\n",
        "#     new_pr_actions.append(pr_l)\n",
        "#     adv_actions.append(adv_l)\n",
        "\n",
        "# dataset = dataset.add_column('pr_actions', new_pr_actions)\n",
        "# dataset = dataset.add_column('adv_actions', adv_actions)\n",
        "# dataset = dataset.remove_columns(['actions'])\n",
        "# dataset.save_to_disk('./datasets/toy_dataset')"
      ]
    },
    {
      "cell_type": "code",
      "execution_count": 6,
      "metadata": {},
      "outputs": [],
      "source": [
        "dataset = load_from_disk(\"./datasets/toy_dataset\")"
      ]
    },
    {
      "cell_type": "code",
      "execution_count": 7,
      "metadata": {},
      "outputs": [],
      "source": [
        "# dataset_entries = []\n",
        "# with open(\"./datasets/halfcheetah-rarl-v2.dat\", \"rb\") as f:\n",
        "#     while True:\n",
        "#         print(pickle.load(f))\n",
        "#         try:\n",
        "#             dataset_entries.append(pickle.load(f))\n",
        "#         except EOFError:\n",
        "#             break"
      ]
    },
    {
      "cell_type": "code",
      "execution_count": 8,
      "metadata": {},
      "outputs": [
        {
          "name": "stdout",
          "output_type": "stream",
          "text": [
            "Dataset elements:  dict_keys(['observations', 'rewards', 'dones', 'pr_actions', 'adv_actions'])\n",
            "Number of steps:  1000\n",
            "Size of state representation:  17\n",
            "Size of action representation:  6\n",
            "Size of action representation:  6\n",
            "Reward type:  <class 'float'>\n",
            "Done flag:  <class 'bool'>\n"
          ]
        }
      ],
      "source": [
        "print(\"Dataset elements: \", dataset[0].keys())\n",
        "print(\"Number of steps: \", len(dataset[0]['observations']))\n",
        "print(\"Size of state representation: \", len(dataset[0]['observations'][0]))\n",
        "print(\"Size of action representation: \", len(dataset[0]['pr_actions'][0]))\n",
        "print(\"Size of action representation: \", len(dataset[0]['adv_actions'][0]))\n",
        "print(\"Reward type: \", type(dataset[0]['rewards'][0]))\n",
        "print(\"Done flag: \", type(dataset[0]['dones'][0]))"
      ]
    },
    {
      "attachments": {},
      "cell_type": "markdown",
      "metadata": {},
      "source": [
        "## Setting up the model"
      ]
    },
    {
      "cell_type": "code",
      "execution_count": 9,
      "metadata": {},
      "outputs": [],
      "source": [
        "RETURNS_SCALE = 1000.0\n",
        "CONTEXT_SIZE = 20"
      ]
    },
    {
      "cell_type": "code",
      "execution_count": 10,
      "metadata": {},
      "outputs": [
        {
          "name": "stderr",
          "output_type": "stream",
          "text": [
            "/Users/afonsosamarques/.virtualenvs/fp-adt/lib/python3.10/site-packages/numpy/core/fromnumeric.py:86: VisibleDeprecationWarning: Creating an ndarray from ragged nested sequences (which is a list-or-tuple of lists-or-tuples-or ndarrays with different lengths or shapes) is deprecated. If you meant to do this, you must specify 'dtype=object' when creating the ndarray.\n",
            "  return ufunc.reduce(obj, axis, dtype, out, **passkwargs)\n"
          ]
        }
      ],
      "source": [
        "collator = DecisionTransformerGymDataCollator(dataset, context_size=CONTEXT_SIZE, returns_scale=RETURNS_SCALE)\n",
        "config = DecisionTransformerConfig(state_dim=collator.state_dim, \n",
        "                                   pr_act_dim=collator.pr_act_dim,\n",
        "                                   adv_act_dim=collator.adv_act_dim,\n",
        "                                   max_ep_len=collator.max_ep_len,\n",
        "                                   context_size=collator.context_size,\n",
        "                                   state_mean=list(collator.state_mean),\n",
        "                                   state_std=list(collator.state_std),\n",
        "                                   scale=collator.scale,\n",
        "                                   lambda1=0.3,\n",
        "                                   lambda2=10.0,)\n",
        "model = SingleAgentRobustDT(config)"
      ]
    },
    {
      "attachments": {},
      "cell_type": "markdown",
      "metadata": {},
      "source": [
        "## Training the model"
      ]
    },
    {
      "cell_type": "code",
      "execution_count": 11,
      "metadata": {},
      "outputs": [],
      "source": [
        "# my_env_name = \"dt-\" + chosen_env.split(\"-\")[0]\n",
        "# models = sorted([m.modelId.split(\"/\")[-1] for m in list_models(author=\"afonsosamarques\")])\n",
        "# models = [m for m in models if my_env_name in m]\n",
        "# if len(models) > 0:\n",
        "#     latest_version = [m.split(\"-\")[-1][1:] for m in models][-1]\n",
        "#     new_version = \"v\" + str(int(latest_version) + 1)\n",
        "# else:\n",
        "#     new_version = \"v0\"\n",
        "# model_name = my_env_name + \"-\" + new_version\n",
        "# print(model_name)\n",
        "\n",
        "model_name = 'dt-halfcheetah-v3'"
      ]
    },
    {
      "cell_type": "code",
      "execution_count": 12,
      "metadata": {},
      "outputs": [
        {
          "data": {
            "application/vnd.jupyter.widget-view+json": {
              "model_id": "c213f801912e486dae62305a330509e7",
              "version_major": 2,
              "version_minor": 0
            },
            "text/plain": [
              "  0%|          | 0/4000 [00:00<?, ?it/s]"
            ]
          },
          "metadata": {},
          "output_type": "display_data"
        },
        {
          "name": "stdout",
          "output_type": "stream",
          "text": [
            "{'loss': 0.4496, 'learning_rate': 9.722222222222223e-05, 'epoch': 31.25}\n",
            "{'loss': -0.1207, 'learning_rate': 8.333333333333334e-05, 'epoch': 62.5}\n",
            "{'loss': -0.189, 'learning_rate': 6.944444444444444e-05, 'epoch': 93.75}\n",
            "{'loss': -0.2181, 'learning_rate': 5.555555555555556e-05, 'epoch': 125.0}\n",
            "{'loss': -0.2353, 'learning_rate': 4.166666666666667e-05, 'epoch': 156.25}\n",
            "{'loss': -0.2516, 'learning_rate': 2.777777777777778e-05, 'epoch': 187.5}\n"
          ]
        }
      ],
      "source": [
        "# we use the same hyperparameters are in the authors original implementation, but train for fewer iterations\n",
        "training_args = TrainingArguments(\n",
        "    output_dir=model_name,\n",
        "    remove_unused_columns=False,\n",
        "    num_train_epochs=250,\n",
        "    per_device_train_batch_size=64,\n",
        "    learning_rate=1e-4,\n",
        "    weight_decay=1e-4,\n",
        "    warmup_ratio=0.1,\n",
        "    optim=\"adamw_torch\",\n",
        "    max_grad_norm=0.25,\n",
        "    use_mps_device=True,\n",
        "    report_to=\"none\",\n",
        "    push_to_hub=False,\n",
        "    hub_model_id=model_name,\n",
        ")\n",
        "\n",
        "trainer = Trainer(\n",
        "    model=model,\n",
        "    args=training_args,\n",
        "    train_dataset=dataset,\n",
        "    data_collator=collator,\n",
        ")\n",
        "\n",
        "trainer.train()\n",
        "trainer.save_model()\n",
        "# trainer.push_to_hub()"
      ]
    }
  ],
  "metadata": {
    "accelerator": "GPU",
    "colab": {
      "provenance": []
    },
    "gpuClass": "standard",
    "kernelspec": {
      "display_name": "Python 3",
      "name": "python3"
    },
    "language_info": {
      "codemirror_mode": {
        "name": "ipython",
        "version": 3
      },
      "file_extension": ".py",
      "mimetype": "text/x-python",
      "name": "python",
      "nbconvert_exporter": "python",
      "pygments_lexer": "ipython3",
      "version": "3.10.11"
    }
  },
  "nbformat": 4,
  "nbformat_minor": 0
}
