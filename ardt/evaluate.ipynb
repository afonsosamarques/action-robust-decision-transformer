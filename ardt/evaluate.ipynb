{
  "cells": [
    {
      "cell_type": "code",
      "execution_count": null,
      "metadata": {},
      "outputs": [],
      "source": [
        "import gymnasium as gym\n",
        "import torch\n",
        "\n",
        "from huggingface_hub import login\n",
        "from transformers import DecisionTransformerConfig\n",
        "\n",
        "from ardt_naive import SingleAgentRobustDT\n",
        "from ardt_full import TwoAgentRobustDT\n",
        "from render_frame import RenderFrame\n",
        "\n",
        "#\n",
        "import warnings\n",
        "warnings.filterwarnings('ignore')\n",
        "\n",
        "from access_tokens import WRITE_TOKEN"
      ]
    },
    {
      "attachments": {},
      "cell_type": "markdown",
      "metadata": {},
      "source": [
        "## Config"
      ]
    },
    {
      "cell_type": "code",
      "execution_count": null,
      "metadata": {},
      "outputs": [],
      "source": [
        "envs_in_gym = {\n",
        "    0: \"Walker2d-v4\",\n",
        "    1: \"HalfCheetah-v4\",\n",
        "}\n",
        "\n",
        "default_tr_per_1000 = {\n",
        "    \"Walker2d-v4\": 7200,\n",
        "    \"HalfCheetah-v4\": 12000\n",
        "}\n",
        "\n",
        "chosen_env = envs_in_gym[1]\n",
        "env_target_per_1000 = default_tr_per_1000[chosen_env]"
      ]
    },
    {
      "cell_type": "code",
      "execution_count": null,
      "metadata": {},
      "outputs": [],
      "source": [
        "hf_model_to_use = \"dt-halfcheetah-adrt-v1\"\n",
        "\n",
        "agent = {\n",
        "    0: SingleAgentRobustDT,\n",
        "    1: TwoAgentRobustDT\n",
        "}\n",
        "\n",
        "# FIXME hf_model_to_use.startswith(\"dt\") for backwards compatibility\n",
        "chosen_agent = agent[0] if hf_model_to_use.startswith(\"ardt-naive\") or hf_model_to_use.startswith(\"dt\") else agent[1]"
      ]
    },
    {
      "attachments": {},
      "cell_type": "markdown",
      "metadata": {},
      "source": [
        "## Loading model"
      ]
    },
    {
      "cell_type": "code",
      "execution_count": null,
      "metadata": {},
      "outputs": [],
      "source": [
        "# # from HF\n",
        "# login(token=WRITE_TOKEN)\n",
        "# config = DecisionTransformerConfig.from_pretrained(f\"afonsosamarques/{hf_model_to_use}\", use_auth_token=True)\n",
        "# model = chosen_agent(config)\n",
        "# model = model.from_pretrained(f\"afonsosamarques/{hf_model_to_use}\", use_auth_token=True)\n",
        "# model_name = model.config._name_or_path.split(\"-\")[-1]\n",
        "\n",
        "# from local\n",
        "config = DecisionTransformerConfig.from_pretrained(f\"./{hf_model_to_use}\", use_auth_token=True)\n",
        "model = chosen_agent(config)\n",
        "model = model.from_pretrained(f\"./{hf_model_to_use}\", use_auth_token=True)\n",
        "model_name = model.config._name_or_path\n",
        "\n",
        "device = torch.device(\"mps\" if torch.backends.mps.is_available() else \"cpu\")\n",
        "device = \"cpu\"\n",
        "model.to(device)"
      ]
    },
    {
      "attachments": {},
      "cell_type": "markdown",
      "metadata": {},
      "source": [
        "## Testing model"
      ]
    },
    {
      "cell_type": "code",
      "execution_count": null,
      "metadata": {},
      "outputs": [],
      "source": [
        "def get_action(model, states, pr_actions, adv_actions, rewards, returns_to_go, timesteps, device):\n",
        "    # NOTE this implementation does not condition on past rewards\n",
        "    # reshape to model input format\n",
        "    states = states.reshape(1, -1, model.config.state_dim)\n",
        "    pr_actions = pr_actions.reshape(1, -1, model.config.pr_act_dim)\n",
        "    adv_actions = adv_actions.reshape(1, -1, model.config.adv_act_dim)\n",
        "    returns_to_go = returns_to_go.reshape(1, -1, 1)\n",
        "    timesteps = timesteps.reshape(1, -1)\n",
        "\n",
        "    # normalisation constants\n",
        "    state_mean = torch.from_numpy(np.array(model.config.state_mean).astype(np.float32)).to(device=device)\n",
        "    state_std = torch.from_numpy(np.array(model.config.state_std).astype(np.float32)).to(device=device)\n",
        "\n",
        "    # retrieve window of observations based on context length\n",
        "    states = states[:, -model.config.context_size :]\n",
        "    pr_actions = pr_actions[:, -model.config.context_size :]\n",
        "    adv_actions = adv_actions[:, -model.config.context_size :]\n",
        "    returns_to_go = returns_to_go[:, -model.config.context_size :]\n",
        "    timesteps = timesteps[:, -model.config.context_size :]\n",
        "\n",
        "    # normalising states\n",
        "    states = (states - state_mean) / state_std\n",
        "\n",
        "    # pad all tokens to sequence length\n",
        "    padlen = model.config.context_size - states.shape[1]\n",
        "    attention_mask = torch.cat([torch.zeros(padlen, device=device), torch.ones(states.shape[1], device=device)]).to(dtype=torch.long).reshape(1, -1)\n",
        "    states = torch.cat([torch.zeros((1, padlen, model.config.state_dim), device=device), states], dim=1).float()\n",
        "    pr_actions = torch.cat([torch.zeros((1, padlen, model.config.pr_act_dim), device=device), pr_actions], dim=1).float()\n",
        "    adv_actions = torch.cat([torch.zeros((1, padlen, model.config.adv_act_dim), device=device), adv_actions], dim=1).float()\n",
        "    returns_to_go = torch.cat([torch.zeros((1, padlen, 1), device=device), returns_to_go], dim=1).float()\n",
        "    timesteps = torch.cat([torch.zeros((1, padlen), dtype=torch.long, device=device), timesteps], dim=1)\n",
        "\n",
        "    # forward pass\n",
        "    pr_action_preds, adv_action_preds = model.forward(\n",
        "        is_train=False,\n",
        "        states=states,\n",
        "        pr_actions=pr_actions,\n",
        "        adv_actions=adv_actions,\n",
        "        rewards=rewards,\n",
        "        returns_to_go=returns_to_go,\n",
        "        timesteps=timesteps,\n",
        "        attention_mask=attention_mask,\n",
        "        return_dict=False,\n",
        "    )\n",
        "\n",
        "    return pr_action_preds[0, -1], adv_action_preds[0, -1]"
      ]
    },
    {
      "cell_type": "code",
      "execution_count": null,
      "metadata": {},
      "outputs": [],
      "source": [
        "with torch.no_grad():\n",
        "    env = gym.make(chosen_env, render_mode=\"rgb_array\")\n",
        "    env = RenderFrame(env, \"./\" + model_name + \"-output-frames\")\n",
        "    state, _ = env.reset()\n",
        "\n",
        "    returns_scale = model.config.returns_scale if \"returns_scale\" in model.config.to_dict().keys() else 1000.0  # FIXME compatibility\n",
        "    episode_return, episode_length = 0, 0\n",
        "    target_return = torch.tensor(env_target_per_1000/returns_scale, device=device, dtype=torch.float32).reshape(1, 1)\n",
        "    states = torch.from_numpy(state).reshape(1, model.config.state_dim).to(device=device, dtype=torch.float32)\n",
        "    pr_actions = torch.zeros((0, model.config.pr_act_dim), device=device, dtype=torch.float32)\n",
        "    adv_actions = torch.zeros((0, model.config.adv_act_dim), device=device, dtype=torch.float32)\n",
        "    rewards = torch.zeros(0, device=device, dtype=torch.float32)\n",
        "    timesteps = torch.tensor(0, device=device, dtype=torch.long).reshape(1, 1)\n",
        "\n",
        "    for t in range(model.config.max_ep_len):\n",
        "        pr_actions = torch.cat([pr_actions, torch.zeros((1, model.config.pr_act_dim), device=device)], dim=0)\n",
        "        adv_actions = torch.cat([adv_actions, torch.zeros((1, model.config.adv_act_dim), device=device)], dim=0)\n",
        "        rewards = torch.cat([rewards, torch.zeros(1, device=device)])\n",
        "\n",
        "        pr_action, adv_action = get_action(\n",
        "            model,\n",
        "            states,\n",
        "            pr_actions,\n",
        "            adv_actions,\n",
        "            rewards,\n",
        "            target_return,\n",
        "            timesteps,\n",
        "            device,\n",
        "        )\n",
        "        pr_actions[-1] = pr_action\n",
        "        adv_actions[-1] = adv_action\n",
        "\n",
        "        action = pr_action.detach().cpu().numpy()\n",
        "        state, reward, done, _, _ = env.step(action)\n",
        "\n",
        "        cur_state = torch.from_numpy(state.astype(np.float32)).to(device=device).reshape(1, model.config.state_dim)\n",
        "        states = torch.cat([states, cur_state], dim=0)\n",
        "        rewards[-1] = reward\n",
        "\n",
        "        pred_return = target_return[0, -1] - (reward / returns_scale)\n",
        "        target_return = torch.cat([target_return, pred_return.reshape(1, 1)], dim=1)\n",
        "        timesteps = torch.cat([timesteps, torch.ones((1, 1), device=device, dtype=torch.long) * (t + 1)], dim=1)\n",
        "\n",
        "        episode_return += reward\n",
        "        episode_length += 1\n",
        "\n",
        "        if done: \n",
        "            break"
      ]
    },
    {
      "cell_type": "code",
      "execution_count": null,
      "metadata": {},
      "outputs": [],
      "source": [
        "env.play()"
      ]
    }
  ],
  "metadata": {
    "accelerator": "GPU",
    "colab": {
      "provenance": []
    },
    "gpuClass": "standard",
    "kernelspec": {
      "display_name": "Python 3",
      "name": "python3"
    },
    "language_info": {
      "codemirror_mode": {
        "name": "ipython",
        "version": 3
      },
      "file_extension": ".py",
      "mimetype": "text/x-python",
      "name": "python",
      "nbconvert_exporter": "python",
      "pygments_lexer": "ipython3",
      "version": "3.10.11"
    }
  },
  "nbformat": 4,
  "nbformat_minor": 0
}
