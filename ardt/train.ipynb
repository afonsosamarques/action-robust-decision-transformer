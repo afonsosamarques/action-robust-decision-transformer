{
  "cells": [
    {
      "cell_type": "code",
      "execution_count": null,
      "metadata": {},
      "outputs": [],
      "source": [
        "from datasets import load_dataset, load_from_disk\n",
        "from huggingface_hub import login, list_models\n",
        "from transformers import DecisionTransformerConfig, Trainer, TrainingArguments\n",
        "\n",
        "from model.ardt_vanilla import SingleAgentRobustDT\n",
        "from model.ardt_full import TwoAgentRobustDT\n",
        "from model.ardt_utils import DecisionTransformerGymDataCollator\n",
        "\n",
        "#\n",
        "import warnings\n",
        "warnings.filterwarnings('ignore')\n",
        "\n",
        "from access_tokens import HF_WRITE_TOKEN"
      ]
    },
    {
      "cell_type": "code",
      "execution_count": null,
      "metadata": {},
      "outputs": [],
      "source": [
        "login(token=HF_WRITE_TOKEN)"
      ]
    },
    {
      "attachments": {},
      "cell_type": "markdown",
      "metadata": {},
      "source": [
        "## Configs"
      ]
    },
    {
      "cell_type": "code",
      "execution_count": null,
      "metadata": {},
      "outputs": [],
      "source": [
        "envs = {\n",
        "    0: \"walker2d-expert-v2\",\n",
        "    1: \"halfcheetah-expert-v2\",\n",
        "}\n",
        "\n",
        "chosen_env = envs[1]"
      ]
    },
    {
      "cell_type": "code",
      "execution_count": null,
      "metadata": {},
      "outputs": [],
      "source": [
        "agent = {\n",
        "    0: SingleAgentRobustDT,\n",
        "    1: TwoAgentRobustDT\n",
        "}\n",
        "\n",
        "chosen_agent = agent[1]\n",
        "model_name_prefix = \"ardt-\" if chosen_agent == TwoAgentRobustDT else \"ardt-vanilla-\""
      ]
    },
    {
      "attachments": {},
      "cell_type": "markdown",
      "metadata": {},
      "source": [
        "## Loading and exploring the dataset"
      ]
    },
    {
      "cell_type": "code",
      "execution_count": null,
      "metadata": {},
      "outputs": [],
      "source": [
        "# from local\n",
        "dataset = load_from_disk(\"./datasets/rarl_halfcheetah_v1\")"
      ]
    },
    {
      "cell_type": "code",
      "execution_count": null,
      "metadata": {},
      "outputs": [],
      "source": [
        "# # from hf\n",
        "# dataset = load_dataset(f\"afonsosamarques/rarl_halfcheetah_v1\", use_auth_token=True)"
      ]
    },
    {
      "cell_type": "code",
      "execution_count": null,
      "metadata": {},
      "outputs": [],
      "source": [
        "print(\"Dataset elements: \", dataset[0].keys())\n",
        "print(\"Number of steps: \", len(dataset[0]['observations']))\n",
        "print(\"Size of state representation: \", len(dataset[0]['observations'][0]))\n",
        "print(\"Size of action representation: \", len(dataset[0]['pr_actions'][0]))\n",
        "print(\"Size of action representation: \", len(dataset[0]['adv_actions'][0]))\n",
        "print(\"Reward type: \", type(dataset[0]['rewards'][0]))\n",
        "print(\"Done flag: \", type(dataset[0]['dones'][0]))\n",
        "print(\"Rewards len: \", len(dataset[0]['rewards']))\n",
        "print(\"Dones len: \", len(dataset[0]['dones']))"
      ]
    },
    {
      "attachments": {},
      "cell_type": "markdown",
      "metadata": {},
      "source": [
        "## Setting up the model"
      ]
    },
    {
      "cell_type": "code",
      "execution_count": null,
      "metadata": {},
      "outputs": [],
      "source": [
        "RETURNS_SCALE = 1000.0\n",
        "CONTEXT_SIZE = 20\n",
        "N_EPOCHS = 300\n",
        "WARMUP_EPOCHS = 50"
      ]
    },
    {
      "cell_type": "code",
      "execution_count": null,
      "metadata": {},
      "outputs": [],
      "source": [
        "collator = DecisionTransformerGymDataCollator(dataset, context_size=CONTEXT_SIZE, returns_scale=RETURNS_SCALE)\n",
        "config = DecisionTransformerConfig(state_dim=collator.state_dim, \n",
        "                                   pr_act_dim=collator.pr_act_dim,\n",
        "                                   adv_act_dim=collator.adv_act_dim,\n",
        "                                   max_ep_len=collator.max_ep_len,\n",
        "                                   context_size=collator.context_size,\n",
        "                                   state_mean=list(collator.state_mean),\n",
        "                                   state_std=list(collator.state_std),\n",
        "                                   scale=collator.scale,\n",
        "                                   lambda1=0.05,\n",
        "                                   lambda2=10.0,\n",
        "                                   warmup_epochs=WARMUP_EPOCHS,\n",
        "                                   max_return=1000) # FIXME completely random, potentially not needed\n",
        "model = chosen_agent(config)\n",
        "model"
      ]
    },
    {
      "attachments": {},
      "cell_type": "markdown",
      "metadata": {},
      "source": [
        "## Training the model"
      ]
    },
    {
      "cell_type": "code",
      "execution_count": null,
      "metadata": {},
      "outputs": [],
      "source": [
        "my_env_name = model_name_prefix + chosen_env.split(\"-\")[0]\n",
        "models = sorted([m.modelId.split(\"/\")[-1] for m in list_models(author=\"afonsosamarques\")])\n",
        "models = [m for m in models if my_env_name in m]\n",
        "if len(models) > 0:\n",
        "    latest_version = [m.split(\"-\")[-3 if \"lambda\" in m else -1][1:] for m in models][-1]\n",
        "    new_version = \"v\" + str(int(latest_version) + 1)\n",
        "else:\n",
        "    new_version = \"v0\"\n",
        "model_name = my_env_name + \"-\" + new_version + \"-rarl\"\n",
        "print(model_name)"
      ]
    },
    {
      "cell_type": "code",
      "execution_count": null,
      "metadata": {},
      "outputs": [],
      "source": [
        "# we use the same hyperparameters as in the authors original implementation, but train for fewer iterations\n",
        "training_args = TrainingArguments(\n",
        "    output_dir=\"./agents/\" + model_name,\n",
        "    remove_unused_columns=False,\n",
        "    num_train_epochs=N_EPOCHS,\n",
        "    per_device_train_batch_size=64,\n",
        "    optim=\"adamw_torch\",\n",
        "    learning_rate=1e-4,\n",
        "    weight_decay=1e-4,\n",
        "    warmup_ratio=0.1,\n",
        "    max_grad_norm=0.25,\n",
        "    use_mps_device=True,\n",
        "    push_to_hub=True,\n",
        "    report_to=\"none\",\n",
        "    hub_model_id=model_name,\n",
        ")\n",
        "\n",
        "trainer = Trainer(\n",
        "    model=model,\n",
        "    args=training_args,\n",
        "    train_dataset=dataset,\n",
        "    data_collator=collator,\n",
        ")\n",
        "\n",
        "trainer.train()\n",
        "trainer.save_model()\n",
        "# trainer.push_to_hub()"
      ]
    }
  ],
  "metadata": {
    "accelerator": "GPU",
    "colab": {
      "provenance": []
    },
    "gpuClass": "standard",
    "kernelspec": {
      "display_name": "Python 3",
      "name": "python3"
    },
    "language_info": {
      "codemirror_mode": {
        "name": "ipython",
        "version": 3
      },
      "file_extension": ".py",
      "mimetype": "text/x-python",
      "name": "python",
      "nbconvert_exporter": "python",
      "pygments_lexer": "ipython3",
      "version": "3.10.11"
    }
  },
  "nbformat": 4,
  "nbformat_minor": 0
}
