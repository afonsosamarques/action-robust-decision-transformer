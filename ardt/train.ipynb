{
  "cells": [
    {
      "cell_type": "code",
      "execution_count": null,
      "metadata": {},
      "outputs": [],
      "source": [
        "import numpy as np\n",
        "\n",
        "from dataclasses import dataclass\n",
        "from datasets import load_dataset, load_from_disk\n",
        "from huggingface_hub import login, list_models\n",
        "from transformers import DecisionTransformerConfig, Trainer, TrainingArguments\n",
        "\n",
        "from model.ardt_naive import SingleAgentRobustDT\n",
        "from model.ardt_full import TwoAgentRobustDT\n",
        "from model.ardt_utils import DecisionTransformerGymDataCollator\n",
        "\n",
        "#\n",
        "import warnings\n",
        "warnings.filterwarnings('ignore')\n",
        "\n",
        "from access_tokens import WRITE_TOKEN"
      ]
    },
    {
      "cell_type": "code",
      "execution_count": null,
      "metadata": {},
      "outputs": [],
      "source": [
        "login(token=WRITE_TOKEN)"
      ]
    },
    {
      "attachments": {},
      "cell_type": "markdown",
      "metadata": {},
      "source": [
        "## Configs"
      ]
    },
    {
      "cell_type": "code",
      "execution_count": null,
      "metadata": {},
      "outputs": [],
      "source": [
        "envs = {\n",
        "    0: \"walker2d-expert-v2\",\n",
        "    1: \"halfcheetah-expert-v2\",\n",
        "}\n",
        "\n",
        "chosen_env = envs[1]"
      ]
    },
    {
      "cell_type": "code",
      "execution_count": null,
      "metadata": {},
      "outputs": [],
      "source": [
        "agent = {\n",
        "    0: SingleAgentRobustDT,\n",
        "    1: TwoAgentRobustDT\n",
        "}\n",
        "\n",
        "chosen_agent = agent[1]"
      ]
    },
    {
      "attachments": {},
      "cell_type": "markdown",
      "metadata": {},
      "source": [
        "## Loading and exploring the dataset: halfcheetah (expert)"
      ]
    },
    {
      "attachments": {},
      "cell_type": "markdown",
      "metadata": {},
      "source": [
        "Some notes:\n",
        "* This is a multi-dimensional, continuous environment. States are represented by 17 continuous dimensions; actions are represented by 7 continuous dimensions.\n",
        "* The state space includes the positions and velocities of multiple body parts of the robotic cheetah, which are continuous, unbounded, real-valued quantities.\n",
        "* The action space consists of torques applied to the joints, which are real-valued and thus continuous. They are however limited to the interval [-1, 1]. \n",
        "\n",
        "For more details: https://www.gymlibrary.dev/environments/mujoco/half_cheetah/"
      ]
    },
    {
      "cell_type": "code",
      "execution_count": null,
      "metadata": {},
      "outputs": [],
      "source": [
        "# # from local, pre-saved\n",
        "# dataset = load_from_disk(\"./datasets/toy_dataset\")"
      ]
    },
    {
      "cell_type": "code",
      "execution_count": null,
      "metadata": {},
      "outputs": [],
      "source": [
        "# from HF default\n",
        "dataset = load_dataset(\"edbeeching/decision_transformer_gym_replay\", chosen_env)['train']"
      ]
    },
    {
      "cell_type": "code",
      "execution_count": null,
      "metadata": {},
      "outputs": [],
      "source": [
        "# run if we want to add a 0 adversary\n",
        "pr_actions = dataset['actions']\n",
        "new_pr_actions = []\n",
        "adv_actions =[]\n",
        "for tr in pr_actions:\n",
        "    pr_l = []\n",
        "    adv_l = []\n",
        "    for a in tr:\n",
        "        adv = np.array(a) * 0\n",
        "        pr = np.array(a)\n",
        "        pr_l.append(list(pr))\n",
        "        adv_l.append(list(adv))\n",
        "    new_pr_actions.append(pr_l)\n",
        "    adv_actions.append(adv_l)\n",
        "\n",
        "dataset = dataset.add_column('pr_actions', new_pr_actions)\n",
        "dataset = dataset.add_column('adv_actions', adv_actions)\n",
        "dataset = dataset.remove_columns(['actions'])\n",
        "dataset.save_to_disk('./datasets/default_dataset')"
      ]
    },
    {
      "cell_type": "code",
      "execution_count": null,
      "metadata": {},
      "outputs": [],
      "source": [
        "# # run if we want to add a noisy random adversary\n",
        "# pr_actions = dataset['actions']\n",
        "# new_pr_actions = []\n",
        "# adv_actions =[]\n",
        "# for tr in pr_actions:\n",
        "#     pr_l = []\n",
        "#     adv_l = []\n",
        "#     for a in tr:\n",
        "#         adv = np.array(a) * 0.1 * np.random.choice([-1, 1], size=len(a)) * np.random.rand(len(a))\n",
        "#         pr = np.array(a) + adv\n",
        "#         pr_l.append(list(pr))\n",
        "#         adv_l.append(list(adv))\n",
        "#     new_pr_actions.append(pr_l)\n",
        "#     adv_actions.append(adv_l)\n",
        "\n",
        "# dataset = dataset.add_column('pr_actions', new_pr_actions)\n",
        "# dataset = dataset.add_column('adv_actions', adv_actions)\n",
        "# dataset = dataset.remove_columns(['actions'])\n",
        "# dataset.save_to_disk('./datasets/toy_dataset')"
      ]
    },
    {
      "cell_type": "code",
      "execution_count": null,
      "metadata": {},
      "outputs": [],
      "source": [
        "print(\"Dataset elements: \", dataset[0].keys())\n",
        "print(\"Number of steps: \", len(dataset[0]['observations']))\n",
        "print(\"Size of state representation: \", len(dataset[0]['observations'][0]))\n",
        "print(\"Size of action representation: \", len(dataset[0]['pr_actions'][0]))\n",
        "print(\"Size of action representation: \", len(dataset[0]['adv_actions'][0]))\n",
        "print(\"Reward type: \", type(dataset[0]['rewards'][0]))\n",
        "print(\"Done flag: \", type(dataset[0]['dones'][0]))"
      ]
    },
    {
      "attachments": {},
      "cell_type": "markdown",
      "metadata": {},
      "source": [
        "## Setting up the model"
      ]
    },
    {
      "cell_type": "code",
      "execution_count": null,
      "metadata": {},
      "outputs": [],
      "source": [
        "RETURNS_SCALE = 1000.0\n",
        "CONTEXT_SIZE = 20"
      ]
    },
    {
      "cell_type": "code",
      "execution_count": null,
      "metadata": {},
      "outputs": [],
      "source": [
        "collator = DecisionTransformerGymDataCollator(dataset, context_size=CONTEXT_SIZE, returns_scale=RETURNS_SCALE)\n",
        "config = DecisionTransformerConfig(state_dim=collator.state_dim, \n",
        "                                   pr_act_dim=collator.pr_act_dim,\n",
        "                                   adv_act_dim=collator.adv_act_dim,\n",
        "                                   max_ep_len=collator.max_ep_len,\n",
        "                                   context_size=collator.context_size,\n",
        "                                   state_mean=list(collator.state_mean),\n",
        "                                   state_std=list(collator.state_std),\n",
        "                                   scale=collator.scale,\n",
        "                                   lambda1=0.3,\n",
        "                                   lambda2=10.0,\n",
        "                                   max_return=1000) # FIXME completely random, potentially not needed\n",
        "model = chosen_agent(config)"
      ]
    },
    {
      "attachments": {},
      "cell_type": "markdown",
      "metadata": {},
      "source": [
        "## Training the model"
      ]
    },
    {
      "cell_type": "code",
      "execution_count": null,
      "metadata": {},
      "outputs": [],
      "source": [
        "my_env_name = \"ardt-\" + chosen_env.split(\"-\")[0]\n",
        "models = sorted([m.modelId.split(\"/\")[-1] for m in list_models(author=\"afonsosamarques\")])\n",
        "models = [m for m in models if my_env_name in m]\n",
        "if len(models) > 0:\n",
        "    latest_version = [m.split(\"-\")[-1][1:] for m in models][-1]\n",
        "    new_version = \"v\" + str(int(latest_version) + 1)\n",
        "else:\n",
        "    new_version = \"v0\"\n",
        "model_name = my_env_name + \"-\" + new_version\n",
        "print(model_name)"
      ]
    },
    {
      "cell_type": "code",
      "execution_count": null,
      "metadata": {},
      "outputs": [],
      "source": [
        "# we use the same hyperparameters as in the authors original implementation, but train for fewer iterations\n",
        "training_args = TrainingArguments(\n",
        "    output_dir=\"./agents/\" + model_name,\n",
        "    remove_unused_columns=False,\n",
        "    num_train_epochs=300,\n",
        "    per_device_train_batch_size=64,\n",
        "    learning_rate=1e-4,\n",
        "    weight_decay=1e-4,\n",
        "    warmup_ratio=0.1,\n",
        "    optim=\"adamw_torch\",\n",
        "    max_grad_norm=0.25,\n",
        "    use_mps_device=False,\n",
        "    report_to=\"none\",\n",
        "    push_to_hub=True,\n",
        "    hub_model_id=model_name,\n",
        ")\n",
        "\n",
        "trainer = Trainer(\n",
        "    model=model,\n",
        "    args=training_args,\n",
        "    train_dataset=dataset,\n",
        "    data_collator=collator,\n",
        ")\n",
        "\n",
        "trainer.train()\n",
        "trainer.save_model()\n",
        "# trainer.push_to_hub()"
      ]
    }
  ],
  "metadata": {
    "accelerator": "GPU",
    "colab": {
      "provenance": []
    },
    "gpuClass": "standard",
    "kernelspec": {
      "display_name": "Python 3",
      "name": "python3"
    },
    "language_info": {
      "codemirror_mode": {
        "name": "ipython",
        "version": 3
      },
      "file_extension": ".py",
      "mimetype": "text/x-python",
      "name": "python",
      "nbconvert_exporter": "python",
      "pygments_lexer": "ipython3",
      "version": "3.10.11"
    }
  },
  "nbformat": 4,
  "nbformat_minor": 0
}
