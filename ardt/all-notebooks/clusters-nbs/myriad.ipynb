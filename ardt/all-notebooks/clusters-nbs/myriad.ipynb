{
 "cells": [
  {
   "cell_type": "code",
   "execution_count": null,
   "id": "7e2760ec",
   "metadata": {},
   "outputs": [],
   "source": [
    "import os\n",
    "import sys\n",
    "\n",
    "dir = os.path.abspath('')\n",
    "while not dir.endswith('ardt'): dir = os.path.dirname(dir)\n",
    "if not dir in sys.path: sys.path.append(dir)"
   ]
  },
  {
   "cell_type": "code",
   "execution_count": 1,
   "id": "c2bc9c2f",
   "metadata": {},
   "outputs": [],
   "source": [
    "import io\n",
    "import time\n",
    "\n",
    "import paramiko\n",
    "\n",
    "from utils.config_utils import find_root_dir\n",
    "\n",
    "from private_keys import GATEWAY_PASSWORD, MYRIAD_PRIVATE_KEY, GITHUB_PRIVATE_KEY"
   ]
  },
  {
   "cell_type": "code",
   "execution_count": 2,
   "id": "5c5e15dc",
   "metadata": {},
   "outputs": [],
   "source": [
    "SCRIPT_TO_RUN = 'run_experiment_test.sh'  # 'run_experiment_1.sh', 'run_experiment_2.sh', etc."
   ]
  },
  {
   "cell_type": "code",
   "execution_count": 34,
   "id": "8d0bba0e",
   "metadata": {},
   "outputs": [],
   "source": [
    "def sftp_upload_dir(sftp, localdir, remotedir):\n",
    "    os.chdir(os.path.split(localdir)[0])\n",
    "    parent = os.path.split(localdir)[1]\n",
    "    for walker in os.walk(parent):\n",
    "        try:\n",
    "            sftp.mkdir(os.path.join(remotedir, walker[0]))\n",
    "        except Exception as e:\n",
    "            print(\"Exception:\", e)\n",
    "        for file in walker[2]:\n",
    "            sftp.put(os.path.join(walker[0], file), os.path.join(remotedir, walker[0], file))\n"
   ]
  },
  {
   "attachments": {},
   "cell_type": "markdown",
   "id": "02eed4fe",
   "metadata": {},
   "source": [
    "## Connecting to Myriad"
   ]
  },
  {
   "cell_type": "code",
   "execution_count": 3,
   "id": "693a20f6",
   "metadata": {},
   "outputs": [],
   "source": [
    "# Private key\n",
    "k = MYRIAD_PRIVATE_KEY.strip()\n",
    "padding = len(k) % 4\n",
    "if padding > 0:\n",
    "    k += \"=\" * (4 - padding)\n",
    "private_key_file = io.StringIO(k)\n",
    "pkey = paramiko.RSAKey.from_private_key(private_key_file)\n",
    "\n",
    "# Establish SSH connection to the first server (gateway)\n",
    "sshgat = paramiko.SSHClient()\n",
    "sshgat.set_missing_host_key_policy(paramiko.AutoAddPolicy())\n",
    "sshgat.connect('ssh-gateway.ucl.ac.uk', username='ucabscm', password=GATEWAY_PASSWORD)\n",
    "\n",
    "# Use this connection to establish a second SSH connection to the second server (myriad)\n",
    "# Paramiko Transport is used here for nested ssh\n",
    "transport = sshgat.get_transport()\n",
    "dest_addr = ('myriad.rc.ucl.ac.uk', 22) # IP and port\n",
    "local_addr = ('ssh-gateway.ucl.ac.uk', 22) # IP and port\n",
    "jump = transport.open_channel(\"direct-tcpip\", dest_addr, local_addr)\n",
    "\n",
    "myriad = paramiko.SSHClient()\n",
    "myriad.set_missing_host_key_policy(paramiko.AutoAddPolicy())\n",
    "myriad.connect('myriad.rc.ucl.ac.uk', username='ucabscm', sock=jump, pkey=pkey)"
   ]
  },
  {
   "attachments": {},
   "cell_type": "markdown",
   "id": "7f1141c2",
   "metadata": {},
   "source": [
    "## Set up environment, code, files"
   ]
  },
  {
   "cell_type": "code",
   "execution_count": 5,
   "id": "04e73ba1",
   "metadata": {},
   "outputs": [],
   "source": [
    "ARDT_DIR = find_root_dir()"
   ]
  },
  {
   "cell_type": "code",
   "execution_count": null,
   "id": "aac62b47",
   "metadata": {},
   "outputs": [],
   "source": [
    "# Run commands on the second server (myriad)\n",
    "myriad.exec_command(f'rm -rf /cs/student/msc/dsml/2022/amarques/action-robust-decision-transformer')\n",
    "myriad.exec_command(f'git clone https://{GITHUB_PRIVATE_KEY}@github.com/afonsosamarques/action-robust-decision-transformer.git')\n",
    "\n",
    "myriad.exec_command('source /usr/local/cuda/CUDA_VISIBILITY.csh')\n",
    "myriad.exec_command('source /opt/Python/Python-3.10.1_Setup.csh')\n",
    "\n",
    "myriad.exec_command('mkdir ardt-env')\n",
    "myriad.exec_command('python3.10 -m venv ./ardt-env/ardt')\n",
    "myriad.exec_command('source /cs/student/msc/dsml/2022/amarques/ardt-env/ardt/bin/activate.csh')\n",
    "\n",
    "myriad.exec_command('pip3 install --upgrade pip')\n",
    "myriad.exec_command('pip3 install -r /cs/student/msc/dsml/2022/amarques/action-robust-decision-transformer/requirements.txt')\n",
    "\n",
    "myriad.exec_command('mkdir eval-outputs')\n",
    "myriad.exec_command('mkdir eval-outputs-pipeline')\n",
    "myriad.exec_command('mkdir eval-outputs-test')\n",
    "myriad.exec_command('mkdir agents')\n",
    "myriad.exec_command('mkdir agents-pipeline')\n",
    "myriad.exec_command('mkdir agents-test')\n",
    "myriad.exec_command('mkdir wandb')\n",
    "myriad.exec_command('mkdir wandb-json')"
   ]
  },
  {
   "cell_type": "code",
   "execution_count": 12,
   "id": "e2210cdc",
   "metadata": {},
   "outputs": [],
   "source": [
    "sftp = myriad.open_sftp()\n",
    "\n",
    "sftp.put(f'{ARDT_DIR}/access_tokens.py', \"/home/ucabscm/access_tokens.py\")\n",
    "myriad.exec_command('mv ./access_tokens.py /cs/student/msc/dsml/2022/amarques/action-robust-decision-transformer/ardt')\n",
    "\n",
    "sftp.put(f'{ARDT_DIR}/all-notebooks/clusters-nbs/myriad-run-scripts/{SCRIPT_TO_RUN}', \"/home/ucabscm/{SCRIPT_TO_RUN}\")\n",
    "myriad.exec_command(f'chmod +x {SCRIPT_TO_RUN}')\n",
    "\n",
    "sftp_upload_dir(sftp, f'{ARDT_DIR}/datasets', \"/home/ucabscm/action-robust-decision-transformer/ardt/datasets\")"
   ]
  },
  {
   "attachments": {},
   "cell_type": "markdown",
   "id": "3c1e47f9",
   "metadata": {},
   "source": [
    "## Run script and close connections"
   ]
  },
  {
   "cell_type": "code",
   "execution_count": null,
   "id": "ba98aa94",
   "metadata": {},
   "outputs": [],
   "source": [
    "myriad.exec_command(f'qsub {SCRIPT_TO_RUN}')"
   ]
  },
  {
   "cell_type": "code",
   "execution_count": null,
   "id": "da7aa22a",
   "metadata": {},
   "outputs": [],
   "source": [
    "time.sleep(60)\n",
    "sftp.close()\n",
    "myriad.close()\n",
    "sshgat.close()"
   ]
  }
 ],
 "metadata": {
  "kernelspec": {
   "display_name": "Python 3 (ipykernel)",
   "language": "python",
   "name": "python3"
  },
  "language_info": {
   "codemirror_mode": {
    "name": "ipython",
    "version": 3
   },
   "file_extension": ".py",
   "mimetype": "text/x-python",
   "name": "python",
   "nbconvert_exporter": "python",
   "pygments_lexer": "ipython3",
   "version": "3.10.11"
  }
 },
 "nbformat": 4,
 "nbformat_minor": 5
}
