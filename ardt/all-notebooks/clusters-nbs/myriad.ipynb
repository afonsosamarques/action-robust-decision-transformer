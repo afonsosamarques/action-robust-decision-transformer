{
 "cells": [
  {
   "cell_type": "code",
   "execution_count": null,
   "id": "7e2760ec",
   "metadata": {},
   "outputs": [],
   "source": [
    "import os\n",
    "import sys\n",
    "\n",
    "dir = os.path.abspath('')\n",
    "while not dir.endswith('ardt'): dir = os.path.dirname(dir)\n",
    "if not dir in sys.path: sys.path.append(dir)"
   ]
  },
  {
   "cell_type": "code",
   "execution_count": null,
   "id": "c2bc9c2f",
   "metadata": {},
   "outputs": [],
   "source": [
    "import io\n",
    "import time\n",
    "\n",
    "import paramiko\n",
    "\n",
    "from utils.helpers import find_root_dir\n",
    "\n",
    "from private_keys import GATEWAY_PASSWORD, MYRIAD_PRIVATE_KEY, GITHUB_PRIVATE_KEY"
   ]
  },
  {
   "cell_type": "code",
   "execution_count": null,
   "id": "5c5e15dc",
   "metadata": {},
   "outputs": [],
   "source": [
    "SCRIPT_TO_RUN = 'run_experiment_test.sh'  # 'run_experiment_1.sh', 'run_experiment_2.sh', etc."
   ]
  },
  {
   "attachments": {},
   "cell_type": "markdown",
   "id": "02eed4fe",
   "metadata": {},
   "source": [
    "## Connecting to Myriad"
   ]
  },
  {
   "cell_type": "code",
   "execution_count": null,
   "id": "693a20f6",
   "metadata": {},
   "outputs": [],
   "source": [
    "# Private key\n",
    "k = MYRIAD_PRIVATE_KEY.strip()\n",
    "padding = len(k) % 4\n",
    "if padding > 0:\n",
    "    k += \"=\" * (4 - padding)\n",
    "private_key_file = io.StringIO(k)\n",
    "pkey = paramiko.RSAKey.from_private_key(private_key_file)\n",
    "\n",
    "# Establish SSH connection to the first server (gateway)\n",
    "sshgat = paramiko.SSHClient()\n",
    "sshgat.set_missing_host_key_policy(paramiko.AutoAddPolicy())\n",
    "sshgat.connect('ssh-gateway.ucl.ac.uk', username='ucabscm', password=GATEWAY_PASSWORD)\n",
    "\n",
    "# Use this connection to establish a second SSH connection to the second server (myriad)\n",
    "# Paramiko Transport is used here for nested ssh\n",
    "transport = sshgat.get_transport()\n",
    "dest_addr = ('myriad.rc.ucl.ac.uk', 22) # IP and port\n",
    "local_addr = ('ssh-gateway.ucl.ac.uk', 22) # IP and port\n",
    "jump = transport.open_channel(\"direct-tcpip\", dest_addr, local_addr)\n",
    "\n",
    "myriad = paramiko.SSHClient()\n",
    "myriad.set_missing_host_key_policy(paramiko.AutoAddPolicy())\n",
    "myriad.connect('myriad.rc.ucl.ac.uk', username='ucabscm', sock=jump, pkey=pkey)"
   ]
  },
  {
   "attachments": {},
   "cell_type": "markdown",
   "id": "7f1141c2",
   "metadata": {},
   "source": [
    "## Set up environment, code, files"
   ]
  },
  {
   "cell_type": "code",
   "execution_count": null,
   "id": "0d742084",
   "metadata": {},
   "outputs": [],
   "source": [
    "def sftp_upload_dir(sftp, localdir, remotedir):\n",
    "    os.chdir(os.path.split(localdir)[0])\n",
    "    parent = os.path.split(localdir)[1]\n",
    "    for walker in os.walk(parent):\n",
    "        try:\n",
    "            sftp.mkdir(os.path.join(remotedir, walker[0]))\n",
    "        except Exception as e:\n",
    "            print(\"Exception:\", e)\n",
    "        for file in walker[2]:\n",
    "            sftp.put(os.path.join(walker[0], file), os.path.join(remotedir, walker[0], file))"
   ]
  },
  {
   "cell_type": "code",
   "execution_count": null,
   "id": "04e73ba1",
   "metadata": {},
   "outputs": [],
   "source": [
    "HOME_DIR = '/home/ucabscm'\n",
    "ARDT_DIR = find_root_dir()"
   ]
  },
  {
   "cell_type": "code",
   "execution_count": null,
   "id": "41c680b2",
   "metadata": {},
   "outputs": [],
   "source": [
    "# myriad.exec_command('module purge')\n",
    "# myriad.exec_command('module load default-modules')\n",
    "# myriad.exec_command('module remove mpi compilers')\n",
    "# myriad.exec_command('module load python/3.9.10')"
   ]
  },
  {
   "cell_type": "code",
   "execution_count": null,
   "id": "aac62b47",
   "metadata": {},
   "outputs": [],
   "source": [
    "# myriad.exec_command('mkdir ardt-env')\n",
    "# myriad.exec_command(f'python3 -m venv {HOME_DIR}/ardt-env/ardt')\n",
    "myriad.exec_command(f'source {HOME_DIR}/ardt-env/ardt/bin/activate.csh')\n"
   ]
  },
  {
   "cell_type": "code",
   "execution_count": null,
   "id": "9e99f3ab",
   "metadata": {},
   "outputs": [],
   "source": [
    "myriad.exec_command(f'rm -rf {HOME_DIR}/action-robust-decision-transformer')\n",
    "myriad.exec_command(f'git clone https://{GITHUB_PRIVATE_KEY}@github.com/afonsosamarques/action-robust-decision-transformer.git')"
   ]
  },
  {
   "cell_type": "code",
   "execution_count": null,
   "id": "c6b7dc16",
   "metadata": {},
   "outputs": [],
   "source": [
    "myriad.exec_command('pip3 install --upgrade pip')\n",
    "myriad.exec_command(f'pip3 install -r {HOME_DIR}/action-robust-decision-transformer/requirements.txt')"
   ]
  },
  {
   "cell_type": "code",
   "execution_count": null,
   "id": "1ddf0be2",
   "metadata": {},
   "outputs": [],
   "source": [
    "myriad.exec_command(f'mkdir {HOME_DIR}/action-robust-decision-transformer/ardt/eval-outputs')\n",
    "myriad.exec_command(f'mkdir {HOME_DIR}/action-robust-decision-transformer/ardt/eval-outputs-pipeline')\n",
    "myriad.exec_command(f'mkdir {HOME_DIR}/action-robust-decision-transformer/ardt/eval-outputs-test')\n",
    "myriad.exec_command(f'mkdir {HOME_DIR}/action-robust-decision-transformer/ardt/agents')\n",
    "myriad.exec_command(f'mkdir {HOME_DIR}/action-robust-decision-transformer/ardt/agents-pipeline')\n",
    "myriad.exec_command(f'mkdir {HOME_DIR}/action-robust-decision-transformer/ardt/agents-test')\n",
    "myriad.exec_command(f'mkdir {HOME_DIR}/action-robust-decision-transformer/ardt/wandb')\n",
    "myriad.exec_command(f'mkdir {HOME_DIR}/action-robust-decision-transformer/ardt/wandb-json')"
   ]
  },
  {
   "cell_type": "code",
   "execution_count": null,
   "id": "0bfdc5df",
   "metadata": {},
   "outputs": [],
   "source": [
    "sftp = myriad.open_sftp()"
   ]
  },
  {
   "cell_type": "code",
   "execution_count": null,
   "id": "e2210cdc",
   "metadata": {},
   "outputs": [],
   "source": [
    "sftp.put(f'{ARDT_DIR}/access_tokens.py', f\"{HOME_DIR}/action-robust-decision-transformer/ardt/access_tokens.py\")\n",
    "\n",
    "sftp.put(f'{ARDT_DIR}/all-notebooks/clusters-nbs/myriad-run-scripts/{SCRIPT_TO_RUN}', f\"{HOME_DIR}/{SCRIPT_TO_RUN}\")\n",
    "myriad.exec_command(f'chmod +x {HOME_DIR}/{SCRIPT_TO_RUN}')\n",
    "\n",
    "sftp_upload_dir(sftp, f'{ARDT_DIR}/datasets', f\"{HOME_DIR}\")"
   ]
  },
  {
   "cell_type": "code",
   "execution_count": null,
   "id": "3b311eb1",
   "metadata": {},
   "outputs": [],
   "source": [
    "myriad.exec_command(f'cp -r {HOME_DIR}/datasets {HOME_DIR}/action-robust-decision-transformer/ardt')"
   ]
  },
  {
   "attachments": {},
   "cell_type": "markdown",
   "id": "3c1e47f9",
   "metadata": {},
   "source": [
    "## Run script and close connections"
   ]
  },
  {
   "cell_type": "code",
   "execution_count": null,
   "id": "ba98aa94",
   "metadata": {},
   "outputs": [],
   "source": [
    "myriad.exec_command(f'qsub {HOME_DIR}/{SCRIPT_TO_RUN}')"
   ]
  },
  {
   "cell_type": "code",
   "execution_count": null,
   "id": "da7aa22a",
   "metadata": {},
   "outputs": [],
   "source": [
    "time.sleep(60)\n",
    "sftp.close()\n",
    "myriad.close()\n",
    "sshgat.close()"
   ]
  }
 ],
 "metadata": {
  "kernelspec": {
   "display_name": "Python 3 (ipykernel)",
   "language": "python",
   "name": "python3"
  },
  "language_info": {
   "codemirror_mode": {
    "name": "ipython",
    "version": 3
   },
   "file_extension": ".py",
   "mimetype": "text/x-python",
   "name": "python",
   "nbconvert_exporter": "python",
   "pygments_lexer": "ipython3",
   "version": "3.10.11"
  }
 },
 "nbformat": 4,
 "nbformat_minor": 5
}
