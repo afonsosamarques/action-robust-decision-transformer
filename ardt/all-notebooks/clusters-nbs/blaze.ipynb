{
 "cells": [
  {
   "cell_type": "code",
   "execution_count": null,
   "id": "decd8f79",
   "metadata": {},
   "outputs": [],
   "source": [
    "import os\n",
    "import sys\n",
    "\n",
    "dir = os.path.abspath('')\n",
    "while not dir.endswith('ardt'): dir = os.path.dirname(dir)\n",
    "if not dir in sys.path: sys.path.append(dir)"
   ]
  },
  {
   "cell_type": "code",
   "execution_count": null,
   "id": "c2bc9c2f",
   "metadata": {},
   "outputs": [],
   "source": [
    "import io\n",
    "import time\n",
    "\n",
    "import paramiko\n",
    "\n",
    "\n",
    "from utils.config_utils import find_root_dir\n",
    "\n",
    "from private_keys import KNUCKLES_PASSWORD, BLAZE_PRIVATE_KEY, GITHUB_PRIVATE_KEY"
   ]
  },
  {
   "cell_type": "code",
   "execution_count": null,
   "id": "5c5e15dc",
   "metadata": {},
   "outputs": [],
   "source": [
    "SCRIPT_TO_RUN = 'run_experiment_test.sh'  # 'run_experiment_1.sh', 'run_experiment_2.sh', etc."
   ]
  },
  {
   "attachments": {},
   "cell_type": "markdown",
   "id": "02eed4fe",
   "metadata": {},
   "source": [
    "## Connecting to Blaze"
   ]
  },
  {
   "cell_type": "code",
   "execution_count": null,
   "id": "693a20f6",
   "metadata": {},
   "outputs": [],
   "source": [
    "# Private key\n",
    "k = BLAZE_PRIVATE_KEY.strip()\n",
    "padding = len(k) % 4\n",
    "if padding > 0:\n",
    "    k += \"=\" * (4 - padding)\n",
    "private_key_file = io.StringIO(k)\n",
    "pkey = paramiko.RSAKey.from_private_key(private_key_file)\n",
    "\n",
    "# Establish SSH connection to the first server (knuckles)\n",
    "knuckles = paramiko.SSHClient()\n",
    "knuckles.set_missing_host_key_policy(paramiko.AutoAddPolicy())\n",
    "knuckles.connect('knuckles.cs.ucl.ac.uk', username='amarques', password=KNUCKLES_PASSWORD)\n",
    "\n",
    "# Use this connection to establish a second SSH connection to the second server (blaze)\n",
    "# Paramiko Transport is used here for nested ssh\n",
    "transport = knuckles.get_transport()\n",
    "dest_addr = ('blaze.cs.ucl.ac.uk', 22) # IP and port\n",
    "local_addr = ('knuckles.cs.ucl.ac.uk', 22) # IP and port\n",
    "jump = transport.open_channel(\"direct-tcpip\", dest_addr, local_addr)\n",
    "\n",
    "blaze = paramiko.SSHClient()\n",
    "blaze.set_missing_host_key_policy(paramiko.AutoAddPolicy())\n",
    "blaze.connect('blaze.cs.ucl.ac.uk', username='amarques', sock=jump, pkey=pkey)"
   ]
  },
  {
   "attachments": {},
   "cell_type": "markdown",
   "id": "7f1141c2",
   "metadata": {},
   "source": [
    "## Set up environment, code, files"
   ]
  },
  {
   "cell_type": "code",
   "execution_count": null,
   "id": "04e73ba1",
   "metadata": {},
   "outputs": [],
   "source": [
    "ardt_dir = find_root_dir()"
   ]
  },
  {
   "cell_type": "code",
   "execution_count": null,
   "id": "aac62b47",
   "metadata": {},
   "outputs": [],
   "source": [
    "# Run commands on the second server (blaze)\n",
    "blaze.exec_command(f'rm -rf /cs/student/msc/dsml/2022/amarques/action-robust-decision-transformer')\n",
    "blaze.exec_command(f'git clone https://{GITHUB_PRIVATE_KEY}@github.com/afonsosamarques/action-robust-decision-transformer.git')\n",
    "\n",
    "blaze.exec_command('source /usr/local/cuda/CUDA_VISIBILITY.csh')\n",
    "blaze.exec_command('source /opt/Python/Python-3.10.1_Setup.csh')\n",
    "\n",
    "blaze.exec_command('mkdir ardt-env')\n",
    "blaze.exec_command('python3.10 -m venv ./ardt-env/ardt')\n",
    "blaze.exec_command('source /cs/student/msc/dsml/2022/amarques/ardt-env/ardt/bin/activate.csh')\n",
    "\n",
    "blaze.exec_command('pip3 install --upgrade pip')\n",
    "blaze.exec_command('pip3 install -r /cs/student/msc/dsml/2022/amarques/action-robust-decision-transformer/requirements.txt')\n",
    "\n",
    "doc = f'{ardt_dir}/access_tokens.py'\n",
    "os.system(f\"rsync -avz {doc} amarques@knuckles.cs.ucl.ac.uk:/cs/student/msc/dsml/2022/amarques\")\n",
    "blaze.exec_command('mv ./access_tokens.py /cs/student/msc/dsml/2022/amarques/action-robust-decision-transformer/ardt')\n",
    "\n",
    "doc = f'{ardt_dir}/all-notebooks/clusters-nbs/other-run-scripts/{SCRIPT_TO_RUN}'\n",
    "os.system(f\"rsync -avz {doc} amarques@knuckles.cs.ucl.ac.uk:/cs/student/msc/dsml/2022/amarques\")\n",
    "blaze.exec_command(f'chmod +x {SCRIPT_TO_RUN}')\n",
    "\n",
    "doc = f'{ardt_dir}/ardt/datasets'\n",
    "os.system(f\"rsync -avz {doc} amarques@knuckles.cs.ucl.ac.uk:/cs/student/msc/dsml/2022/amarques\")\n",
    "\n",
    "blaze.exec_command('mkdir eval-outputs')\n",
    "blaze.exec_command('mkdir eval-outputs-pipeline')\n",
    "blaze.exec_command('mkdir eval-outputs-test')\n",
    "blaze.exec_command('mkdir agents')\n",
    "blaze.exec_command('mkdir agents-pipeline')\n",
    "blaze.exec_command('mkdir agents-test')\n",
    "blaze.exec_command('mkdir wandb')\n",
    "blaze.exec_command('mkdir wandb-json')"
   ]
  },
  {
   "attachments": {},
   "cell_type": "markdown",
   "id": "3c1e47f9",
   "metadata": {},
   "source": [
    "## Run script and close connections"
   ]
  },
  {
   "cell_type": "code",
   "execution_count": null,
   "id": "ba98aa94",
   "metadata": {},
   "outputs": [],
   "source": [
    "blaze.exec_command(\"/cs/student/msc/dsml/2022/amarques/\" + SCRIPT_TO_RUN)"
   ]
  },
  {
   "cell_type": "code",
   "execution_count": null,
   "id": "4d79bf5e",
   "metadata": {},
   "outputs": [],
   "source": [
    "time.sleep(60)\n",
    "blaze.close()\n",
    "knuckles.close()"
   ]
  }
 ],
 "metadata": {
  "kernelspec": {
   "display_name": "Python 3 (ipykernel)",
   "language": "python",
   "name": "python3"
  },
  "language_info": {
   "codemirror_mode": {
    "name": "ipython",
    "version": 3
   },
   "file_extension": ".py",
   "mimetype": "text/x-python",
   "name": "python",
   "nbconvert_exporter": "python",
   "pygments_lexer": "ipython3",
   "version": "3.10.11"
  }
 },
 "nbformat": 4,
 "nbformat_minor": 5
}
