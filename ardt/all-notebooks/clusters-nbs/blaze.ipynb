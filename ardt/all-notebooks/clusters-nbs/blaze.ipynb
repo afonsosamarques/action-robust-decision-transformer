{
 "cells": [
  {
   "cell_type": "code",
   "execution_count": null,
   "id": "decd8f79",
   "metadata": {},
   "outputs": [],
   "source": [
    "import os\n",
    "import sys\n",
    "\n",
    "dir = os.path.abspath('')\n",
    "while not dir.endswith('ardt'): dir = os.path.dirname(dir)\n",
    "if not dir in sys.path: sys.path.append(dir)"
   ]
  },
  {
   "cell_type": "code",
   "execution_count": null,
   "id": "c2bc9c2f",
   "metadata": {},
   "outputs": [],
   "source": [
    "import io\n",
    "import time\n",
    "\n",
    "import paramiko\n",
    "\n",
    "from utils.helpers import find_root_dir\n",
    "\n",
    "from private_keys import KNUCKLES_PASSWORD, BLAZE_PRIVATE_KEY, GITHUB_PRIVATE_KEY"
   ]
  },
  {
   "cell_type": "code",
   "execution_count": null,
   "id": "5c5e15dc",
   "metadata": {},
   "outputs": [],
   "source": [
    "SCRIPT_TO_RUN = 'run_experiment_test.sh'  # 'run_experiment_1.sh', 'run_experiment_2.sh', etc."
   ]
  },
  {
   "attachments": {},
   "cell_type": "markdown",
   "id": "02eed4fe",
   "metadata": {},
   "source": [
    "## Connecting to Blaze"
   ]
  },
  {
   "cell_type": "code",
   "execution_count": null,
   "id": "693a20f6",
   "metadata": {},
   "outputs": [],
   "source": [
    "# Private key\n",
    "k = BLAZE_PRIVATE_KEY.strip()\n",
    "padding = len(k) % 4\n",
    "if padding > 0:\n",
    "    k += \"=\" * (4 - padding)\n",
    "private_key_file = io.StringIO(k)\n",
    "pkey = paramiko.RSAKey.from_private_key(private_key_file)\n",
    "\n",
    "# Establish SSH connection to the first server (knuckles)\n",
    "knuckles = paramiko.SSHClient()\n",
    "knuckles.set_missing_host_key_policy(paramiko.AutoAddPolicy())\n",
    "knuckles.connect('knuckles.cs.ucl.ac.uk', username='amarques', password=KNUCKLES_PASSWORD)\n",
    "\n",
    "# Use this connection to establish a second SSH connection to the second server (blaze)\n",
    "# Paramiko Transport is used here for nested ssh\n",
    "transport = knuckles.get_transport()\n",
    "dest_addr = ('blaze.cs.ucl.ac.uk', 22) # IP and port\n",
    "local_addr = ('knuckles.cs.ucl.ac.uk', 22) # IP and port\n",
    "jump = transport.open_channel(\"direct-tcpip\", dest_addr, local_addr)\n",
    "\n",
    "blaze = paramiko.SSHClient()\n",
    "blaze.set_missing_host_key_policy(paramiko.AutoAddPolicy())\n",
    "blaze.connect('blaze.cs.ucl.ac.uk', username='amarques', sock=jump, pkey=pkey)"
   ]
  },
  {
   "attachments": {},
   "cell_type": "markdown",
   "id": "7f1141c2",
   "metadata": {},
   "source": [
    "## Set up environment, code, files"
   ]
  },
  {
   "cell_type": "code",
   "execution_count": null,
   "id": "04e73ba1",
   "metadata": {},
   "outputs": [],
   "source": [
    "HOME_DIR = \"/cs/student/msc/dsml/2022/amarques\"\n",
    "ARDT_DIR = find_root_dir()"
   ]
  },
  {
   "cell_type": "code",
   "execution_count": null,
   "id": "aac62b47",
   "metadata": {},
   "outputs": [],
   "source": [
    "blaze.exec_command('source /usr/local/cuda/CUDA_VISIBILITY.csh')\n",
    "time.sleep(20)\n",
    "\n",
    "blaze.exec_command('source /opt/Python/Python-3.10.1_Setup.csh')\n",
    "time.sleep(20)\n"
   ]
  },
  {
   "cell_type": "code",
   "execution_count": null,
   "id": "f4f8222d",
   "metadata": {},
   "outputs": [],
   "source": [
    "blaze.exec_command('mkdir ardt-env')\n",
    "time.sleep(5)\n",
    "\n",
    "blaze.exec_command(f'python3.10 -m venv {HOME_DIR}/ardt-env/ardt')\n",
    "time.sleep(20)\n",
    "\n",
    "blaze.exec_command(f'source {HOME_DIR}/ardt-env/ardt/bin/activate.csh')\n",
    "time.sleep(5)"
   ]
  },
  {
   "cell_type": "code",
   "execution_count": null,
   "id": "b73eef49",
   "metadata": {},
   "outputs": [],
   "source": [
    "blaze.exec_command(f'rm -rf {HOME_DIR}/action-robust-decision-transformer')\n",
    "blaze.exec_command(f'git clone https://{GITHUB_PRIVATE_KEY}@github.com/afonsosamarques/action-robust-decision-transformer.git')\n",
    "time.sleep(120)"
   ]
  },
  {
   "cell_type": "code",
   "execution_count": null,
   "id": "e775ead4",
   "metadata": {},
   "outputs": [],
   "source": [
    "blaze.exec_command('pip3 install --upgrade pip')\n",
    "time.sleep(10)\n",
    "\n",
    "blaze.exec_command(f'pip3 install -r {HOME_DIR}/action-robust-decision-transformer/requirements.txt')\n",
    "time.sleep(180)"
   ]
  },
  {
   "cell_type": "code",
   "execution_count": null,
   "id": "2fb0f1a6",
   "metadata": {},
   "outputs": [],
   "source": [
    "blaze.exec_command(f'mkdir {HOME_DIR}/action-robust-decision-transformer/ardt/eval-outputs')\n",
    "time.sleep(3)\n",
    "\n",
    "blaze.exec_command(f'mkdir {HOME_DIR}/action-robust-decision-transformer/ardt/eval-outputs-pipeline')\n",
    "time.sleep(3)\n",
    "\n",
    "blaze.exec_command(f'mkdir {HOME_DIR}/action-robust-decision-transformer/ardt/eval-outputs-test')\n",
    "time.sleep(3)\n",
    "\n",
    "blaze.exec_command(f'mkdir {HOME_DIR}/action-robust-decision-transformer/ardt/agents')\n",
    "time.sleep(3)\n",
    "\n",
    "blaze.exec_command(f'mkdir {HOME_DIR}/action-robust-decision-transformer/ardt/agents-pipeline')\n",
    "time.sleep(3)\n",
    "\n",
    "blaze.exec_command(f'mkdir {HOME_DIR}/action-robust-decision-transformer/ardt/agents-test')\n",
    "time.sleep(3)\n",
    "\n",
    "blaze.exec_command(f'mkdir {HOME_DIR}/action-robust-decision-transformer/ardt/wandb')\n",
    "time.sleep(3)\n",
    "\n",
    "blaze.exec_command(f'mkdir {HOME_DIR}/action-robust-decision-transformer/ardt/wandb-json')\n",
    "time.sleep(3)"
   ]
  },
  {
   "cell_type": "code",
   "execution_count": null,
   "id": "4932eb35",
   "metadata": {},
   "outputs": [],
   "source": [
    "src = f'{ARDT_DIR}/access_tokens.py'\n",
    "os.system(f\"rsync -av {src} amarques@knuckles.cs.ucl.ac.uk:{HOME_DIR}\")\n",
    "time.sleep(5)\n",
    "blaze.exec_command(f'mv {HOME_DIR}/access_tokens.py {HOME_DIR}/action-robust-decision-transformer/ardt')\n",
    "time.sleep(5)\n",
    "\n",
    "src = f'{ARDT_DIR}/all-notebooks/clusters-nbs/other-run-scripts/{SCRIPT_TO_RUN}'\n",
    "os.system(f\"rsync -av {src} amarques@knuckles.cs.ucl.ac.uk:{HOME_DIR}\")\n",
    "time.sleep(5)\n",
    "blaze.exec_command(f'chmod +x {HOME_DIR}/{SCRIPT_TO_RUN}')"
   ]
  },
  {
   "cell_type": "code",
   "execution_count": null,
   "id": "9e299204",
   "metadata": {},
   "outputs": [],
   "source": [
    "src = f'{ARDT_DIR}/ardt/datasets'\n",
    "os.system(f\"rsync -av {src} amarques@knuckles.cs.ucl.ac.uk:{HOME_DIR}\")"
   ]
  },
  {
   "attachments": {},
   "cell_type": "markdown",
   "id": "3c1e47f9",
   "metadata": {},
   "source": [
    "## Run script and close connections"
   ]
  },
  {
   "cell_type": "code",
   "execution_count": null,
   "id": "ba98aa94",
   "metadata": {},
   "outputs": [],
   "source": [
    "blaze.exec_command(f'cp -r {HOME_DIR}/datasets {HOME_DIR}/action-robust-decision-transformer/ardt && {HOME_DIR}/{SCRIPT_TO_RUN}')"
   ]
  },
  {
   "cell_type": "code",
   "execution_count": null,
   "id": "4d79bf5e",
   "metadata": {},
   "outputs": [],
   "source": [
    "time.sleep(600)\n",
    "blaze.close()\n",
    "knuckles.close()"
   ]
  }
 ],
 "metadata": {
  "kernelspec": {
   "display_name": "Python 3 (ipykernel)",
   "language": "python",
   "name": "python3"
  },
  "language_info": {
   "codemirror_mode": {
    "name": "ipython",
    "version": 3
   },
   "file_extension": ".py",
   "mimetype": "text/x-python",
   "name": "python",
   "nbconvert_exporter": "python",
   "pygments_lexer": "ipython3",
   "version": "3.10.11"
  }
 },
 "nbformat": 4,
 "nbformat_minor": 5
}
