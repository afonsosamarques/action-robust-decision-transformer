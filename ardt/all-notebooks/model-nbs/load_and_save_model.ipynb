{
 "cells": [
  {
   "cell_type": "code",
   "execution_count": 2,
   "metadata": {},
   "outputs": [],
   "source": [
    "import sys\n",
    "import os\n",
    "dir = os.path.abspath('')\n",
    "while not dir.endswith('ardt'): dir = os.path.dirname(dir)\n",
    "if not dir in sys.path: sys.path.append(dir)"
   ]
  },
  {
   "cell_type": "code",
   "execution_count": null,
   "metadata": {},
   "outputs": [],
   "source": [
    "from huggingface_hub import login\n",
    "from transformers import DecisionTransformerConfig\n",
    "\n",
    "from model.trainable_dt import TrainableDT\n",
    "from model.ardt_vanilla import SingleAgentRobustDT\n",
    "from model.ardt_full import TwoAgentRobustDT\n",
    "\n",
    "from utils.config_utils import find_root_dir\n",
    "\n",
    "from access_tokens import HF_WRITE_TOKEN"
   ]
  },
  {
   "cell_type": "code",
   "execution_count": null,
   "metadata": {},
   "outputs": [],
   "source": [
    "login(HF_WRITE_TOKEN)"
   ]
  },
  {
   "cell_type": "code",
   "execution_count": null,
   "metadata": {},
   "outputs": [],
   "source": [
    "ARDT_DIR = find_root_dir()"
   ]
  },
  {
   "cell_type": "code",
   "execution_count": null,
   "metadata": {},
   "outputs": [],
   "source": [
    "model_name = \"dt_halfcheetah-rarl_v1\"\n",
    "config = DecisionTransformerConfig.from_pretrained(f\"ARDT-Project/{model_name}\", use_auth_token=True)\n",
    "model = TrainableDT(config)\n",
    "model = model.from_pretrained(f\"ARDT-Project/{model_name}\", use_auth_token=True)\n",
    "model.save_pretrained(f\"{ARDT_DIR}/{model_name}\", use_auth_token=True)"
   ]
  }
 ],
 "metadata": {
  "kernelspec": {
   "display_name": "fp-adt",
   "language": "python",
   "name": "python3"
  },
  "language_info": {
   "codemirror_mode": {
    "name": "ipython",
    "version": 3
   },
   "file_extension": ".py",
   "mimetype": "text/x-python",
   "name": "python",
   "nbconvert_exporter": "python",
   "pygments_lexer": "ipython3",
   "version": "3.10.11"
  },
  "orig_nbformat": 4
 },
 "nbformat": 4,
 "nbformat_minor": 2
}
