{
 "cells": [
  {
   "cell_type": "code",
   "execution_count": 3,
   "metadata": {},
   "outputs": [],
   "source": [
    "import numpy as np\n",
    "\n",
    "from datasets import load_dataset, save_to_disk\n",
    "from huggingface_hub import login\n",
    "\n",
    "#\n",
    "import warnings\n",
    "warnings.filterwarnings('ignore')\n",
    "\n",
    "import sys\n",
    "import os\n",
    "dir2 = os.path.abspath('')\n",
    "dir1 = os.path.dirname(dir2)\n",
    "if not dir1 in sys.path: sys.path.append(dir1)\n",
    "from access_tokens import WRITE_TOKEN"
   ]
  },
  {
   "cell_type": "code",
   "execution_count": 4,
   "metadata": {},
   "outputs": [
    {
     "name": "stdout",
     "output_type": "stream",
     "text": [
      "Token will not been saved to git credential helper. Pass `add_to_git_credential=True` if you want to set the git credential as well.\n",
      "Token is valid.\n",
      "Your token has been saved to /Users/afonsosamarques/.cache/huggingface/token\n",
      "Login successful\n"
     ]
    }
   ],
   "source": [
    "login(token=WRITE_TOKEN)"
   ]
  },
  {
   "cell_type": "code",
   "execution_count": 5,
   "metadata": {},
   "outputs": [],
   "source": [
    "envs = {\n",
    "    0: \"walker2d-expert-v2\",\n",
    "    1: \"halfcheetah-expert-v2\",\n",
    "}\n",
    "\n",
    "chosen_env = envs[1]"
   ]
  },
  {
   "cell_type": "code",
   "execution_count": 6,
   "metadata": {},
   "outputs": [
    {
     "name": "stderr",
     "output_type": "stream",
     "text": [
      "Found cached dataset decision_transformer_gym_replay (/Users/afonsosamarques/.cache/huggingface/datasets/edbeeching___decision_transformer_gym_replay/halfcheetah-expert-v2/1.1.0/8a8520881dd09333b04f5a116dd47931314ec44b72597bce8675d40ccd42ad88)\n"
     ]
    },
    {
     "data": {
      "application/vnd.jupyter.widget-view+json": {
       "model_id": "701bea15971c4c3e89154073ccfce003",
       "version_major": 2,
       "version_minor": 0
      },
      "text/plain": [
       "  0%|          | 0/1 [00:00<?, ?it/s]"
      ]
     },
     "metadata": {},
     "output_type": "display_data"
    }
   ],
   "source": [
    "dataset = load_dataset(\"edbeeching/decision_transformer_gym_replay\", chosen_env)['train']"
   ]
  },
  {
   "cell_type": "code",
   "execution_count": null,
   "metadata": {},
   "outputs": [],
   "source": [
    "total_max = 0\n",
    "total_min = 0\n",
    "\n",
    "for t in dataset:\n",
    "    total_max = max(total_max, np.sum(t['rewards']))\n",
    "    total_min = min(total_min, np.sum(t['rewards']))\n",
    "    \n",
    "print(\"Max total reward:\", total_max)\n",
    "print(\"Min total reward:\", total_min)"
   ]
  },
  {
   "cell_type": "code",
   "execution_count": null,
   "metadata": {},
   "outputs": [],
   "source": [
    "# run if we want to add a 0 adversary\n",
    "pr_actions = dataset['actions']\n",
    "new_pr_actions = []\n",
    "adv_actions =[]\n",
    "for tr in pr_actions:\n",
    "    pr_l = []\n",
    "    adv_l = []\n",
    "    for a in tr:\n",
    "        adv = np.array(a) * 0\n",
    "        pr = np.array(a)\n",
    "        pr_l.append(list(pr))\n",
    "        adv_l.append(list(adv))\n",
    "    new_pr_actions.append(pr_l)\n",
    "    adv_actions.append(adv_l)\n",
    "\n",
    "dataset = dataset.add_column('pr_actions', new_pr_actions)\n",
    "dataset = dataset.add_column('adv_actions', adv_actions)\n",
    "dataset = dataset.remove_columns(['actions'])\n",
    "dataset.save_to_disk(f'./datasets/d4rl_{chosen_env.replace(\"-v2\", \"\").replace(\"-\", \"_\")}')"
   ]
  },
  {
   "cell_type": "code",
   "execution_count": null,
   "metadata": {},
   "outputs": [],
   "source": [
    "# # run if we want to add a noisy random adversary\n",
    "# pr_actions = dataset['actions']\n",
    "# new_pr_actions = []\n",
    "# adv_actions =[]\n",
    "# for tr in pr_actions:\n",
    "#     pr_l = []\n",
    "#     adv_l = []\n",
    "#     for a in tr:\n",
    "#         adv = np.array(a) * 0.1 * np.random.choice([-1, 1], size=len(a)) * np.random.rand(len(a))\n",
    "#         pr = np.array(a) + adv\n",
    "#         pr_l.append(list(pr))\n",
    "#         adv_l.append(list(adv))\n",
    "#     new_pr_actions.append(pr_l)\n",
    "#     adv_actions.append(adv_l)\n",
    "\n",
    "# dataset = dataset.add_column('pr_actions', new_pr_actions)\n",
    "# dataset = dataset.add_column('adv_actions', adv_actions)\n",
    "# dataset = dataset.remove_columns(['actions'])\n",
    "# dataset.save_to_disk(f'./datasets/d4rl_{chosen_env.replace(\"-v2\", \"\").replace(\"-\", \"_\")}_noisy')"
   ]
  }
 ],
 "metadata": {
  "kernelspec": {
   "display_name": "fp-adt",
   "language": "python",
   "name": "python3"
  },
  "language_info": {
   "codemirror_mode": {
    "name": "ipython",
    "version": 3
   },
   "file_extension": ".py",
   "mimetype": "text/x-python",
   "name": "python",
   "nbconvert_exporter": "python",
   "pygments_lexer": "ipython3",
   "version": "3.10.11"
  },
  "orig_nbformat": 4
 },
 "nbformat": 4,
 "nbformat_minor": 2
}
