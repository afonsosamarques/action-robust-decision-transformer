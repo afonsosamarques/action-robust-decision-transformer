{
 "cells": [
  {
   "cell_type": "code",
   "execution_count": null,
   "metadata": {},
   "outputs": [],
   "source": [
    "import numpy as np\n",
    "\n",
    "from datasets import load_dataset\n",
    "from huggingface_hub import login\n",
    "\n",
    "#\n",
    "import warnings\n",
    "warnings.filterwarnings('ignore')\n",
    "\n",
    "import sys\n",
    "import os\n",
    "dir2 = os.path.abspath('')\n",
    "dir1 = os.path.dirname(dir2)\n",
    "if not dir1 in sys.path: sys.path.append(dir1)\n",
    "from access_tokens import HF_WRITE_TOKEN"
   ]
  },
  {
   "cell_type": "code",
   "execution_count": null,
   "metadata": {},
   "outputs": [],
   "source": [
    "login(token=HF_WRITE_TOKEN)"
   ]
  },
  {
   "cell_type": "code",
   "execution_count": null,
   "metadata": {},
   "outputs": [],
   "source": [
    "envs = {\n",
    "    0: \"walker2d-expert-v2\",\n",
    "    1: \"halfcheetah-expert-v2\",\n",
    "}\n",
    "\n",
    "chosen_env = envs[1]"
   ]
  },
  {
   "cell_type": "code",
   "execution_count": null,
   "metadata": {},
   "outputs": [],
   "source": [
    "dataset = load_dataset(\"edbeeching/decision_transformer_gym_replay\", chosen_env)['train']"
   ]
  },
  {
   "cell_type": "code",
   "execution_count": null,
   "metadata": {},
   "outputs": [],
   "source": [
    "total_max = 0\n",
    "total_min = 0\n",
    "\n",
    "for t in dataset:\n",
    "    total_max = max(total_max, np.sum(t['rewards']))\n",
    "    total_min = min(total_min, np.sum(t['rewards']))\n",
    "    \n",
    "print(\"Max total reward:\", total_max)\n",
    "print(\"Min total reward:\", total_min)"
   ]
  },
  {
   "cell_type": "code",
   "execution_count": null,
   "metadata": {},
   "outputs": [],
   "source": [
    "# run if we want to add a 0 adversary\n",
    "pr_actions = dataset['actions']\n",
    "new_pr_actions = []\n",
    "adv_actions =[]\n",
    "for tr in pr_actions:\n",
    "    pr_l = []\n",
    "    adv_l = []\n",
    "    for a in tr:\n",
    "        adv = np.array(a) * 0\n",
    "        pr = np.array(a)\n",
    "        pr_l.append(list(pr))\n",
    "        adv_l.append(list(adv))\n",
    "    new_pr_actions.append(pr_l)\n",
    "    adv_actions.append(adv_l)\n",
    "\n",
    "dataset = dataset.add_column('pr_actions', new_pr_actions)\n",
    "dataset = dataset.add_column('adv_actions', adv_actions)\n",
    "dataset = dataset.remove_columns(['actions'])\n",
    "dataset.save_to_disk(f'./datasets/d4rl_{chosen_env.replace(\"-v2\", \"\").replace(\"-\", \"_\")}')"
   ]
  },
  {
   "cell_type": "code",
   "execution_count": null,
   "metadata": {},
   "outputs": [],
   "source": [
    "# # run if we want to add a noisy random adversary\n",
    "# pr_actions = dataset['actions']\n",
    "# new_pr_actions = []\n",
    "# adv_actions =[]\n",
    "# for tr in pr_actions:\n",
    "#     pr_l = []\n",
    "#     adv_l = []\n",
    "#     for a in tr:\n",
    "#         adv = np.array(a) * 0.1 * np.random.choice([-1, 1], size=len(a)) * np.random.rand(len(a))\n",
    "#         pr = np.array(a) + adv\n",
    "#         pr_l.append(list(pr))\n",
    "#         adv_l.append(list(adv))\n",
    "#     new_pr_actions.append(pr_l)\n",
    "#     adv_actions.append(adv_l)\n",
    "\n",
    "# dataset = dataset.add_column('pr_actions', new_pr_actions)\n",
    "# dataset = dataset.add_column('adv_actions', adv_actions)\n",
    "# dataset = dataset.remove_columns(['actions'])\n",
    "# dataset.save_to_disk(f'./datasets/d4rl_{chosen_env.replace(\"-v2\", \"\").replace(\"-\", \"_\")}_noisy')"
   ]
  }
 ],
 "metadata": {
  "kernelspec": {
   "display_name": "fp-adt",
   "language": "python",
   "name": "python3"
  },
  "language_info": {
   "codemirror_mode": {
    "name": "ipython",
    "version": 3
   },
   "file_extension": ".py",
   "mimetype": "text/x-python",
   "name": "python",
   "nbconvert_exporter": "python",
   "pygments_lexer": "ipython3",
   "version": "3.10.11"
  },
  "orig_nbformat": 4
 },
 "nbformat": 4,
 "nbformat_minor": 2
}
