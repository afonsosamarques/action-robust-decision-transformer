{
 "cells": [
  {
   "cell_type": "code",
   "execution_count": null,
   "metadata": {},
   "outputs": [],
   "source": [
    "import numpy as np\n",
    "import matplotlib.pyplot as plt\n",
    "import seaborn as sns\n",
    "\n",
    "from datasets import load_dataset, load_from_disk\n",
    "from huggingface_hub import login\n",
    "\n",
    "#\n",
    "import warnings\n",
    "warnings.filterwarnings('ignore')\n",
    "\n",
    "import sys\n",
    "import os\n",
    "dir2 = os.path.abspath('')\n",
    "dir1 = os.path.dirname(dir2)\n",
    "if not dir1 in sys.path: sys.path.append(dir1)\n",
    "from access_tokens import HF_WRITE_TOKEN"
   ]
  },
  {
   "cell_type": "code",
   "execution_count": null,
   "metadata": {},
   "outputs": [],
   "source": [
    "dataset_name = \"rarl_halfcheetah_v1\"\n",
    "# dataset_name = \"d4rl_expert_halfcheetah\"\n",
    "\n",
    "dataset = load_from_disk(f\"../datasets/{dataset_name}\")\n",
    "\n",
    "# login(token=HF_WRITE_TOKEN)\n",
    "# dataset = load_dataset(f\"afonsosamarques/{dataset_name}\")\n",
    "\n",
    "dataset"
   ]
  },
  {
   "cell_type": "code",
   "execution_count": null,
   "metadata": {},
   "outputs": [],
   "source": [
    "returns = (np.array(dataset['rewards'])).sum(axis=1)\n",
    "sns.distplot(returns);"
   ]
  },
  {
   "cell_type": "code",
   "execution_count": null,
   "metadata": {},
   "outputs": [],
   "source": [
    "pr_actions = np.array(dataset['pr_actions'])\n",
    "for i in range(pr_actions.shape[2]):\n",
    "    print(\"===============================\")\n",
    "    # print(\"Action dimension: \", i+1)\n",
    "    # print(\"Min:\", np.min(pr_actions[:, :, i]))\n",
    "    # print(\"Median:\", np.median(pr_actions[:, :, i]))\n",
    "    # print(\"Max:\", np.max(pr_actions[:, :, i]))\n",
    "    # print(\"Mean:\", np.mean(pr_actions[:, :, i]))\n",
    "    plt.figure()\n",
    "    sns.displot(pr_actions[:, :, i].reshape(-1, 1).squeeze())\n",
    "    plt.show();"
   ]
  },
  {
   "cell_type": "code",
   "execution_count": null,
   "metadata": {},
   "outputs": [],
   "source": [
    "adv_actions = np.array(dataset['adv_actions'])\n",
    "for i in range(adv_actions.shape[2]):\n",
    "    print(\"===============================\")\n",
    "    # print(\"Action dimension: \", i+1)\n",
    "    # print(\"Min:\", np.min(adv_actions[:, :, i]))\n",
    "    # print(\"Median:\", np.median(adv_actions[:, :, i]))\n",
    "    # print(\"Max:\", np.max(adv_actions[:, :, i]))\n",
    "    # print(\"Mean:\", np.mean(adv_actions[:, :, i]))\n",
    "    plt.figure()\n",
    "    sns.displot(adv_actions[:, :, i].reshape(-1, 1).squeeze())\n",
    "    plt.show();"
   ]
  }
 ],
 "metadata": {
  "kernelspec": {
   "display_name": "fp-adt",
   "language": "python",
   "name": "python3"
  },
  "language_info": {
   "codemirror_mode": {
    "name": "ipython",
    "version": 3
   },
   "file_extension": ".py",
   "mimetype": "text/x-python",
   "name": "python",
   "nbconvert_exporter": "python",
   "pygments_lexer": "ipython3",
   "version": "3.10.11"
  },
  "orig_nbformat": 4
 },
 "nbformat": 4,
 "nbformat_minor": 2
}
