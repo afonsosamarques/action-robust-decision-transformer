{
 "cells": [
  {
   "cell_type": "code",
   "execution_count": null,
   "metadata": {},
   "outputs": [],
   "source": [
    "import numpy as np\n",
    "import pickle\n",
    "\n",
    "from collections import defaultdict\n",
    "from datasets import Dataset"
   ]
  },
  {
   "cell_type": "code",
   "execution_count": null,
   "metadata": {},
   "outputs": [],
   "source": [
    "filepath = \"../datasets/rarl-halfcheetah-v1/env-HalfCheetahAdv-v1_Exp1_Itr300_BS4000_Adv0.25_stp0.01_lam0.97_609920.ppaths_list.p\"\n",
    "\n",
    "with (open(filepath, \"rb\")) as f:\n",
    "    data = pickle.load(f)"
   ]
  },
  {
   "cell_type": "code",
   "execution_count": null,
   "metadata": {},
   "outputs": [],
   "source": [
    "# print(len(data), \"->\", type(data))\n",
    "# print(len(data[0]), \"->\", type(data[0]))\n",
    "# print(len(data[0][0]), \"->\", type(data[0][0]))\n",
    "# print(len(data[0][0][0]), \"->\", type(data[0][0][0]))\n",
    "# print((data[0][0][0]).keys())"
   ]
  },
  {
   "cell_type": "code",
   "execution_count": null,
   "metadata": {},
   "outputs": [],
   "source": [
    "# flatten first three dimensions: each sub-trajectory becomes a length 1000 trajectory\n",
    "orig_data = []\n",
    "trajectories = []\n",
    "for l in data:\n",
    "    l_inner = l[0]\n",
    "    for p in l_inner:\n",
    "        d = {}\n",
    "        d['observations'] = p['observations']\n",
    "        d['pr_actions'] = p['pro_actions']\n",
    "        d['adv_actions'] = p['adv_actions']\n",
    "        d['rewards'] = p['rewards']\n",
    "        d['dones'] = list(map(bool, list(np.zeros_like((1000,)))))\n",
    "        trajectories.append(d)\n",
    "        orig_data.append(p)"
   ]
  },
  {
   "cell_type": "code",
   "execution_count": null,
   "metadata": {},
   "outputs": [],
   "source": [
    "# for k, v in orig_data[0].items():\n",
    "#     print(\"===========\")\n",
    "#     print(k)\n",
    "#     print(type(v))\n",
    "#     print(len(v))\n",
    "\n",
    "# print(\"===========\")\n",
    "# print(orig_data[0]['pro_agent_infos'].keys())\n",
    "# print(orig_data[0]['adv_agent_infos'].keys())\n",
    "# print(orig_data[0]['env_infos'].keys())"
   ]
  },
  {
   "cell_type": "code",
   "execution_count": null,
   "metadata": {},
   "outputs": [],
   "source": [
    "# reward_run_max = 0\n",
    "# reward_ctrl_min = 0\n",
    "# total_max = 0\n",
    "# total_min = 0\n",
    "\n",
    "# for t in orig_data:\n",
    "#     reward_run_max = max(reward_run_max, np.sum(t['env_infos']['reward_run']))\n",
    "#     reward_ctrl_min = min(reward_ctrl_min, np.sum(t['env_infos']['reward_ctrl']))\n",
    "#     total_max =  max(total_max, np.sum(t['env_infos']['reward_ctrl'])+np.sum(t['env_infos']['reward_run']))\n",
    "#     total_min =  min(total_min, np.sum(t['env_infos']['reward_ctrl'])+np.sum(t['env_infos']['reward_run']))\n",
    "    \n",
    "# print(\"Max run reward:\", reward_run_max)\n",
    "# print(\"Min ctrl reward:\", reward_ctrl_min)\n",
    "# print(\"Max total reward:\", total_max)\n",
    "# print(\"Min total reward:\", total_min)"
   ]
  },
  {
   "cell_type": "code",
   "execution_count": null,
   "metadata": {},
   "outputs": [],
   "source": [
    "d = defaultdict(list)\n",
    "for t in trajectories:\n",
    "    d['observations'].append(t['observations'])\n",
    "    d['pr_actions'].append(t['pr_actions'])\n",
    "    d['adv_actions'].append(t['adv_actions'])\n",
    "    d['rewards'].append(t['rewards'])\n",
    "    d['dones'].append(t['dones'])\n",
    "\n",
    "ds = Dataset.from_dict(d)\n",
    "print(ds)"
   ]
  },
  {
   "cell_type": "code",
   "execution_count": null,
   "metadata": {},
   "outputs": [],
   "source": [
    "ds.save_to_disk('../datasets/rarl_halfcheetah_v1')"
   ]
  }
 ],
 "metadata": {
  "kernelspec": {
   "display_name": "fp-adt",
   "language": "python",
   "name": "python3"
  },
  "language_info": {
   "codemirror_mode": {
    "name": "ipython",
    "version": 3
   },
   "file_extension": ".py",
   "mimetype": "text/x-python",
   "name": "python",
   "nbconvert_exporter": "python",
   "pygments_lexer": "ipython3",
   "version": "3.10.11"
  },
  "orig_nbformat": 4
 },
 "nbformat": 4,
 "nbformat_minor": 2
}
