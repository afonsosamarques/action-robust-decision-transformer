{
  "cells": [
    {
      "cell_type": "code",
      "execution_count": null,
      "metadata": {},
      "outputs": [],
      "source": [
        "import gymnasium as gym\n",
        "import numpy as np\n",
        "import torch\n",
        "\n",
        "from huggingface_hub import login\n",
        "from transformers import DecisionTransformerConfig\n",
        "\n",
        "from model.ardt_vanilla import SingleAgentRobustDT\n",
        "from model.ardt_full import TwoAgentRobustDT\n",
        "from model.trainable_dt import TrainableDT\n",
        "from utils.render_frame import RenderFrame\n",
        "\n",
        "from utils.helpers import set_seed_everywhere\n",
        "\n",
        "#\n",
        "import warnings\n",
        "warnings.filterwarnings('ignore')\n",
        "\n",
        "from access_tokens import HF_WRITE_TOKEN"
      ]
    },
    {
      "attachments": {},
      "cell_type": "markdown",
      "metadata": {},
      "source": [
        "## Config"
      ]
    },
    {
      "cell_type": "code",
      "execution_count": null,
      "metadata": {},
      "outputs": [],
      "source": [
        "envs_in_gym = {\n",
        "    0: \"Walker2d-v4\",\n",
        "    1: \"HalfCheetah-v4\",\n",
        "}\n",
        "\n",
        "default_tr_per_1000 = {\n",
        "    \"Walker2d-v4\": 5000,\n",
        "    \"HalfCheetah-v4\": 12000  # 6000 in DT!!!!\n",
        "}\n",
        "\n",
        "chosen_env = envs_in_gym[1]\n",
        "env_target_per_1000 = default_tr_per_1000[chosen_env]"
      ]
    },
    {
      "cell_type": "code",
      "execution_count": null,
      "metadata": {},
      "outputs": [],
      "source": [
        "hf_model_to_use = \"ardt_full_all_plus_adv_d4rl\"\n",
        "# hf_model_to_use = \"ardt_vanilla_all_plus_adv_d4rl\"\n",
        "# hf_model_to_use = \"dt-halfcheetah-v2\"\n",
        "\n",
        "agent = {\n",
        "    0: SingleAgentRobustDT,\n",
        "    1: TwoAgentRobustDT,\n",
        "    2: TrainableDT\n",
        "}\n",
        "\n",
        "chosen_agent = agent[0] if hf_model_to_use.startswith(\"ardt_vanilla\") else (agent[1] if hf_model_to_use.startswith(\"ardt_full\") else (agent[2 if hf_model_to_use.startswith(\"dt\") else None]))\n",
        "if chosen_agent is None:\n",
        "    raise Exception(\"Model not available.\")\n",
        "elif hf_model_to_use.startswith(\"dt\"):\n",
        "    is_adv = False\n",
        "else:\n",
        "    is_adv = True\n",
        "\n",
        "print(chosen_agent)\n",
        "print(is_adv)"
      ]
    },
    {
      "attachments": {},
      "cell_type": "markdown",
      "metadata": {},
      "source": [
        "## Loading model"
      ]
    },
    {
      "cell_type": "code",
      "execution_count": null,
      "metadata": {},
      "outputs": [],
      "source": [
        "# # from HF\n",
        "# login(token=HF_WRITE_TOKEN)\n",
        "# config = DecisionTransformerConfig.from_pretrained(f\"afonsosamarques/{hf_model_to_use}\", use_auth_token=True)\n",
        "# model = chosen_agent(config)\n",
        "# model = model.from_pretrained(f\"afonsosamarques/{hf_model_to_use}\", use_auth_token=True)\n",
        "# model_name = model.config._name_or_path.split(\"-\")[-1]\n",
        "\n",
        "# from local\n",
        "config = DecisionTransformerConfig.from_pretrained(f\"./agents-pipeline/{hf_model_to_use}\", use_auth_token=True)\n",
        "model = chosen_agent(config)\n",
        "model = model.from_pretrained(f\"./agents-pipeline/{hf_model_to_use}\", use_auth_token=True)\n",
        "model_name = model.config._name_or_path.split(\"/\")[-1]\n",
        "\n",
        "device = torch.device(\"mps\" if torch.backends.mps.is_available() else \"cpu\")\n",
        "model.to(device)"
      ]
    },
    {
      "attachments": {},
      "cell_type": "markdown",
      "metadata": {},
      "source": [
        "## Testing model"
      ]
    },
    {
      "cell_type": "code",
      "execution_count": null,
      "metadata": {},
      "outputs": [],
      "source": [
        "def sample_env_params(env):\n",
        "    mb = env.model.body_mass\n",
        "    mb = torch.tensor(mb)\n",
        "    gauss = torch.distributions.Normal(mb, torch.ones_like(mb)*1.0)\n",
        "    mb = gauss.sample()\n",
        "    env.model.body_mass = np.array(mb)\n",
        "    \n",
        "    mb = env.model.opt.gravity\n",
        "    mb = torch.tensor(mb)\n",
        "    gauss = torch.distributions.Normal(mb, torch.ones_like(mb)*1.0)\n",
        "    mb = gauss.sample()\n",
        "    env.model.opt.gravity = np.array(mb)\n",
        "\n",
        "    mb = env.model.geom_friction\n",
        "    mb = torch.tensor(mb)\n",
        "    gauss = torch.distributions.Normal(mb, torch.ones_like(mb)*0.1)\n",
        "    mb = gauss.sample()\n",
        "    env.model.geom_friction = np.array(mb)\n",
        "\n",
        "    return env"
      ]
    },
    {
      "cell_type": "code",
      "execution_count": null,
      "metadata": {},
      "outputs": [],
      "source": [
        "rets = []\n",
        "for i in range(10):\n",
        "    with torch.no_grad():\n",
        "        seed = (i+1)*2\n",
        "        env = gym.make(chosen_env, render_mode=\"rgb_array\")\n",
        "        set_seed_everywhere(seed, env)\n",
        "        \n",
        "        env = sample_env_params(env)\n",
        "        print(\"Checking that sampling worked: \")\n",
        "        print(env.model.opt.gravity, \"\\n\")\n",
        "        \n",
        "        # env = RenderFrame(env, \"./env-sims/\" + model_name)\n",
        "        state, _ = env.reset()\n",
        "\n",
        "        returns_scale = model.config.returns_scale if \"returns_scale\" in model.config.to_dict().keys() else 1000.0  # NOTE compatibility\n",
        "        episode_return, episode_length = 0, 0\n",
        "        target_return = torch.tensor(env_target_per_1000/returns_scale, device=device, dtype=torch.float32).reshape(1, 1)\n",
        "        states = torch.from_numpy(state).reshape(1, model.config.state_dim).to(device=device, dtype=torch.float32)\n",
        "        if is_adv:\n",
        "            pr_actions = torch.zeros((0, model.config.pr_act_dim), device=device, dtype=torch.float32)\n",
        "            adv_actions = torch.zeros((0, model.config.adv_act_dim), device=device, dtype=torch.float32)\n",
        "        else:\n",
        "            actions = torch.zeros((0, model.config.act_dim), device=device, dtype=torch.float32)\n",
        "        rewards = torch.zeros(0, device=device, dtype=torch.float32)\n",
        "        timesteps = torch.tensor(0, device=device, dtype=torch.long).reshape(1, 1)\n",
        "\n",
        "        for t in range(model.config.max_ep_len):\n",
        "            if is_adv:\n",
        "                pr_actions = torch.cat([pr_actions, torch.zeros((1, model.config.pr_act_dim), device=device)], dim=0)\n",
        "                adv_actions = torch.cat([adv_actions, torch.zeros((1, model.config.adv_act_dim), device=device)], dim=0)\n",
        "            else:\n",
        "                actions = torch.cat([actions, torch.zeros((1, model.config.act_dim), device=device)], dim=0)\n",
        "        \n",
        "            rewards = torch.cat([rewards, torch.zeros(1, device=device)])\n",
        "\n",
        "            if is_adv:\n",
        "                pr_action, adv_action = model.get_action(\n",
        "                    states,\n",
        "                    pr_actions,\n",
        "                    adv_actions,\n",
        "                    rewards,\n",
        "                    target_return,\n",
        "                    timesteps,\n",
        "                    device,\n",
        "                )\n",
        "                pr_actions[-1] = pr_action\n",
        "                adv_actions[-1] = adv_action\n",
        "                action = pr_action.detach().cpu().numpy()\n",
        "            else:\n",
        "                action = model.get_action(\n",
        "                    states,\n",
        "                    actions,\n",
        "                    rewards,\n",
        "                    target_return,\n",
        "                    timesteps,\n",
        "                    device,\n",
        "                )\n",
        "                actions[-1] = action\n",
        "                action = action.detach().cpu().numpy()\n",
        "\n",
        "            state, reward, done, _, _ = env.step(action)\n",
        "\n",
        "            cur_state = torch.from_numpy(state.astype(np.float32)).to(device=device).reshape(1, model.config.state_dim)\n",
        "            states = torch.cat([states, cur_state], dim=0)\n",
        "            rewards[-1] = reward\n",
        "\n",
        "            pred_return = target_return[0, -1] - (reward / returns_scale)\n",
        "            target_return = torch.cat([target_return, pred_return.reshape(1, 1)], dim=1)\n",
        "            timesteps = torch.cat([timesteps, torch.ones((1, 1), device=device, dtype=torch.long) * (t + 1)], dim=1)\n",
        "\n",
        "            episode_return += reward\n",
        "            episode_length += 1\n",
        "\n",
        "            if done or t == model.config.max_ep_len - 1:\n",
        "                rets.append(episode_return)\n",
        "                break\n",
        "\n",
        "    print(\"Mean episode return: \", np.mean(rets))\n",
        "    print(\"Std episode return: \", np.std(rets))\n",
        "    print(\"Median episode return: \", np.median(rets))\n",
        "    print(\"Max episode return: \", np.max(rets))\n",
        "    print(\"Min episode return: \", np.min(rets))\n",
        "    "
      ]
    },
    {
      "cell_type": "code",
      "execution_count": null,
      "metadata": {},
      "outputs": [],
      "source": [
        "# env.play()"
      ]
    }
  ],
  "metadata": {
    "accelerator": "GPU",
    "colab": {
      "provenance": []
    },
    "gpuClass": "standard",
    "kernelspec": {
      "display_name": "Python 3",
      "name": "python3"
    },
    "language_info": {
      "codemirror_mode": {
        "name": "ipython",
        "version": 3
      },
      "file_extension": ".py",
      "mimetype": "text/x-python",
      "name": "python",
      "nbconvert_exporter": "python",
      "pygments_lexer": "ipython3",
      "version": "3.10.11"
    }
  },
  "nbformat": 4,
  "nbformat_minor": 0
}
