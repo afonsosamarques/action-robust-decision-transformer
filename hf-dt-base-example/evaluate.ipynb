{
  "cells": [
    {
      "cell_type": "code",
      "execution_count": null,
      "metadata": {},
      "outputs": [],
      "source": [
        "import numpy as np\n",
        "import torch\n",
        "import gymnasium as gym\n",
        "import renderlab as rl\n",
        "\n",
        "from huggingface_hub import login\n",
        "from transformers import DecisionTransformerConfig\n",
        "\n",
        "from trainable_dt import TrainableDT\n",
        "\n",
        "#\n",
        "import warnings\n",
        "warnings.filterwarnings('ignore')\n",
        "\n",
        "from access_tokens import WRITE_TOKEN"
      ]
    },
    {
      "cell_type": "code",
      "execution_count": null,
      "metadata": {},
      "outputs": [],
      "source": [
        "login(WRITE_TOKEN)"
      ]
    },
    {
      "attachments": {},
      "cell_type": "markdown",
      "metadata": {},
      "source": [
        "## Config"
      ]
    },
    {
      "cell_type": "code",
      "execution_count": null,
      "metadata": {},
      "outputs": [],
      "source": [
        "hf_model_to_use = \"dt-halfcheetah-rarl\"\n",
        "\n",
        "envs_in_gym = {\n",
        "    0: \"Walker2d-v4\",\n",
        "    1: \"HalfCheetah-v4\",\n",
        "}\n",
        "\n",
        "default_tr_per_1000 = {\n",
        "    \"Walker2d-v4\": 7200,\n",
        "    \"HalfCheetah-v4\": 12000\n",
        "}\n",
        "\n",
        "chosen_env = envs_in_gym[1]\n",
        "env_target_per_1000 = default_tr_per_1000[chosen_env]"
      ]
    },
    {
      "attachments": {},
      "cell_type": "markdown",
      "metadata": {},
      "source": [
        "## Loading model"
      ]
    },
    {
      "cell_type": "code",
      "execution_count": null,
      "metadata": {},
      "outputs": [],
      "source": [
        "device = torch.device(\"mps\" if torch.backends.mps.is_available() else \"cpu\")\n",
        "config = DecisionTransformerConfig.from_pretrained(f\"afonsosamarques/{hf_model_to_use}\", use_auth_token=True)\n",
        "model = TrainableDT(config)\n",
        "model = model.from_pretrained(f\"afonsosamarques/{hf_model_to_use}\", use_auth_token=True)"
      ]
    },
    {
      "attachments": {},
      "cell_type": "markdown",
      "metadata": {},
      "source": [
        "## Testing model"
      ]
    },
    {
      "cell_type": "code",
      "execution_count": null,
      "metadata": {},
      "outputs": [],
      "source": [
        "with torch.no_grad():\n",
        "    env = gym.make(chosen_env, render_mode=\"rgb_array\")\n",
        "    env = rl.RenderFrame(env, \"./\" + model.config._name_or_path.split(\"/\")[-1] + \"-output-frames\")\n",
        "    state, _ = env.reset()\n",
        "\n",
        "    returns_scale = model.config.returns_scale if \"returns_scale\" in model.config.to_dict().keys() else 1000.0  # FIXME compatibility\n",
        "    episode_return, episode_length = 0, 0\n",
        "    target_return = torch.tensor(env_target_per_1000/returns_scale, device=device, dtype=torch.float32).reshape(1, 1)\n",
        "    states = torch.from_numpy(state).reshape(1, model.config.state_dim).to(device=device, dtype=torch.float32)\n",
        "    actions = torch.zeros((0, model.config.act_dim), device=device, dtype=torch.float32)\n",
        "    rewards = torch.zeros(0, device=device, dtype=torch.float32)\n",
        "    timesteps = torch.tensor(0, device=device, dtype=torch.long).reshape(1, 1)\n",
        "\n",
        "    for t in range(model.config.max_ep_len):\n",
        "        actions = torch.cat([actions, torch.zeros((1, model.config.act_dim), device=device)], dim=0)\n",
        "        rewards = torch.cat([rewards, torch.zeros(1, device=device)])\n",
        "\n",
        "        action = model.get_action(\n",
        "            states,\n",
        "            actions,\n",
        "            rewards,\n",
        "            target_return,\n",
        "            timesteps,\n",
        "            device,\n",
        "        )\n",
        "        actions[-1] = action\n",
        "        action = action.detach().cpu().numpy()\n",
        "\n",
        "        state, reward, done, _, _ = env.step(action)\n",
        "\n",
        "        cur_state = torch.from_numpy(state.astype(np.float32)).to(device=device).reshape(1, model.config.state_dim)\n",
        "        states = torch.cat([states, cur_state], dim=0)\n",
        "        rewards[-1] = reward\n",
        "\n",
        "        pred_return = target_return[0, -1] - (reward / returns_scale)\n",
        "        target_return = torch.cat([target_return, pred_return.reshape(1, 1)], dim=1)\n",
        "        timesteps = torch.cat([timesteps, torch.ones((1, 1), device=device, dtype=torch.long) * (t + 1)], dim=1)\n",
        "\n",
        "        episode_return += reward\n",
        "        episode_length += 1\n",
        "\n",
        "        if done: \n",
        "            break\n",
        "\n",
        "print(episode_return)"
      ]
    },
    {
      "cell_type": "code",
      "execution_count": null,
      "metadata": {},
      "outputs": [],
      "source": [
        "env.play()"
      ]
    }
  ],
  "metadata": {
    "accelerator": "GPU",
    "colab": {
      "provenance": []
    },
    "gpuClass": "standard",
    "kernelspec": {
      "display_name": "Python 3",
      "name": "python3"
    },
    "language_info": {
      "codemirror_mode": {
        "name": "ipython",
        "version": 3
      },
      "file_extension": ".py",
      "mimetype": "text/x-python",
      "name": "python",
      "nbconvert_exporter": "python",
      "pygments_lexer": "ipython3",
      "version": "3.10.11"
    }
  },
  "nbformat": 4,
  "nbformat_minor": 0
}
