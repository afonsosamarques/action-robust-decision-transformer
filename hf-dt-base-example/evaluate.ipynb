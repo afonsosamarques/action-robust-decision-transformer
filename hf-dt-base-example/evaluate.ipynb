{
  "cells": [
    {
      "cell_type": "code",
      "execution_count": null,
      "metadata": {},
      "outputs": [],
      "source": [
        "import numpy as np\n",
        "import torch\n",
        "import gymnasium as gym\n",
        "import renderlab as rl\n",
        "\n",
        "from huggingface_hub import interpreter_login\n",
        "from transformers import DecisionTransformerModel"
      ]
    },
    {
      "cell_type": "code",
      "execution_count": null,
      "metadata": {},
      "outputs": [],
      "source": [
        "interpreter_login()"
      ]
    },
    {
      "cell_type": "code",
      "execution_count": null,
      "metadata": {},
      "outputs": [],
      "source": [
        "device = torch.device(\"mps\" if torch.backends.mps.is_available() else \"cpu\")\n",
        "model = DecisionTransformerModel.from_pretrained(\"afonsosamarques/dt-halfcheetah-v1\", use_auth_token=True).to(device)"
      ]
    },
    {
      "cell_type": "code",
      "execution_count": null,
      "metadata": {},
      "outputs": [],
      "source": [
        "def get_action(model, states, actions, rewards, returns_to_go, timesteps, device):\n",
        "    # NOTE this implementation does not condition on past rewards\n",
        "\n",
        "    # reshape to model input format\n",
        "    states = states.reshape(1, -1, model.config.state_dim)\n",
        "    actions = actions.reshape(1, -1, model.config.act_dim)\n",
        "    returns_to_go = returns_to_go.reshape(1, -1, 1)\n",
        "    timesteps = timesteps.reshape(1, -1)\n",
        "\n",
        "    # normalisation constants\n",
        "    state_mean = torch.from_numpy(np.array(model.config.state_mean).astype(np.float32)).to(device=device)\n",
        "    state_std = torch.from_numpy(np.array(model.config.state_std).astype(np.float32)).to(device=device)\n",
        "\n",
        "    # retrieve window of observations based on context length\n",
        "    states = states[:, -model.config.context_size :]\n",
        "    actions = actions[:, -model.config.context_size :]\n",
        "    returns_to_go = returns_to_go[:, -model.config.context_size :]\n",
        "    timesteps = timesteps[:, -model.config.context_size :]\n",
        "\n",
        "    # normlisation\n",
        "    states = (states - state_mean) / state_std\n",
        "\n",
        "    # pad all tokens to sequence length\n",
        "    padlen = model.config.context_size - states.shape[1]\n",
        "    attention_mask = torch.cat([torch.zeros(padlen, device=device), torch.ones(states.shape[1], device=device)]).to(dtype=torch.long).reshape(1, -1)\n",
        "    states = torch.cat([torch.zeros((1, padlen, model.config.state_dim), device=device), states], dim=1).float()\n",
        "    actions = torch.cat([torch.zeros((1, padlen, model.config.act_dim), device=device), actions], dim=1).float()\n",
        "    returns_to_go = torch.cat([torch.zeros((1, padlen, 1), device=device), returns_to_go], dim=1).float()\n",
        "    timesteps = torch.cat([torch.zeros((1, padlen), dtype=torch.long, device=device), timesteps], dim=1)\n",
        "\n",
        "    # forward pass\n",
        "    _, action_preds, _ = model.forward(\n",
        "        states=states,\n",
        "        actions=actions,\n",
        "        rewards=rewards,\n",
        "        returns_to_go=returns_to_go,\n",
        "        timesteps=timesteps,\n",
        "        attention_mask=attention_mask,\n",
        "        return_dict=False,\n",
        "    )\n",
        "\n",
        "    return action_preds[0, -1]"
      ]
    },
    {
      "cell_type": "code",
      "execution_count": null,
      "metadata": {},
      "outputs": [],
      "source": [
        "SCALE = 1000.0   # normalisation for rewards/returns\n",
        "TARGET_RETURN = 12000 / SCALE\n",
        "\n",
        "env = gym.make(\"HalfCheetah-v4\", render_mode = \"rgb_array\")\n",
        "env = rl.RenderFrame(env, \"./\" + model.config._name_or_path.split(\"/\")[-1] + \"-output-frames\")\n",
        "state, _ = env.reset()\n",
        "\n",
        "episode_return, episode_length = 0, 0\n",
        "target_return = torch.tensor(TARGET_RETURN, device=device, dtype=torch.float32).reshape(1, 1)\n",
        "states = torch.from_numpy(state).reshape(1, model.config.state_dim).to(device=device, dtype=torch.float32)\n",
        "actions = torch.zeros((0, model.config.act_dim), device=device, dtype=torch.float32)\n",
        "rewards = torch.zeros(0, device=device, dtype=torch.float32)\n",
        "timesteps = torch.tensor(0, device=device, dtype=torch.long).reshape(1, 1)\n",
        "\n",
        "for t in range(model.config.max_ep_len):\n",
        "  actions = torch.cat([actions, torch.zeros((1, model.config.act_dim), device=device)], dim=0)\n",
        "  rewards = torch.cat([rewards, torch.zeros(1, device=device)])\n",
        "\n",
        "  action = get_action(\n",
        "      model,\n",
        "      states,\n",
        "      actions,\n",
        "      rewards,\n",
        "      target_return,\n",
        "      timesteps,\n",
        "      device,\n",
        "  )\n",
        "  actions[-1] = action\n",
        "  action = action.detach().cpu().numpy()\n",
        "\n",
        "  state, reward, done, _, _ = env.step(action)\n",
        "\n",
        "  cur_state = torch.from_numpy(state.astype(np.float32)).to(device=device).reshape(1, model.config.state_dim)\n",
        "  states = torch.cat([states, cur_state], dim=0)\n",
        "  rewards[-1] = reward\n",
        "\n",
        "  pred_return = target_return[0, -1] - (reward / SCALE)\n",
        "  target_return = torch.cat([target_return, pred_return.reshape(1, 1)], dim=1)\n",
        "  timesteps = torch.cat([timesteps, torch.ones((1, 1), device=device, dtype=torch.long) * (t + 1)], dim=1)\n",
        "\n",
        "  episode_return += reward\n",
        "  episode_length += 1\n",
        "\n",
        "  if done: \n",
        "    break"
      ]
    },
    {
      "cell_type": "code",
      "execution_count": null,
      "metadata": {},
      "outputs": [],
      "source": [
        "env.play()"
      ]
    }
  ],
  "metadata": {
    "accelerator": "GPU",
    "colab": {
      "provenance": []
    },
    "gpuClass": "standard",
    "kernelspec": {
      "display_name": "Python 3",
      "name": "python3"
    },
    "language_info": {
      "codemirror_mode": {
        "name": "ipython",
        "version": 3
      },
      "file_extension": ".py",
      "mimetype": "text/x-python",
      "name": "python",
      "nbconvert_exporter": "python",
      "pygments_lexer": "ipython3",
      "version": "3.10.11"
    }
  },
  "nbformat": 4,
  "nbformat_minor": 0
}
