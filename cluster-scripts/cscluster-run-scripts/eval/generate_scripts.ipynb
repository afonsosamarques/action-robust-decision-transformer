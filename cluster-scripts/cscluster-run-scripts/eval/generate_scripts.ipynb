{
 "cells": [
  {
   "cell_type": "code",
   "execution_count": null,
   "metadata": {},
   "outputs": [],
   "source": [
    "import os\n",
    "from pathlib import Path\n",
    "\n",
    "\n",
    "def generate_script_from_template(template_file, job_name, output_file):\n",
    "    with open(template_file, 'r') as f:\n",
    "        content = f.read()\n",
    "\n",
    "    content = content.replace(\"JOB_NAME_PLACEHOLDER\", job_name)\n",
    "\n",
    "    with open(output_file, 'w') as f:\n",
    "        f.write(content)\n",
    "\n",
    "template_file = \"eval-base.sh\""
   ]
  },
  {
   "cell_type": "code",
   "execution_count": null,
   "metadata": {},
   "outputs": [],
   "source": [
    "dir = \"/Users/afonsosamarques/Documents/ucl-final-project/code/action-robust-decision-transformer/codebase/evaluation_protocol/run-configs/\"\n",
    "\n",
    "job_names = [f.name for f in Path(dir).iterdir() if f.is_file()]\n",
    "print(len(job_names))"
   ]
  },
  {
   "cell_type": "code",
   "execution_count": null,
   "metadata": {},
   "outputs": [],
   "source": [
    "instructions = []\n",
    "\n",
    "for job_name in job_names:\n",
    "    new_job_name = job_name.replace(\".yaml\", \"\")\n",
    "    output_file = f\"{new_job_name}.sh\"\n",
    "    generate_script_from_template(template_file, new_job_name, output_file)\n",
    "    instructions.append(f\"qsub ~/action-robust-decision-transformer/cluster-scripts/cscluster-run-scripts/eval/{output_file}\")\n",
    "\n",
    "file_path = os.path.expanduser('~/Downloads/instructions.sh')\n",
    "with open(file_path, 'w') as f:\n",
    "    for item in instructions:\n",
    "        f.write(f\"{item}\\n\")"
   ]
  }
 ],
 "metadata": {
  "kernelspec": {
   "display_name": "fp-adt",
   "language": "python",
   "name": "python3"
  },
  "language_info": {
   "codemirror_mode": {
    "name": "ipython",
    "version": 3
   },
   "file_extension": ".py",
   "mimetype": "text/x-python",
   "name": "python",
   "nbconvert_exporter": "python",
   "pygments_lexer": "ipython3",
   "version": "3.10.11"
  },
  "orig_nbformat": 4
 },
 "nbformat": 4,
 "nbformat_minor": 2
}
