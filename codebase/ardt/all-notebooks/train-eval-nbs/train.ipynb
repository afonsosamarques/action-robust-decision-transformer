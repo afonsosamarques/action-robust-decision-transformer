{
  "cells": [
    {
      "cell_type": "code",
      "execution_count": 1,
      "metadata": {},
      "outputs": [],
      "source": [
        "import sys\n",
        "import os\n",
        "dir = os.path.abspath('')\n",
        "while not dir.endswith('ardt'): dir = os.path.dirname(dir)\n",
        "if not dir in sys.path: sys.path.append(dir)"
      ]
    },
    {
      "cell_type": "code",
      "execution_count": 2,
      "metadata": {},
      "outputs": [],
      "source": [
        "import os\n",
        "import wandb\n",
        "\n",
        "from datasets import load_dataset, load_from_disk\n",
        "from huggingface_hub import login, list_models\n",
        "from transformers import DecisionTransformerConfig, Trainer, TrainingArguments\n",
        "\n",
        "from model.trainable_dt import TrainableDT\n",
        "from model.ardt_vanilla import SingleAgentRobustDT\n",
        "from model.ardt_full import TwoAgentRobustDT\n",
        "from model.ardt_utils import DecisionTransformerGymDataCollator\n",
        "\n",
        "from utils.config_utils import find_root_dir\n",
        "\n",
        "from access_tokens import HF_WRITE_TOKEN, WANDB_TOKEN"
      ]
    },
    {
      "cell_type": "code",
      "execution_count": null,
      "metadata": {},
      "outputs": [],
      "source": [
        "login(token=HF_WRITE_TOKEN)\n",
        "wandb.login(key=WANDB_TOKEN)\n",
        "os.environ[\"WANDB_PROJECT\"] = 'ARDT-Project'\n",
        "ARDT_DIR = find_root_dir()"
      ]
    },
    {
      "attachments": {},
      "cell_type": "markdown",
      "metadata": {},
      "source": [
        "## Configs"
      ]
    },
    {
      "cell_type": "code",
      "execution_count": null,
      "metadata": {},
      "outputs": [],
      "source": [
        "envs = {\n",
        "    0: \"walker2d-expert-v2\",\n",
        "    1: \"halfcheetah-expert-v2\",\n",
        "}\n",
        "\n",
        "chosen_env = envs[1]"
      ]
    },
    {
      "cell_type": "code",
      "execution_count": null,
      "metadata": {},
      "outputs": [],
      "source": [
        "agent = {\n",
        "    0: SingleAgentRobustDT,\n",
        "    1: TwoAgentRobustDT,\n",
        "    2: TrainableDT\n",
        "}\n",
        "\n",
        "chosen_agent = agent[1]\n",
        "model_name_prefix = \"ardt-full\" if chosen_agent == TwoAgentRobustDT else (\"ardt-vanilla-\" if chosen_agent == SingleAgentRobustDT else \"dt\")"
      ]
    },
    {
      "attachments": {},
      "cell_type": "markdown",
      "metadata": {},
      "source": [
        "## Loading and exploring the dataset"
      ]
    },
    {
      "cell_type": "code",
      "execution_count": null,
      "metadata": {},
      "outputs": [],
      "source": [
        "# from local\n",
        "# dataset = load_from_disk(f\"{ARDT_DIR}/datasets/rarl_halfcheetah_v1\")\n",
        "# dataset_name = \"rarl\"\n",
        "\n",
        "dataset = load_from_disk(f\"{ARDT_DIR}/datasets/d4rl_expert_halfcheetah\")\n",
        "dataset_name = \"d4rl\""
      ]
    },
    {
      "cell_type": "code",
      "execution_count": null,
      "metadata": {},
      "outputs": [],
      "source": [
        "# # from hf\n",
        "# dataset = load_dataset(f\"afonsosamarques/rarl_halfcheetah_v1\", use_auth_token=True)"
      ]
    },
    {
      "cell_type": "code",
      "execution_count": null,
      "metadata": {},
      "outputs": [],
      "source": [
        "print(\"Dataset elements: \", dataset[0].keys())\n",
        "print(\"Number of steps: \", len(dataset[0]['observations']))\n",
        "print(\"Size of state representation: \", len(dataset[0]['observations'][0]))\n",
        "print(\"Size of action representation: \", len(dataset[0]['pr_actions'][0]))\n",
        "print(\"Size of action representation: \", len(dataset[0]['adv_actions'][0]))\n",
        "print(\"Reward type: \", type(dataset[0]['rewards'][0]))\n",
        "print(\"Done flag: \", type(dataset[0]['dones'][0]))\n",
        "print(\"Rewards len: \", len(dataset[0]['rewards']))\n",
        "print(\"Dones len: \", len(dataset[0]['dones']))"
      ]
    },
    {
      "attachments": {},
      "cell_type": "markdown",
      "metadata": {},
      "source": [
        "## Setting up the model"
      ]
    },
    {
      "cell_type": "code",
      "execution_count": null,
      "metadata": {},
      "outputs": [],
      "source": [
        "MAX_RETURN = 15000.0\n",
        "RETURNS_SCALE = 1000.0\n",
        "BATCH_SIZE = 32\n",
        "CONTEXT_SIZE = 20\n",
        "N_EPOCHS = 300\n",
        "WARMUP_STEPS = int(RETURNS_SCALE/BATCH_SIZE) * 25\n",
        "EVAL_ITERS = 1\n",
        "WANDB_PROJECT = \"ARDT-Project\"\n",
        "TRACEBACK = False\n",
        "SUFFIX = '-test'\n",
        "\n",
        "LAMBDA1 = 0.05\n",
        "LAMBDA2 = 0.8"
      ]
    },
    {
      "cell_type": "code",
      "execution_count": null,
      "metadata": {},
      "outputs": [],
      "source": [
        "collator = DecisionTransformerGymDataCollator(\n",
        "                    dataset=dataset, \n",
        "                    context_size=CONTEXT_SIZE, \n",
        "                    returns_scale=RETURNS_SCALE\n",
        "                )\n",
        "                \n",
        "config = DecisionTransformerConfig(\n",
        "    state_dim=collator.state_dim, \n",
        "    pr_act_dim=collator.pr_act_dim,\n",
        "    adv_act_dim=collator.adv_act_dim,\n",
        "    max_ep_len=collator.max_ep_len,\n",
        "    context_size=collator.context_size,\n",
        "    state_mean=list(collator.state_mean),\n",
        "    state_std=list(collator.state_std),\n",
        "    scale=collator.scale,\n",
        "    lambda1=LAMBDA1,\n",
        "    lambda2=LAMBDA2,\n",
        "    warmup_steps=WARMUP_STEPS,\n",
        "    returns_scale=RETURNS_SCALE,\n",
        "    max_return=MAX_RETURN\n",
        ")\n",
        "\n",
        "model = chosen_agent(config)\n",
        "model"
      ]
    },
    {
      "attachments": {},
      "cell_type": "markdown",
      "metadata": {},
      "source": [
        "## Training the model"
      ]
    },
    {
      "cell_type": "code",
      "execution_count": null,
      "metadata": {},
      "outputs": [],
      "source": [
        "# my_env_name = model_name_prefix + chosen_env.split(\"-\")[0]\n",
        "# models = sorted([m.modelId.split(\"/\")[-1] for m in list_models(author=\"afonsosamarques\")])\n",
        "# models = [m for m in models if my_env_name in m]\n",
        "# if len(models) > 0:\n",
        "#     latest_version = [m.split(\"-\")[-3 if \"lambda\" in m else -1][1:] for m in models][-1]\n",
        "#     new_version = \"v\" + str(int(latest_version) + 1)\n",
        "# else:\n",
        "#     new_version = \"v0\"\n",
        "# model_name = my_env_name + \"-\" + new_version + \"-rarl\"\n",
        "# print(model_name)\n",
        "\n",
        "model_name = \"\"\n",
        "full_model_name = model_name + \"-\" + dataset_name"
      ]
    },
    {
      "cell_type": "code",
      "execution_count": null,
      "metadata": {},
      "outputs": [],
      "source": [
        "if model_name is None:\n",
        "    raise Exception(\"Please provide a model name\")\n",
        "\n",
        "# we use the same hyperparameters as in the authors original implementation, but train for fewer iterations\n",
        "training_args = TrainingArguments(\n",
        "    output_dir=f\"{ARDT_DIR}/agents{SUFFIX}/\" + full_model_name,\n",
        "    remove_unused_columns=False,\n",
        "    num_train_epochs=N_EPOCHS,\n",
        "    per_device_train_batch_size=BATCH_SIZE,\n",
        "    optim=\"adamw_torch\",\n",
        "    learning_rate=1e-4,\n",
        "    weight_decay=1e-4,\n",
        "    warmup_ratio=0.0, # FIXME just changed it\n",
        "    max_grad_norm=0.25,\n",
        "    use_mps_device=True,\n",
        "    push_to_hub=True,\n",
        "    dataloader_num_workers=1,\n",
        "    log_level=\"info\",\n",
        "    logging_steps=1,\n",
        "    report_to=\"wandb\",\n",
        "    run_name=full_model_name,\n",
        "    hub_model_id=full_model_name,\n",
        ")\n",
        "\n",
        "trainer = Trainer(\n",
        "    model=model,\n",
        "    args=training_args,\n",
        "    train_dataset=dataset,\n",
        "    data_collator=collator,\n",
        ")\n",
        "\n",
        "trainer.train()\n",
        "trainer.save_model()"
      ]
    }
  ],
  "metadata": {
    "accelerator": "GPU",
    "colab": {
      "provenance": []
    },
    "gpuClass": "standard",
    "kernelspec": {
      "display_name": "Python 3",
      "name": "python3"
    },
    "language_info": {
      "codemirror_mode": {
        "name": "ipython",
        "version": 3
      },
      "file_extension": ".py",
      "mimetype": "text/x-python",
      "name": "python",
      "nbconvert_exporter": "python",
      "pygments_lexer": "ipython3",
      "version": "3.10.11"
    }
  },
  "nbformat": 4,
  "nbformat_minor": 0
}
