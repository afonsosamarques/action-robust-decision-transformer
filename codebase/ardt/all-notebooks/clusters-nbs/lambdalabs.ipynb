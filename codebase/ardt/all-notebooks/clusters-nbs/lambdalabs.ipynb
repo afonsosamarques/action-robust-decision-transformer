{
 "cells": [
  {
   "attachments": {},
   "cell_type": "markdown",
   "id": "02eed4fe",
   "metadata": {},
   "source": [
    "## Setup"
   ]
  },
  {
   "cell_type": "code",
   "execution_count": null,
   "id": "0a7cae3b",
   "metadata": {},
   "outputs": [],
   "source": [
    "import os\n",
    "import sys\n",
    "\n",
    "dir = os.path.abspath('')\n",
    "while not dir.endswith('ardt'): dir = os.path.dirname(dir)\n",
    "if not dir in sys.path: sys.path.append(dir)"
   ]
  },
  {
   "cell_type": "code",
   "execution_count": null,
   "id": "693a20f6",
   "metadata": {},
   "outputs": [],
   "source": [
    "import requests\n",
    "import tempfile\n",
    "import time\n",
    "\n",
    "from utils.helpers import find_root_dir\n",
    "\n",
    "from private_keys import LAMBDALABS_API_KEY, LAMBDALABS_SSH_KEY, GITHUB_PRIVATE_KEY\n",
    "\n",
    "\n",
    "API_BASE = \"https://cloud.lambdalabs.com/api/v1\"\n",
    "SSH_KEY_NAMES = [\"afonso-mbp\"]  # can only be one\n",
    "\n",
    "s = requests.session()\n",
    "s.headers[\"Authorization\"] = f\"Bearer {LAMBDALABS_API_KEY}\""
   ]
  },
  {
   "attachments": {},
   "cell_type": "markdown",
   "id": "8fca48d3",
   "metadata": {},
   "source": [
    "## Helpers"
   ]
  },
  {
   "cell_type": "code",
   "execution_count": null,
   "id": "6450dcee",
   "metadata": {},
   "outputs": [],
   "source": [
    "ARDT_DIR = find_root_dir()\n",
    "SCRIPT_TO_RUN = \"run_eval\"\n",
    "SCRIPT_PATH = \"~/action-robust-decision-transformer/cluster-scripts/other-run-scripts/\""
   ]
  },
  {
   "cell_type": "code",
   "execution_count": null,
   "id": "8466ba54",
   "metadata": {},
   "outputs": [],
   "source": [
    "def choose_instance_type():\n",
    "    \"\"\"\n",
    "    Choose an instance time based on what is available across the regions\n",
    "    \"\"\"\n",
    "    instance_types = s.get(f\"{API_BASE}/instance-types\").json()['data']\n",
    "    options = []\n",
    "    print(\"Choose instance type:\")\n",
    "    for k in sorted(instance_types.keys()):\n",
    "        if len(instance_types[k]['regions_with_capacity_available']) > 0:\n",
    "            regions = [r['name'] for r in instance_types[k]['regions_with_capacity_available']]\n",
    "            print(len(options) + 1, \":\", k, \n",
    "                  instance_types[k]['instance_type']['price_cents_per_hour'], \n",
    "                  regions)\n",
    "            options.append((k, regions))\n",
    "    idx = int(input(), )\n",
    "    name, regions = options[idx-1]\n",
    "    print(\"Choose region:\")\n",
    "    for n, r in enumerate(regions):\n",
    "        print(n+1, \":\", r)\n",
    "    idx = int(input())\n",
    "    return name, regions[idx-1]\n",
    "\n",
    "\n",
    "def up(instance_type, region):\n",
    "    \"\"\"\n",
    "    Spin up the instance.\n",
    "    \"\"\"\n",
    "    data = {\n",
    "        \"region_name\": region,\n",
    "        \"instance_type_name\": instance_type,\n",
    "        \"ssh_key_names\": SSH_KEY_NAMES,\n",
    "        \"file_system_names\": [],\n",
    "        \"quantity\": 1,\n",
    "        \"name\": SCRIPT_TO_RUN.split(\".\")[0]\n",
    "    }\n",
    "    resp = s.post(f\"{API_BASE}/instance-operations/launch\", json=data)\n",
    "    print(\"Spinning up selected instance:\\n\", resp.json())\n",
    "    resp.raise_for_status()\n",
    "    return resp.json()['data']['instance_ids'][0]\n",
    "\n",
    "\n",
    "def get_instance_info(instance_id):\n",
    "    \"\"\"\n",
    "    Get instance status.\n",
    "    \"\"\"\n",
    "    resp = s.get(f\"{API_BASE}/instances/{instance_id}\")\n",
    "    resp.raise_for_status()\n",
    "    return resp.json()['data']\n",
    "    \n",
    "    \n",
    "def wait_for_ready(instance_id):\n",
    "    \"\"\"\n",
    "    Wait until instance is active.\n",
    "    \"\"\"\n",
    "    while True:\n",
    "        info = get_instance_info(instance_id)\n",
    "        print(\"Status:\", instance_id, info.get('ip'), info['status'])\n",
    "        if info['status'] == 'active':\n",
    "            return\n",
    "        else:\n",
    "            time.sleep(10)\n",
    "        \n",
    "\n",
    "def down(instance_id):\n",
    "    \"\"\"\n",
    "    Shut down instance.\n",
    "    \"\"\"\n",
    "    data = {\n",
    "        \"instance_ids\": [instance_id]\n",
    "    }\n",
    "    resp = s.post(f\"{API_BASE}/instance-operations/terminate\", json=data)\n",
    "    resp.raise_for_status()\n",
    "    info = resp.json()['data']\n",
    "    return info\n",
    "\n",
    "\n",
    "def ssh(ip, command):\n",
    "    \"\"\"\n",
    "    SSH into machine and issue some command.\n",
    "    \"\"\"\n",
    "    with tempfile.NamedTemporaryFile(delete=False) as temp:\n",
    "        temp.write(LAMBDALABS_SSH_KEY.encode())\n",
    "        temp.flush()\n",
    "    os.chmod(temp.name, 0o600)\n",
    "\n",
    "    os.system(\n",
    "        f\"ssh -o StrictHostKeyChecking=accept-new -i {temp.name} ubuntu@{ip} \\\"{command}\\\"\")\n",
    "\n",
    "\n",
    "def rsync(ip, src, dst):\n",
    "    \"\"\"\n",
    "    SSH and send over file via rsync.\n",
    "    \"\"\"\n",
    "    with tempfile.NamedTemporaryFile(delete=False) as temp:\n",
    "        temp.write(LAMBDALABS_SSH_KEY.encode())\n",
    "        temp.flush()\n",
    "    os.chmod(temp.name, 0o600)\n",
    "\n",
    "    os.system(\n",
    "        f\"rsync -avz -e 'ssh -i {temp.name}' {src} ubuntu@{ip}:{dst}\")"
   ]
  },
  {
   "attachments": {},
   "cell_type": "markdown",
   "id": "2f0379e9",
   "metadata": {},
   "source": [
    "## Spin up instance and wait for ready"
   ]
  },
  {
   "cell_type": "code",
   "execution_count": null,
   "id": "a303a105",
   "metadata": {},
   "outputs": [],
   "source": [
    "instance_type, region = choose_instance_type()\n",
    "instance_id = up(instance_type, region)\n",
    "wait_for_ready(instance_id)"
   ]
  },
  {
   "cell_type": "code",
   "execution_count": null,
   "id": "535c0df2",
   "metadata": {},
   "outputs": [],
   "source": [
    "ip = get_instance_info(instance_id)['ip']"
   ]
  },
  {
   "attachments": {},
   "cell_type": "markdown",
   "id": "7f1141c2",
   "metadata": {},
   "source": [
    "## Set up environment, code, files"
   ]
  },
  {
   "cell_type": "code",
   "execution_count": null,
   "id": "6d59ad55",
   "metadata": {},
   "outputs": [],
   "source": [
    "ssh(ip, 'uptime')"
   ]
  },
  {
   "cell_type": "code",
   "execution_count": null,
   "id": "af63abc4",
   "metadata": {},
   "outputs": [],
   "source": [
    "ssh(ip, 'sudo apt install software-properties-common -y')\n",
    "ssh(ip, 'sudo add-apt-repository ppa:deadsnakes/ppa -y')\n",
    "ssh(ip, 'sudo apt update')\n",
    "ssh(ip, 'sudo apt install python3.10 python3.10-dev python3.10-distutils python3.10-venv -y')"
   ]
  },
  {
   "cell_type": "code",
   "execution_count": null,
   "id": "6f6df207",
   "metadata": {},
   "outputs": [],
   "source": [
    "ssh(ip, 'mkdir ardt-env')\n",
    "ssh(ip, 'python3.10 -m venv ./ardt-env/ardt')\n",
    "ssh(ip, 'source ./ardt-env/ardt/bin/activate')"
   ]
  },
  {
   "cell_type": "code",
   "execution_count": null,
   "id": "daa53b7f",
   "metadata": {},
   "outputs": [],
   "source": [
    "ssh(ip, f'git clone https://{GITHUB_PRIVATE_KEY}@github.com/afonsosamarques/action-robust-decision-transformer.git')"
   ]
  },
  {
   "cell_type": "code",
   "execution_count": null,
   "id": "893437cb",
   "metadata": {},
   "outputs": [],
   "source": [
    "ssh(ip, 'source ./ardt-env/ardt/bin/activate && pip3 install --upgrade pip')\n",
    "ssh(ip, 'source ./ardt-env/ardt/bin/activate && pip3 install -r ./action-robust-decision-transformer/requirements.txt')"
   ]
  },
  {
   "cell_type": "code",
   "execution_count": null,
   "id": "e36b8635",
   "metadata": {},
   "outputs": [],
   "source": [
    "ssh(ip, 'sudo apt-get install git-lfs -y')\n",
    "ssh(ip, 'cd ~/action-robust-decision-transformer/ && git lfs install')"
   ]
  },
  {
   "cell_type": "code",
   "execution_count": null,
   "id": "01e4a888",
   "metadata": {},
   "outputs": [],
   "source": [
    "ssh(ip, 'mkdir ~/action-robust-decision-transformer/codebase/ardt/eval-outputs')\n",
    "ssh(ip, 'mkdir ~/action-robust-decision-transformer/codebase/ardt/eval-outputs-pipeline')\n",
    "ssh(ip, 'mkdir ~/action-robust-decision-transformer/codebase/ardt/eval-outputs-test')\n",
    "ssh(ip, 'mkdir ~/action-robust-decision-transformer/codebase/ardt/agents')\n",
    "ssh(ip, 'mkdir ~/action-robust-decision-transformer/codebase/ardt/agents-pipeline')\n",
    "ssh(ip, 'mkdir ~/action-robust-decision-transformer/codebase/ardt/agents-test')\n",
    "ssh(ip, 'mkdir ~/action-robust-decision-transformer/codebase/ardt/wandb')\n",
    "ssh(ip, 'mkdir ~/action-robust-decision-transformer/codebase/ardt/wandb-json')"
   ]
  },
  {
   "cell_type": "code",
   "execution_count": null,
   "id": "19c1fdc5",
   "metadata": {},
   "outputs": [],
   "source": [
    "src = f'{ARDT_DIR}/access_tokens.py'\n",
    "rsync(ip, src, '~/')\n",
    "ssh(ip, 'cp ~/access_tokens.py ~/action-robust-decision-transformer/codebase/ardt')\n",
    "ssh(ip, 'cp ~/access_tokens.py ~/action-robust-decision-transformer/codebase/evaluation_protocol')"
   ]
  },
  {
   "cell_type": "code",
   "execution_count": null,
   "id": "edf9758e",
   "metadata": {},
   "outputs": [],
   "source": [
    "# src = f'{ARDT_DIR}/datasets-to-push'\n",
    "# rsync(ip, src, '~/action-robust-decision-transformer/codebase/ardt')\n",
    "# ssh(ip, 'mv ~/action-robust-decision-transformer/codebase/ardt/datasets-to-push ~/action-robust-decision-transformer/codebase/ardt/datasets')"
   ]
  },
  {
   "attachments": {},
   "cell_type": "markdown",
   "id": "3c1e47f9",
   "metadata": {},
   "source": [
    "## Run and shut down (eventually)"
   ]
  },
  {
   "cell_type": "code",
   "execution_count": null,
   "id": "ba98aa94",
   "metadata": {},
   "outputs": [],
   "source": [
    "ssh(ip, 'source ./envs/ardt-env/bin/activate && cd ~/action-robust-decision-transformer/codebase/ && python3 -m evaluation_protocol.evaluate --config_name evaluation_batch_agentadv')"
   ]
  },
  {
   "cell_type": "code",
   "execution_count": null,
   "id": "384fbc60",
   "metadata": {},
   "outputs": [],
   "source": [
    "down(instance_id)"
   ]
  }
 ],
 "metadata": {
  "kernelspec": {
   "display_name": "Python 3 (ipykernel)",
   "language": "python",
   "name": "python3"
  },
  "language_info": {
   "codemirror_mode": {
    "name": "ipython",
    "version": 3
   },
   "file_extension": ".py",
   "mimetype": "text/x-python",
   "name": "python",
   "nbconvert_exporter": "python",
   "pygments_lexer": "ipython3",
   "version": "3.10.11"
  }
 },
 "nbformat": 4,
 "nbformat_minor": 5
}
