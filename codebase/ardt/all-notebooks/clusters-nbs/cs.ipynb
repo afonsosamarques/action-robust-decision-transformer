{
 "cells": [
  {
   "cell_type": "code",
   "execution_count": null,
   "id": "decd8f79",
   "metadata": {},
   "outputs": [],
   "source": [
    "import os\n",
    "import sys\n",
    "\n",
    "dir = os.path.abspath('')\n",
    "while not dir.endswith('ardt'): dir = os.path.dirname(dir)\n",
    "if not dir in sys.path: sys.path.append(dir)"
   ]
  },
  {
   "cell_type": "code",
   "execution_count": null,
   "id": "c2bc9c2f",
   "metadata": {},
   "outputs": [],
   "source": [
    "import io\n",
    "import time\n",
    "\n",
    "import paramiko\n",
    "\n",
    "from utils.helpers import find_root_dir\n",
    "\n",
    "from private_keys import KNUCKLES_PASSWORD, CS_PRIVATE_KEY, GITHUB_PRIVATE_KEY"
   ]
  },
  {
   "cell_type": "code",
   "execution_count": null,
   "id": "ad2140f1",
   "metadata": {},
   "outputs": [],
   "source": [
    "HOME_DIR = \"/home/amarques\"\n",
    "ARDT_DIR = find_root_dir()\n",
    "SCRIPT_PATH = f\"{HOME_DIR}/action-robust-decision-transformer/codebase/ardt/all-notebooks/clusters-nbs/cscluster-run-scripts/\""
   ]
  },
  {
   "cell_type": "code",
   "execution_count": null,
   "id": "8c20c8ba",
   "metadata": {},
   "outputs": [],
   "source": [
    "CLUSTER_TO_TRY = 'beaker'  # beaker, vic, pryor"
   ]
  },
  {
   "attachments": {},
   "cell_type": "markdown",
   "id": "02eed4fe",
   "metadata": {},
   "source": [
    "## Connecting to chosen cluster"
   ]
  },
  {
   "cell_type": "code",
   "execution_count": null,
   "id": "693a20f6",
   "metadata": {},
   "outputs": [],
   "source": [
    "# Private key\n",
    "k = CS_PRIVATE_KEY.strip()\n",
    "padding = len(k) % 4\n",
    "if padding > 0:\n",
    "    k += \"=\" * (4 - padding)\n",
    "private_key_file = io.StringIO(k)\n",
    "pkey = paramiko.RSAKey.from_private_key(private_key_file)\n",
    "\n",
    "# Establish SSH connection to the first server (knuckles)\n",
    "knuckles = paramiko.SSHClient()\n",
    "knuckles.set_missing_host_key_policy(paramiko.AutoAddPolicy())\n",
    "knuckles.connect('knuckles.cs.ucl.ac.uk', port=22, username='amarques', password=KNUCKLES_PASSWORD)\n",
    "\n",
    "# Use this connection to establish a second SSH connection to the second server\n",
    "# Paramiko Transport is used here for nested ssh\n",
    "transport = knuckles.get_transport()\n",
    "dest_addr = (f'{CLUSTER_TO_TRY}.cs.ucl.ac.uk', 22) # IP and port\n",
    "local_addr = ('knuckles.cs.ucl.ac.uk', 22) # IP and port\n",
    "jump = transport.open_channel(\"direct-tcpip\", dest_addr, local_addr)\n",
    "\n",
    "cluster = paramiko.SSHClient()\n",
    "cluster.set_missing_host_key_policy(paramiko.AutoAddPolicy())\n",
    "cluster.connect(f'{CLUSTER_TO_TRY}.cs.ucl.ac.uk', port=22, sock=jump, username='amarques', password=KNUCKLES_PASSWORD)"
   ]
  },
  {
   "attachments": {},
   "cell_type": "markdown",
   "id": "7f1141c2",
   "metadata": {},
   "source": [
    "## Set up environment, code, files"
   ]
  },
  {
   "cell_type": "code",
   "execution_count": null,
   "id": "f705dc1c",
   "metadata": {},
   "outputs": [],
   "source": [
    "def sftp_upload_dir(sftp, localdir, remotedir):\n",
    "    os.chdir(os.path.split(localdir)[0])\n",
    "    parent = os.path.split(localdir)[1]\n",
    "    for walker in os.walk(parent):\n",
    "        try:\n",
    "            sftp.mkdir(os.path.join(remotedir, walker[0]))\n",
    "        except Exception as e:\n",
    "            print(\"Exception:\", e)\n",
    "        for file in walker[2]:\n",
    "            sftp.put(os.path.join(walker[0], file), os.path.join(remotedir, walker[0], file))"
   ]
  },
  {
   "cell_type": "code",
   "execution_count": null,
   "id": "75189591",
   "metadata": {},
   "outputs": [],
   "source": [
    "# sadly these seem to need to be repeated all the time\n",
    "core_commands = f\"\"\"\n",
    "                source /share/apps/source_files/python/python-3.9.5.source &&\n",
    "                source /share/apps/source_files/cuda/cuda-11.2.source &&\n",
    "                export PATH=$PATH:/share/apps/git-lfs-2.11.0/bin/\n",
    "                \"\"\".strip().replace(\"\\n\", \" \")"
   ]
  },
  {
   "cell_type": "code",
   "execution_count": null,
   "id": "aac62b47",
   "metadata": {},
   "outputs": [],
   "source": [
    "stdin, stdout, stderr = cluster.exec_command(core_commands)\n",
    "stdout.channel.recv_exit_status()\n"
   ]
  },
  {
   "cell_type": "code",
   "execution_count": null,
   "id": "b73eef49",
   "metadata": {},
   "outputs": [],
   "source": [
    "stdin, stdout, stderr = cluster.exec_command(f\"\"\"\n",
    "                                             rm -rf {HOME_DIR}/action-robust-decision-transformer && \n",
    "                                             git clone https://{GITHUB_PRIVATE_KEY}@github.com/afonsosamarques/action-robust-decision-transformer.git\n",
    "                                             \"\"\".strip().replace(\"\\n\", \" \"))\n",
    "stdout.channel.recv_exit_status()"
   ]
  },
  {
   "cell_type": "code",
   "execution_count": null,
   "id": "e775ead4",
   "metadata": {},
   "outputs": [],
   "source": [
    "# # NOTE: not always needed...\n",
    "# stdin, stdout, stderr = cluster.exec_command(f\"\"\"\n",
    "#                                              {core_commands} &&\n",
    "#                                              mkdir {HOME_DIR}/envs &&\n",
    "#                                              python3 -m venv {HOME_DIR}/envs/ardt-env &&\n",
    "#                                              source {HOME_DIR}/envs/ardt-env/bin/activate &&\n",
    "#                                              pip install --upgrade pip --user && \n",
    "#                                              pip install -r {HOME_DIR}/action-robust-decision-transformer/requirements.txt --user\n",
    "#                                              \"\"\".strip().replace(\"\\n\", \" \"))\n",
    "# stdout.channel.recv_exit_status()"
   ]
  },
  {
   "cell_type": "code",
   "execution_count": null,
   "id": "2fb0f1a6",
   "metadata": {},
   "outputs": [],
   "source": [
    "stdin, stdout, stderr = cluster.exec_command(f\"\"\"\n",
    "                                             mkdir {HOME_DIR}/action-robust-decision-transformer/codebase/ardt/eval-outputs &&\n",
    "                                             mkdir {HOME_DIR}/action-robust-decision-transformer/codebase/ardt/eval-outputs-pipeline &&\n",
    "                                             mkdir {HOME_DIR}/action-robust-decision-transformer/codebase/ardt/eval-outputs-test &&\n",
    "                                             mkdir {HOME_DIR}/action-robust-decision-transformer/codebase/ardt/agents &&\n",
    "                                             mkdir {HOME_DIR}/action-robust-decision-transformer/codebase/ardt/agents-pipeline &&\n",
    "                                             mkdir {HOME_DIR}/action-robust-decision-transformer/codebase/ardt/agents-test &&\n",
    "                                             mkdir {HOME_DIR}/action-robust-decision-transformer/codebase/ardt/wandb &&\n",
    "                                             mkdir {HOME_DIR}/action-robust-decision-transformer/codebase/ardt/wandb-json\n",
    "                                             \"\"\".strip().replace(\"\\n\", \" \"))\n",
    "stdout.channel.recv_exit_status()"
   ]
  },
  {
   "cell_type": "code",
   "execution_count": null,
   "id": "b4862ae1",
   "metadata": {},
   "outputs": [],
   "source": [
    "sftp = cluster.open_sftp()\n",
    "\n",
    "sftp.put(f'{ARDT_DIR}/access_tokens.py', f\"{HOME_DIR}/action-robust-decision-transformer/codebase/ardt/access_tokens.py\")\n",
    "time.sleep(2)"
   ]
  },
  {
   "cell_type": "code",
   "execution_count": null,
   "id": "067ce5fc",
   "metadata": {},
   "outputs": [],
   "source": [
    "# # NOTE: not always needed...\n",
    "# sftp_upload_dir(sftp, f'{ARDT_DIR}/datasets-to-push', f\"{HOME_DIR}\")\n",
    "# time.sleep(2)"
   ]
  },
  {
   "cell_type": "code",
   "execution_count": null,
   "id": "57f1d990",
   "metadata": {},
   "outputs": [],
   "source": [
    "stdin, stdout, stderr = cluster.exec_command(f'cp -r {HOME_DIR}/datasets-to-push {HOME_DIR}/action-robust-decision-transformer/codebase/ardt') \n",
    "stdout.channel.recv_exit_status()\n",
    "\n",
    "stdin, stdout, stderr = cluster.exec_command(f'mv {HOME_DIR}/action-robust-decision-transformer/codebase/ardt/datasets-to-push {HOME_DIR}/action-robust-decision-transformer/codebase/ardt/datasets') \n",
    "stdout.channel.recv_exit_status()"
   ]
  },
  {
   "attachments": {},
   "cell_type": "markdown",
   "id": "3c1e47f9",
   "metadata": {},
   "source": [
    "## Run script and close connections"
   ]
  },
  {
   "cell_type": "code",
   "execution_count": null,
   "id": "ba98aa94",
   "metadata": {},
   "outputs": [],
   "source": [
    "stdin, stdout, stderr = cluster.exec_command(f\"\"\"\n",
    "                                             qsub {SCRIPT_PATH}/run_experiment_1.sh &&\n",
    "                                             qsub {SCRIPT_PATH}/run_experiment_2.sh &&\n",
    "                                             qsub {SCRIPT_PATH}/run_experiment_3.sh &&\n",
    "                                             qsub {SCRIPT_PATH}/run_experiment_4.sh &&\n",
    "                                             qsub {SCRIPT_PATH}/run_experiment_5.sh &&\n",
    "                                             qsub {SCRIPT_PATH}/run_experiment_6.sh\n",
    "                                             \"\"\".strip().replace(\"\\n\", \" \"))\n",
    "stdout.channel.recv_exit_status()"
   ]
  },
  {
   "cell_type": "code",
   "execution_count": null,
   "id": "4d79bf5e",
   "metadata": {},
   "outputs": [],
   "source": [
    "time.sleep(10)\n",
    "sftp.close()\n",
    "cluster.close()\n",
    "knuckles.close()"
   ]
  }
 ],
 "metadata": {
  "kernelspec": {
   "display_name": "Python 3 (ipykernel)",
   "language": "python",
   "name": "python3"
  },
  "language_info": {
   "codemirror_mode": {
    "name": "ipython",
    "version": 3
   },
   "file_extension": ".py",
   "mimetype": "text/x-python",
   "name": "python",
   "nbconvert_exporter": "python",
   "pygments_lexer": "ipython3",
   "version": "3.10.11"
  }
 },
 "nbformat": 4,
 "nbformat_minor": 5
}
