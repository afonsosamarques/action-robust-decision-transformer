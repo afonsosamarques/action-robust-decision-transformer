{
 "cells": [
  {
   "cell_type": "code",
   "execution_count": null,
   "metadata": {},
   "outputs": [],
   "source": [
    "import sys\n",
    "import os\n",
    "dir = os.path.abspath('')\n",
    "while not dir.endswith('ardt'): dir = os.path.dirname(dir)\n",
    "if not dir in sys.path: sys.path.append(dir)"
   ]
  },
  {
   "cell_type": "code",
   "execution_count": null,
   "metadata": {},
   "outputs": [],
   "source": [
    "from huggingface_hub import HfApi\n",
    "\n",
    "from access_tokens import HF_WRITE_TOKEN"
   ]
  },
  {
   "cell_type": "code",
   "execution_count": null,
   "metadata": {},
   "outputs": [],
   "source": [
    "hf_api = HfApi(\n",
    "    endpoint=\"https://huggingface.co\", \n",
    "    token=HF_WRITE_TOKEN,\n",
    ")\n",
    "\n",
    "PROJECT = 'Experiment-1'"
   ]
  },
  {
   "cell_type": "code",
   "execution_count": null,
   "metadata": {},
   "outputs": [],
   "source": [
    "models = hf_api.list_models(author=PROJECT)\n",
    "model_ids = sorted([m.modelId for m in models])\n",
    "model_ids"
   ]
  },
  {
   "cell_type": "code",
   "execution_count": null,
   "metadata": {},
   "outputs": [],
   "source": [
    "models = hf_api.list_models(author=PROJECT)\n",
    "model_ids = []\n",
    "\n",
    "for model in models:\n",
    "    if model.modelId.startswith(f\"{PROJECT}/ardt-full-\"):\n",
    "        model_ids.append(model.modelId)\n",
    "\n",
    "model_ids = sorted(model_ids)\n",
    "for id in model_ids:\n",
    "    print(id)"
   ]
  },
  {
   "cell_type": "code",
   "execution_count": null,
   "metadata": {},
   "outputs": [],
   "source": [
    "models = hf_api.list_models(author=PROJECT)\n",
    "\n",
    "for model in models:\n",
    "    if model.modelId.startswith(f\"{PROJECT}/ardt-full-\"):\n",
    "        print(f\"Deleting {model.modelId}\")\n",
    "        s = hf_api.delete_repo(model.modelId)\n",
    "        print(f\"Status: {s}\")"
   ]
  }
 ],
 "metadata": {
  "kernelspec": {
   "display_name": "fp-adt",
   "language": "python",
   "name": "python3"
  },
  "language_info": {
   "codemirror_mode": {
    "name": "ipython",
    "version": 3
   },
   "file_extension": ".py",
   "mimetype": "text/x-python",
   "name": "python",
   "nbconvert_exporter": "python",
   "pygments_lexer": "ipython3",
   "version": "3.10.11"
  },
  "orig_nbformat": 4
 },
 "nbformat": 4,
 "nbformat_minor": 2
}
