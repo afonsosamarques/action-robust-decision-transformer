{
 "cells": [
  {
   "cell_type": "code",
   "execution_count": null,
   "metadata": {},
   "outputs": [],
   "source": [
    "import sys\n",
    "import os\n",
    "dir = os.path.abspath('')\n",
    "while not dir.endswith('ardt'): dir = os.path.dirname(dir)\n",
    "if not dir in sys.path: sys.path.append(dir)"
   ]
  },
  {
   "cell_type": "code",
   "execution_count": null,
   "metadata": {},
   "outputs": [],
   "source": [
    "import requests\n",
    "\n",
    "from huggingface_hub import HfApi, list_models, login\n",
    "\n",
    "from access_tokens import HF_WRITE_TOKEN"
   ]
  },
  {
   "cell_type": "code",
   "execution_count": null,
   "metadata": {},
   "outputs": [],
   "source": [
    "hf_api = HfApi(\n",
    "    endpoint=\"https://huggingface.co\", \n",
    "    token=HF_WRITE_TOKEN,\n",
    ")\n",
    "\n",
    "PROJECT = 'ARDT-Internal'"
   ]
  },
  {
   "cell_type": "code",
   "execution_count": null,
   "metadata": {},
   "outputs": [],
   "source": [
    "models = hf_api.list_models(author=PROJECT)\n",
    "model_ids = sorted([m.modelId for m in models])\n",
    "model_ids"
   ]
  },
  {
   "cell_type": "code",
   "execution_count": null,
   "metadata": {},
   "outputs": [],
   "source": [
    "models = hf_api.list_models(author=PROJECT)\n",
    "model_ids = []\n",
    "\n",
    "for model in models:\n",
    "    if model.modelId.startswith(\"ARDT-Internal/dt-\"):\n",
    "        model_ids.append(model.modelId)\n",
    "\n",
    "model_ids = sorted(model_ids)\n",
    "for id in model_ids:\n",
    "    print(id)"
   ]
  },
  {
   "cell_type": "code",
   "execution_count": null,
   "metadata": {},
   "outputs": [],
   "source": [
    "models = hf_api.list_models(author=PROJECT)\n",
    "\n",
    "for model in models:\n",
    "    if model.modelId in [\n",
    "        'ARDT-Internal/ardt-full-dataset_combo_train_halfcheetah_v3-2707_1345',\n",
    "        'ARDT-Internal/ardt-full-dataset_combo_train_halfcheetah_v4-2707_1353',\n",
    "        'ARDT-Internal/ardt-full-dataset_combo_train_halfcheetah_v5-2707_1359',\n",
    "        'ARDT-Internal/ardt-full-dataset_combo_train_halfcheetah_v6-2707_1408'\n",
    "    ]:\n",
    "        print(f\"Deleting {model.modelId}\")\n",
    "        s = hf_api.delete_repo(model.modelId)\n",
    "        print(f\"Status: {s}\")"
   ]
  }
 ],
 "metadata": {
  "kernelspec": {
   "display_name": "fp-adt",
   "language": "python",
   "name": "python3"
  },
  "language_info": {
   "codemirror_mode": {
    "name": "ipython",
    "version": 3
   },
   "file_extension": ".py",
   "mimetype": "text/x-python",
   "name": "python",
   "nbconvert_exporter": "python",
   "pygments_lexer": "ipython3",
   "version": "3.10.11"
  },
  "orig_nbformat": 4
 },
 "nbformat": 4,
 "nbformat_minor": 2
}
