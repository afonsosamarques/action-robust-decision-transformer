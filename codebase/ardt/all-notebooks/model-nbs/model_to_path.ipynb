{
 "cells": [
  {
   "cell_type": "code",
   "execution_count": null,
   "metadata": {},
   "outputs": [],
   "source": [
    "import sys\n",
    "import os\n",
    "dir = os.path.abspath('')\n",
    "while not dir.endswith('ardt'): dir = os.path.dirname(dir)\n",
    "if not dir in sys.path: sys.path.append(dir)"
   ]
  },
  {
   "cell_type": "code",
   "execution_count": null,
   "metadata": {},
   "outputs": [],
   "source": [
    "from huggingface_hub import HfApi\n",
    "from transformers import DecisionTransformerConfig\n",
    "\n",
    "from access_tokens import HF_WRITE_TOKEN"
   ]
  },
  {
   "cell_type": "code",
   "execution_count": null,
   "metadata": {},
   "outputs": [],
   "source": [
    "hf_api = HfApi(\n",
    "    endpoint=\"https://huggingface.co\", \n",
    "    token=HF_WRITE_TOKEN,\n",
    ")"
   ]
  },
  {
   "cell_type": "code",
   "execution_count": null,
   "metadata": {},
   "outputs": [],
   "source": [
    "# PROJECT = \"single-policy-learning\"\n",
    "PROJECT = \"multi-policy-learning\"\n",
    "# PROJECT = \"impact-on-nonadv-policy\"\n",
    "# PROJECT = \"ppo-level\""
   ]
  },
  {
   "cell_type": "code",
   "execution_count": null,
   "metadata": {},
   "outputs": [],
   "source": [
    "MODEL_TYPES = ['dt', 'ardt-vanilla', 'ardt-multipart']\n",
    "# MODEL_TYPES = ['ardt-vanilla', 'ardt-multipart']"
   ]
  },
  {
   "cell_type": "code",
   "execution_count": null,
   "metadata": {},
   "outputs": [],
   "source": [
    "models = hf_api.list_models(author=PROJECT)\n",
    "model_ids = sorted([m.modelId for m in models])"
   ]
  },
  {
   "cell_type": "code",
   "execution_count": null,
   "metadata": {},
   "outputs": [],
   "source": [
    "models = hf_api.list_models(author=PROJECT)\n",
    "\n",
    "model_to_path = []\n",
    "for model in models:\n",
    "    try:\n",
    "        hf_project = model.modelId.split('/')[0]\n",
    "        model_name = model.modelId.split('/')[1]\n",
    "        model_type = None\n",
    "        for possible_type in MODEL_TYPES:\n",
    "            if model_name.startswith(possible_type + \"-\"):\n",
    "                model_type = possible_type\n",
    "        if model_type is None: continue\n",
    "        model_config = DecisionTransformerConfig.from_pretrained(f\"{PROJECT}/\" + model_name)\n",
    "        model_path = 'hf'\n",
    "        model_to_path.append((model_name, model_type, model_path, model_config))\n",
    "    except Exception:\n",
    "        continue\n",
    "\n",
    "model_to_path = sorted(model_to_path, key=lambda x: x[0])\n",
    "print(len(model_to_path))\n",
    "    "
   ]
  },
  {
   "cell_type": "code",
   "execution_count": null,
   "metadata": {},
   "outputs": [],
   "source": [
    "print([m[0] for m in model_to_path])\n",
    "print([m[1] for m in model_to_path])\n",
    "print([m[2] for m in model_to_path])"
   ]
  }
 ],
 "metadata": {
  "kernelspec": {
   "display_name": "fp-adt",
   "language": "python",
   "name": "python3"
  },
  "language_info": {
   "codemirror_mode": {
    "name": "ipython",
    "version": 3
   },
   "file_extension": ".py",
   "mimetype": "text/x-python",
   "name": "python",
   "nbconvert_exporter": "python",
   "pygments_lexer": "ipython3",
   "version": "3.10.11"
  },
  "orig_nbformat": 4
 },
 "nbformat": 4,
 "nbformat_minor": 2
}
