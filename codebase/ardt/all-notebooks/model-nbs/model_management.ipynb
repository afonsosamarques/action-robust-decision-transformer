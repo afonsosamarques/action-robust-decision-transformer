{
 "cells": [
  {
   "cell_type": "markdown",
   "metadata": {},
   "source": [
    "## Adv"
   ]
  },
  {
   "cell_type": "code",
   "execution_count": null,
   "metadata": {},
   "outputs": [],
   "source": [
    "l_high_1 = ['ardt-multipart-arrl_sgld_train_halfcheetah_high-2308_0750-33', 'ardt-multipart-arrl_sgld_train_halfcheetah_high-2308_1003-66', 'ardt-multipart-arrl_sgld_train_halfcheetah_high-2308_1230-99', 'ardt-multipart-arrl_sgld_train_hopper_high-2308_1340-33', 'ardt-multipart-arrl_sgld_train_hopper_high-2308_1414-66', 'ardt-multipart-arrl_sgld_train_hopper_high-2308_1449-99', 'ardt-multipart-arrl_sgld_train_walker2d_high-2408_0605-33', 'ardt-multipart-arrl_sgld_train_walker2d_high-2408_0701-66', 'ardt-multipart-arrl_sgld_train_walker2d_high-2408_0757-99', 'ardt-multipart-arrl_train_halfcheetah_high-2308_0110-33', 'ardt-multipart-arrl_train_halfcheetah_high-2308_0323-66', 'ardt-multipart-arrl_train_halfcheetah_high-2308_0537-99', 'ardt-multipart-arrl_train_hopper_high-2308_1134-33', 'ardt-multipart-arrl_train_hopper_high-2308_1216-66', 'ardt-multipart-arrl_train_hopper_high-2308_1259-99', 'ardt-multipart-arrl_train_walker2d_high-2408_0127-33', 'ardt-multipart-arrl_train_walker2d_high-2408_0303-66', 'ardt-multipart-arrl_train_walker2d_high-2408_0434-99', 'ardt-vanilla-arrl_sgld_train_halfcheetah_high-2508_0437-33', 'ardt-vanilla-arrl_sgld_train_halfcheetah_high-2508_0648-66', 'ardt-vanilla-arrl_sgld_train_halfcheetah_high-2508_0900-99', 'ardt-vanilla-arrl_sgld_train_hopper_high-2508_1903-33', 'ardt-vanilla-arrl_sgld_train_hopper_high-2508_1937-66', 'ardt-vanilla-arrl_sgld_train_hopper_high-2508_2011-99', 'ardt-vanilla-arrl_sgld_train_walker2d_high-2608_1112-33', 'ardt-vanilla-arrl_sgld_train_walker2d_high-2608_1206-66', 'ardt-vanilla-arrl_sgld_train_walker2d_high-2608_1258-99', 'ardt-vanilla-arrl_train_halfcheetah_high-2408_2205-33', 'ardt-vanilla-arrl_train_halfcheetah_high-2508_0016-66', 'ardt-vanilla-arrl_train_halfcheetah_high-2508_0228-99', 'ardt-vanilla-arrl_train_hopper_high-2508_1706-33', 'ardt-vanilla-arrl_train_hopper_high-2508_1744-66', 'ardt-vanilla-arrl_train_hopper_high-2508_1824-99', 'ardt-vanilla-arrl_train_walker2d_high-2608_0712-33', 'ardt-vanilla-arrl_train_walker2d_high-2608_0832-66', 'ardt-vanilla-arrl_train_walker2d_high-2608_0951-99']\n",
    "l_high_2 = ['ardt-multipart', 'ardt-multipart', 'ardt-multipart', 'ardt-multipart', 'ardt-multipart', 'ardt-multipart', 'ardt-multipart', 'ardt-multipart', 'ardt-multipart', 'ardt-multipart', 'ardt-multipart', 'ardt-multipart', 'ardt-multipart', 'ardt-multipart', 'ardt-multipart', 'ardt-multipart', 'ardt-multipart', 'ardt-multipart', 'ardt-vanilla', 'ardt-vanilla', 'ardt-vanilla', 'ardt-vanilla', 'ardt-vanilla', 'ardt-vanilla', 'ardt-vanilla', 'ardt-vanilla', 'ardt-vanilla', 'ardt-vanilla', 'ardt-vanilla', 'ardt-vanilla', 'ardt-vanilla', 'ardt-vanilla', 'ardt-vanilla', 'ardt-vanilla', 'ardt-vanilla', 'ardt-vanilla']\n",
    "l_high_3 = ['hf', 'hf', 'hf', 'hf', 'hf', 'hf', 'hf', 'hf', 'hf', 'hf', 'hf', 'hf', 'hf', 'hf', 'hf', 'hf', 'hf', 'hf', 'hf', 'hf', 'hf', 'hf', 'hf', 'hf', 'hf', 'hf', 'hf', 'hf', 'hf', 'hf', 'hf', 'hf', 'hf', 'hf', 'hf', 'hf']\n",
    "\n",
    "print(len(l_high_1))"
   ]
  },
  {
   "cell_type": "code",
   "execution_count": null,
   "metadata": {},
   "outputs": [],
   "source": [
    "l_combo_1 = ['ardt-multipart-combo_train_halfcheetah_v2-2208_2250-33', 'ardt-multipart-combo_train_halfcheetah_v2-2308_0102-66', 'ardt-multipart-combo_train_halfcheetah_v2-2308_0313-99', 'ardt-multipart-combo_train_hopper_v2-2308_0755-33', 'ardt-multipart-combo_train_hopper_v2-2308_0906-66', 'ardt-multipart-combo_train_hopper_v2-2308_1018-99', 'ardt-multipart-combo_train_walker2d_v2-2308_1950-33', 'ardt-multipart-combo_train_walker2d_v2-2308_2138-66', 'ardt-multipart-combo_train_walker2d_v2-2308_2328-99', 'ardt-vanilla-combo_train_halfcheetah_v2-2408_1524-33', 'ardt-vanilla-combo_train_halfcheetah_v2-2408_1736-66', 'ardt-vanilla-combo_train_halfcheetah_v2-2408_1948-99', 'ardt-vanilla-combo_train_hopper_v2-2508_1336-33', 'ardt-vanilla-combo_train_hopper_v2-2508_1445-66', 'ardt-vanilla-combo_train_hopper_v2-2508_1553-99', 'ardt-vanilla-combo_train_walker2d_v2-2608_0132-33', 'ardt-vanilla-combo_train_walker2d_v2-2608_0328-66', 'ardt-vanilla-combo_train_walker2d_v2-2608_0519-99']\n",
    "l_combo_2 = ['ardt-multipart', 'ardt-multipart', 'ardt-multipart', 'ardt-multipart', 'ardt-multipart', 'ardt-multipart', 'ardt-multipart', 'ardt-multipart', 'ardt-multipart', 'ardt-vanilla', 'ardt-vanilla', 'ardt-vanilla', 'ardt-vanilla', 'ardt-vanilla', 'ardt-vanilla', 'ardt-vanilla', 'ardt-vanilla', 'ardt-vanilla']\n",
    "l_combo_3 = ['hf', 'hf', 'hf', 'hf', 'hf', 'hf', 'hf', 'hf', 'hf', 'hf', 'hf', 'hf', 'hf', 'hf', 'hf', 'hf', 'hf', 'hf']\n",
    "\n",
    "print(len(l_combo_1))"
   ]
  },
  {
   "cell_type": "code",
   "execution_count": null,
   "metadata": {},
   "outputs": [],
   "source": [
    "l_robust_1 = ['ardt-multipart-robust_train_halfcheetah_v3-2208_1552-33', 'ardt-multipart-robust_train_halfcheetah_v3-2208_1806-66', 'ardt-multipart-robust_train_halfcheetah_v3-2208_2018-99', 'ardt-multipart-robust_train_hopper_v3-2308_0529-33', 'ardt-multipart-robust_train_hopper_v3-2308_0618-66', 'ardt-multipart-robust_train_hopper_v3-2308_0706-99', 'ardt-multipart-robust_train_walker2d_v3-2308_1529-33', 'ardt-multipart-robust_train_walker2d_v3-2308_1656-66', 'ardt-multipart-robust_train_walker2d_v3-2308_1824-99', 'ardt-vanilla-robust_train_halfcheetah_v3-2408_0854-33', 'ardt-vanilla-robust_train_halfcheetah_v3-2408_1108-66', 'ardt-vanilla-robust_train_halfcheetah_v3-2408_1315-99', 'ardt-vanilla-robust_train_hopper_v3-2508_1114-33', 'ardt-vanilla-robust_train_hopper_v3-2508_1202-66', 'ardt-vanilla-robust_train_hopper_v3-2508_1249-99', 'ardt-vanilla-robust_train_walker2d_v3-2508_2046-33', 'ardt-vanilla-robust_train_walker2d_v3-2508_2219-66', 'ardt-vanilla-robust_train_walker2d_v3-2508_2359-99']\n",
    "l_robust_2 = ['ardt-multipart', 'ardt-multipart', 'ardt-multipart', 'ardt-multipart', 'ardt-multipart', 'ardt-multipart', 'ardt-multipart', 'ardt-multipart', 'ardt-multipart', 'ardt-vanilla', 'ardt-vanilla', 'ardt-vanilla', 'ardt-vanilla', 'ardt-vanilla', 'ardt-vanilla', 'ardt-vanilla', 'ardt-vanilla', 'ardt-vanilla']\n",
    "l_robust_3 = ['hf', 'hf', 'hf', 'hf', 'hf', 'hf', 'hf', 'hf', 'hf', 'hf', 'hf', 'hf', 'hf', 'hf', 'hf', 'hf', 'hf', 'hf']\n",
    "\n",
    "print(len(l_robust_1))"
   ]
  },
  {
   "cell_type": "code",
   "execution_count": null,
   "metadata": {},
   "outputs": [],
   "source": [
    "l_robust_level_1 = ['ardt-multipart-robust_train_halfcheetah_level-0109_2000-33', 'ardt-multipart-robust_train_halfcheetah_level-0109_2225-66', 'ardt-multipart-robust_train_halfcheetah_level-0209_0046-99', 'ardt-multipart-robust_train_hopper_level-0109_2000-33', 'ardt-multipart-robust_train_hopper_level-0109_2041-66', 'ardt-multipart-robust_train_hopper_level-0109_2125-99', 'ardt-multipart-robust_train_walker2d_level-0109_2144-33', 'ardt-multipart-robust_train_walker2d_level-0109_2337-66', 'ardt-multipart-robust_train_walker2d_level-0209_0140-99', 'ardt-vanilla-robust_train_halfcheetah_level-0109_2214-33', 'ardt-vanilla-robust_train_halfcheetah_level-0209_0031-66', 'ardt-vanilla-robust_train_halfcheetah_level-0209_0247-99', 'ardt-vanilla-robust_train_hopper_level-0209_0214-33', 'ardt-vanilla-robust_train_hopper_level-0209_0253-66', 'ardt-vanilla-robust_train_hopper_level-0209_0334-99', 'ardt-vanilla-robust_train_walker2d_level-0209_0306-33', 'ardt-vanilla-robust_train_walker2d_level-0209_0437-66', 'ardt-vanilla-robust_train_walker2d_level-0209_0608-99']\n",
    "l_robust_level_2 = ['ardt-multipart', 'ardt-multipart', 'ardt-multipart', 'ardt-multipart', 'ardt-multipart', 'ardt-multipart', 'ardt-multipart', 'ardt-multipart', 'ardt-multipart', 'ardt-vanilla', 'ardt-vanilla', 'ardt-vanilla', 'ardt-vanilla', 'ardt-vanilla', 'ardt-vanilla', 'ardt-vanilla', 'ardt-vanilla', 'ardt-vanilla']\n",
    "l_robust_level_3 = ['hf', 'hf', 'hf', 'hf', 'hf', 'hf', 'hf', 'hf', 'hf', 'hf', 'hf', 'hf', 'hf', 'hf', 'hf', 'hf', 'hf', 'hf']\n",
    "\n",
    "print(len(l_robust_level_1))"
   ]
  },
  {
   "cell_type": "code",
   "execution_count": null,
   "metadata": {},
   "outputs": [],
   "source": [
    "adv_1 = l_high_1 + l_combo_1 + l_robust_1 + l_robust_level_1\n",
    "adv_2 = l_high_2 + l_combo_2 + l_robust_2 + l_robust_level_2\n",
    "adv_3 = l_high_3 + l_combo_3 + l_robust_3 + l_robust_level_3\n",
    "\n",
    "print(len(adv_1))"
   ]
  },
  {
   "cell_type": "code",
   "execution_count": null,
   "metadata": {},
   "outputs": [],
   "source": [
    "print(adv_1)\n",
    "print(adv_2)\n",
    "print(adv_3)"
   ]
  },
  {
   "cell_type": "markdown",
   "metadata": {},
   "source": [
    "## Filter Adv"
   ]
  },
  {
   "cell_type": "code",
   "execution_count": null,
   "metadata": {},
   "outputs": [],
   "source": [
    "chosen_env = 'halfcheetah'\n",
    "\n",
    "prefinal_adv_1 = []\n",
    "prefinal_adv_2 = []\n",
    "prefinal_adv_3 = []\n",
    "for e1, e2, e3 in zip(adv_1, adv_2, adv_3):\n",
    "    if chosen_env in e1:\n",
    "        prefinal_adv_1.append(e1)\n",
    "        prefinal_adv_2.append(e2)\n",
    "        prefinal_adv_3.append(e3)\n",
    "\n",
    "final_adv_1 = ['no-adv'] + prefinal_adv_1\n",
    "final_adv_2 = ['zeroagent'] + prefinal_adv_2\n",
    "final_adv_3 = [f'evaluation_protocol/trained_models/zeroagent/model_{chosen_env}.json'] + prefinal_adv_3\n",
    "\n",
    "print(f\"Confirm length for env {chosen_env}: {len(final_adv_1)}\")\n",
    "print(\"adv_model_names:\", final_adv_1)\n",
    "print(\"adv_model_types:\", final_adv_2)\n",
    "print(\"adv_model_paths:\", final_adv_3)"
   ]
  },
  {
   "cell_type": "code",
   "execution_count": null,
   "metadata": {},
   "outputs": [],
   "source": [
    "chosen_env = 'hopper'\n",
    "\n",
    "prefinal_adv_1 = []\n",
    "prefinal_adv_2 = []\n",
    "prefinal_adv_3 = []\n",
    "for e1, e2, e3 in zip(adv_1, adv_2, adv_3):\n",
    "    if chosen_env in e1:\n",
    "        prefinal_adv_1.append(e1)\n",
    "        prefinal_adv_2.append(e2)\n",
    "        prefinal_adv_3.append(e3)\n",
    "\n",
    "final_adv_1 = ['no-adv'] + prefinal_adv_1\n",
    "final_adv_2 = ['zeroagent'] + prefinal_adv_2\n",
    "final_adv_3 = [f'evaluation_protocol/trained_models/zeroagent/model_{chosen_env}.json'] + prefinal_adv_3\n",
    "\n",
    "print(f\"Confirm length for env {chosen_env}: {len(final_adv_1)}\")\n",
    "print(\"adv_model_names:\", final_adv_1)\n",
    "print(\"adv_model_types:\", final_adv_2)\n",
    "print(\"adv_model_paths:\", final_adv_3)"
   ]
  },
  {
   "cell_type": "code",
   "execution_count": null,
   "metadata": {},
   "outputs": [],
   "source": [
    "chosen_env = 'walker2d'\n",
    "\n",
    "prefinal_adv_1 = []\n",
    "prefinal_adv_2 = []\n",
    "prefinal_adv_3 = []\n",
    "for e1, e2, e3 in zip(adv_1, adv_2, adv_3):\n",
    "    if chosen_env in e1:\n",
    "        prefinal_adv_1.append(e1)\n",
    "        prefinal_adv_2.append(e2)\n",
    "        prefinal_adv_3.append(e3)\n",
    "\n",
    "final_adv_1 = ['no-adv'] + prefinal_adv_1\n",
    "final_adv_2 = ['zeroagent'] + prefinal_adv_2\n",
    "final_adv_3 = [f'evaluation_protocol/trained_models/zeroagent/model_{chosen_env}.json'] + prefinal_adv_3\n",
    "\n",
    "print(f\"Confirm length for env {chosen_env}: {len(final_adv_1)}\")\n",
    "print(\"adv_model_names:\", final_adv_1)\n",
    "print(\"adv_model_types:\", final_adv_2)\n",
    "print(\"adv_model_paths:\", final_adv_3)"
   ]
  },
  {
   "cell_type": "markdown",
   "metadata": {},
   "source": [
    "## All"
   ]
  },
  {
   "cell_type": "code",
   "execution_count": null,
   "metadata": {},
   "outputs": [],
   "source": [
    "a_high_1 = ['ardt-multipart-arrl_sgld_train_halfcheetah_high-2308_0750-33', 'ardt-multipart-arrl_sgld_train_halfcheetah_high-2308_1003-66', 'ardt-multipart-arrl_sgld_train_halfcheetah_high-2308_1230-99', 'ardt-multipart-arrl_sgld_train_hopper_high-2308_1340-33', 'ardt-multipart-arrl_sgld_train_hopper_high-2308_1414-66', 'ardt-multipart-arrl_sgld_train_hopper_high-2308_1449-99', 'ardt-multipart-arrl_sgld_train_walker2d_high-2408_0605-33', 'ardt-multipart-arrl_sgld_train_walker2d_high-2408_0701-66', 'ardt-multipart-arrl_sgld_train_walker2d_high-2408_0757-99', 'ardt-multipart-arrl_train_halfcheetah_high-2308_0110-33', 'ardt-multipart-arrl_train_halfcheetah_high-2308_0323-66', 'ardt-multipart-arrl_train_halfcheetah_high-2308_0537-99', 'ardt-multipart-arrl_train_hopper_high-2308_1134-33', 'ardt-multipart-arrl_train_hopper_high-2308_1216-66', 'ardt-multipart-arrl_train_hopper_high-2308_1259-99', 'ardt-multipart-arrl_train_walker2d_high-2408_0127-33', 'ardt-multipart-arrl_train_walker2d_high-2408_0303-66', 'ardt-multipart-arrl_train_walker2d_high-2408_0434-99', 'ardt-vanilla-arrl_sgld_train_halfcheetah_high-2508_0437-33', 'ardt-vanilla-arrl_sgld_train_halfcheetah_high-2508_0648-66', 'ardt-vanilla-arrl_sgld_train_halfcheetah_high-2508_0900-99', 'ardt-vanilla-arrl_sgld_train_hopper_high-2508_1903-33', 'ardt-vanilla-arrl_sgld_train_hopper_high-2508_1937-66', 'ardt-vanilla-arrl_sgld_train_hopper_high-2508_2011-99', 'ardt-vanilla-arrl_sgld_train_walker2d_high-2608_1112-33', 'ardt-vanilla-arrl_sgld_train_walker2d_high-2608_1206-66', 'ardt-vanilla-arrl_sgld_train_walker2d_high-2608_1258-99', 'ardt-vanilla-arrl_train_halfcheetah_high-2408_2205-33', 'ardt-vanilla-arrl_train_halfcheetah_high-2508_0016-66', 'ardt-vanilla-arrl_train_halfcheetah_high-2508_0228-99', 'ardt-vanilla-arrl_train_hopper_high-2508_1706-33', 'ardt-vanilla-arrl_train_hopper_high-2508_1744-66', 'ardt-vanilla-arrl_train_hopper_high-2508_1824-99', 'ardt-vanilla-arrl_train_walker2d_high-2608_0712-33', 'ardt-vanilla-arrl_train_walker2d_high-2608_0832-66', 'ardt-vanilla-arrl_train_walker2d_high-2608_0951-99', 'dt-arrl_sgld_train_halfcheetah_high-2708_0940-33', 'dt-arrl_sgld_train_halfcheetah_high-2708_1151-66', 'dt-arrl_sgld_train_halfcheetah_high-2708_1402-99', 'dt-arrl_sgld_train_hopper_high-2908_1405-33', 'dt-arrl_sgld_train_hopper_high-2908_1437-66', 'dt-arrl_sgld_train_hopper_high-2908_1509-99', 'dt-arrl_sgld_train_walker2d_high-2908_1606-33', 'dt-arrl_sgld_train_walker2d_high-2908_1658-66', 'dt-arrl_sgld_train_walker2d_high-2908_1749-99', 'dt-arrl_train_halfcheetah_high-2708_0309-33', 'dt-arrl_train_halfcheetah_high-2708_0519-66', 'dt-arrl_train_halfcheetah_high-2708_0731-99', 'dt-arrl_train_hopper_high-2908_1211-33', 'dt-arrl_train_hopper_high-2908_1249-66', 'dt-arrl_train_hopper_high-2908_1327-99', 'dt-arrl_train_walker2d_high-2908_1211-33', 'dt-arrl_train_walker2d_high-2908_1331-66', 'dt-arrl_train_walker2d_high-2908_1447-99']\n",
    "a_high_2 = ['ardt-multipart', 'ardt-multipart', 'ardt-multipart', 'ardt-multipart', 'ardt-multipart', 'ardt-multipart', 'ardt-multipart', 'ardt-multipart', 'ardt-multipart', 'ardt-multipart', 'ardt-multipart', 'ardt-multipart', 'ardt-multipart', 'ardt-multipart', 'ardt-multipart', 'ardt-multipart', 'ardt-multipart', 'ardt-multipart', 'ardt-vanilla', 'ardt-vanilla', 'ardt-vanilla', 'ardt-vanilla', 'ardt-vanilla', 'ardt-vanilla', 'ardt-vanilla', 'ardt-vanilla', 'ardt-vanilla', 'ardt-vanilla', 'ardt-vanilla', 'ardt-vanilla', 'ardt-vanilla', 'ardt-vanilla', 'ardt-vanilla', 'ardt-vanilla', 'ardt-vanilla', 'ardt-vanilla', 'dt', 'dt', 'dt', 'dt', 'dt', 'dt', 'dt', 'dt', 'dt', 'dt', 'dt', 'dt', 'dt', 'dt', 'dt', 'dt', 'dt', 'dt']\n",
    "a_high_3 = ['hf', 'hf', 'hf', 'hf', 'hf', 'hf', 'hf', 'hf', 'hf', 'hf', 'hf', 'hf', 'hf', 'hf', 'hf', 'hf', 'hf', 'hf', 'hf', 'hf', 'hf', 'hf', 'hf', 'hf', 'hf', 'hf', 'hf', 'hf', 'hf', 'hf', 'hf', 'hf', 'hf', 'hf', 'hf', 'hf', 'hf', 'hf', 'hf', 'hf', 'hf', 'hf', 'hf', 'hf', 'hf', 'hf', 'hf', 'hf', 'hf', 'hf', 'hf', 'hf', 'hf', 'hf']\n",
    "\n",
    "print(len(a_high_1))"
   ]
  },
  {
   "cell_type": "code",
   "execution_count": null,
   "metadata": {},
   "outputs": [],
   "source": [
    "arrl_idx = [i for i, m in enumerate(a_high_1) if 'sgld' not in m]\n",
    "a_arrl_high_1 = [a_high_1[i] for i in arrl_idx]\n",
    "a_arrl_high_2 = [a_high_2[i] for i in arrl_idx]\n",
    "a_arrl_high_3 = [a_high_3[i] for i in arrl_idx]\n",
    "\n",
    "print(len(a_arrl_high_1))"
   ]
  },
  {
   "cell_type": "code",
   "execution_count": null,
   "metadata": {},
   "outputs": [],
   "source": [
    "arrl_sgld_idx = [i for i, m in enumerate(a_high_1) if 'sgld' in m]\n",
    "a_arrl_sgld_high_1 = [a_high_1[i] for i in arrl_sgld_idx]\n",
    "a_arrl_sgld_high_2 = [a_high_2[i] for i in arrl_sgld_idx]\n",
    "a_arrl_sgld_high_3 = [a_high_3[i] for i in arrl_sgld_idx]\n",
    "\n",
    "print(len(a_arrl_sgld_high_1))"
   ]
  },
  {
   "cell_type": "code",
   "execution_count": null,
   "metadata": {},
   "outputs": [],
   "source": [
    "a_combo_1 = ['ardt-multipart-combo_train_halfcheetah_v2-2208_2250-33', 'ardt-multipart-combo_train_halfcheetah_v2-2308_0102-66', 'ardt-multipart-combo_train_halfcheetah_v2-2308_0313-99', 'ardt-multipart-combo_train_hopper_v2-2308_0755-33', 'ardt-multipart-combo_train_hopper_v2-2308_0906-66', 'ardt-multipart-combo_train_hopper_v2-2308_1018-99', 'ardt-multipart-combo_train_walker2d_v2-2308_1950-33', 'ardt-multipart-combo_train_walker2d_v2-2308_2138-66', 'ardt-multipart-combo_train_walker2d_v2-2308_2328-99', 'ardt-vanilla-combo_train_halfcheetah_v2-2408_1524-33', 'ardt-vanilla-combo_train_halfcheetah_v2-2408_1736-66', 'ardt-vanilla-combo_train_halfcheetah_v2-2408_1948-99', 'ardt-vanilla-combo_train_hopper_v2-2508_1336-33', 'ardt-vanilla-combo_train_hopper_v2-2508_1445-66', 'ardt-vanilla-combo_train_hopper_v2-2508_1553-99', 'ardt-vanilla-combo_train_walker2d_v2-2608_0132-33', 'ardt-vanilla-combo_train_walker2d_v2-2608_0328-66', 'ardt-vanilla-combo_train_walker2d_v2-2608_0519-99', 'dt-combo_train_halfcheetah_v2-2608_2034-33', 'dt-combo_train_halfcheetah_v2-2608_2243-66', 'dt-combo_train_halfcheetah_v2-2708_0054-99', 'dt-combo_train_hopper_v2-2708_1834-33', 'dt-combo_train_hopper_v2-2708_1944-66', 'dt-combo_train_hopper_v2-2908_1026-99', 'dt-combo_train_walker2d_v2-2908_1952-33', 'dt-combo_train_walker2d_v2-2908_2140-66', 'dt-combo_train_walker2d_v2-2908_2327-99']\n",
    "a_combo_2 = ['ardt-multipart', 'ardt-multipart', 'ardt-multipart', 'ardt-multipart', 'ardt-multipart', 'ardt-multipart', 'ardt-multipart', 'ardt-multipart', 'ardt-multipart', 'ardt-vanilla', 'ardt-vanilla', 'ardt-vanilla', 'ardt-vanilla', 'ardt-vanilla', 'ardt-vanilla', 'ardt-vanilla', 'ardt-vanilla', 'ardt-vanilla', 'dt', 'dt', 'dt', 'dt', 'dt', 'dt', 'dt', 'dt', 'dt']\n",
    "a_combo_3 = ['hf', 'hf', 'hf', 'hf', 'hf', 'hf', 'hf', 'hf', 'hf', 'hf', 'hf', 'hf', 'hf', 'hf', 'hf', 'hf', 'hf', 'hf', 'hf', 'hf', 'hf', 'hf', 'hf', 'hf', 'hf', 'hf', 'hf']\n",
    "\n",
    "print(len(a_combo_1))"
   ]
  },
  {
   "cell_type": "code",
   "execution_count": null,
   "metadata": {},
   "outputs": [],
   "source": [
    "a_robust_1  = ['ardt-multipart-robust_train_halfcheetah_v3-2208_1552-33', 'ardt-multipart-robust_train_halfcheetah_v3-2208_1806-66', 'ardt-multipart-robust_train_halfcheetah_v3-2208_2018-99', 'ardt-multipart-robust_train_hopper_v3-2308_0529-33', 'ardt-multipart-robust_train_hopper_v3-2308_0618-66', 'ardt-multipart-robust_train_hopper_v3-2308_0706-99', 'ardt-multipart-robust_train_walker2d_v3-2308_1529-33', 'ardt-multipart-robust_train_walker2d_v3-2308_1656-66', 'ardt-multipart-robust_train_walker2d_v3-2308_1824-99', 'ardt-vanilla-robust_train_halfcheetah_v3-2408_0854-33', 'ardt-vanilla-robust_train_halfcheetah_v3-2408_1108-66', 'ardt-vanilla-robust_train_halfcheetah_v3-2408_1315-99', 'ardt-vanilla-robust_train_hopper_v3-2508_1114-33', 'ardt-vanilla-robust_train_hopper_v3-2508_1202-66', 'ardt-vanilla-robust_train_hopper_v3-2508_1249-99', 'ardt-vanilla-robust_train_walker2d_v3-2508_2046-33', 'ardt-vanilla-robust_train_walker2d_v3-2508_2219-66', 'ardt-vanilla-robust_train_walker2d_v3-2508_2359-99', 'dt-robust_train_halfcheetah_v3-2608_1354-33', 'dt-robust_train_halfcheetah_v3-2608_1609-66', 'dt-robust_train_halfcheetah_v3-2608_1822-99', 'dt-robust_train_hopper_v3-2708_1612-33', 'dt-robust_train_hopper_v3-2708_1659-66', 'dt-robust_train_hopper_v3-2708_1747-99', 'dt-robust_train_walker2d_v3-2908_1545-33', 'dt-robust_train_walker2d_v3-2908_1707-66', 'dt-robust_train_walker2d_v3-2908_1830-99']\n",
    "a_robust_2 = ['ardt-multipart', 'ardt-multipart', 'ardt-multipart', 'ardt-multipart', 'ardt-multipart', 'ardt-multipart', 'ardt-multipart', 'ardt-multipart', 'ardt-multipart', 'ardt-vanilla', 'ardt-vanilla', 'ardt-vanilla', 'ardt-vanilla', 'ardt-vanilla', 'ardt-vanilla', 'ardt-vanilla', 'ardt-vanilla', 'ardt-vanilla', 'dt', 'dt', 'dt', 'dt', 'dt', 'dt', 'dt', 'dt', 'dt']\n",
    "a_robust_3 = ['hf', 'hf', 'hf', 'hf', 'hf', 'hf', 'hf', 'hf', 'hf', 'hf', 'hf', 'hf', 'hf', 'hf', 'hf', 'hf', 'hf', 'hf', 'hf', 'hf', 'hf', 'hf', 'hf', 'hf', 'hf', 'hf', 'hf']\n",
    "\n",
    "print(len(a_robust_1))"
   ]
  },
  {
   "cell_type": "code",
   "execution_count": null,
   "metadata": {},
   "outputs": [],
   "source": [
    "a_robust_level_1 = ['ardt-multipart-robust_train_halfcheetah_level-0109_2000-33', 'ardt-multipart-robust_train_halfcheetah_level-0109_2225-66', 'ardt-multipart-robust_train_halfcheetah_level-0209_0046-99', 'ardt-multipart-robust_train_hopper_level-0109_2000-33', 'ardt-multipart-robust_train_hopper_level-0109_2041-66', 'ardt-multipart-robust_train_hopper_level-0109_2125-99', 'ardt-multipart-robust_train_walker2d_level-0109_2144-33', 'ardt-multipart-robust_train_walker2d_level-0109_2337-66', 'ardt-multipart-robust_train_walker2d_level-0209_0140-99', 'ardt-vanilla-robust_train_halfcheetah_level-0109_2214-33', 'ardt-vanilla-robust_train_halfcheetah_level-0209_0031-66', 'ardt-vanilla-robust_train_halfcheetah_level-0209_0247-99', 'ardt-vanilla-robust_train_hopper_level-0209_0214-33', 'ardt-vanilla-robust_train_hopper_level-0209_0253-66', 'ardt-vanilla-robust_train_hopper_level-0209_0334-99', 'ardt-vanilla-robust_train_walker2d_level-0209_0306-33', 'ardt-vanilla-robust_train_walker2d_level-0209_0437-66', 'ardt-vanilla-robust_train_walker2d_level-0209_0608-99', 'dt-robust_train_halfcheetah_level-3008_1516-33', 'dt-robust_train_halfcheetah_level-3008_1729-66', 'dt-robust_train_halfcheetah_level-3008_1944-99', 'dt-robust_train_hopper_level-3008_1728-33', 'dt-robust_train_hopper_level-3008_1816-66', 'dt-robust_train_hopper_level-3008_1903-99', 'dt-robust_train_walker2d_level-3008_1738-33', 'dt-robust_train_walker2d_level-3008_1927-66', 'dt-robust_train_walker2d_level-3008_2115-99']\n",
    "a_robust_level_2 = ['ardt-multipart', 'ardt-multipart', 'ardt-multipart', 'ardt-multipart', 'ardt-multipart', 'ardt-multipart', 'ardt-multipart', 'ardt-multipart', 'ardt-multipart', 'ardt-vanilla', 'ardt-vanilla', 'ardt-vanilla', 'ardt-vanilla', 'ardt-vanilla', 'ardt-vanilla', 'ardt-vanilla', 'ardt-vanilla', 'ardt-vanilla', 'dt', 'dt', 'dt', 'dt', 'dt', 'dt', 'dt', 'dt', 'dt']\n",
    "a_robust_level_3 = ['hf', 'hf', 'hf', 'hf', 'hf', 'hf', 'hf', 'hf', 'hf', 'hf', 'hf', 'hf', 'hf', 'hf', 'hf', 'hf', 'hf', 'hf', 'hf', 'hf', 'hf', 'hf', 'hf', 'hf', 'hf', 'hf', 'hf']\n",
    "\n",
    "print(len(a_robust_level_1))"
   ]
  },
  {
   "cell_type": "code",
   "execution_count": null,
   "metadata": {},
   "outputs": [],
   "source": [
    "a_ppo_1 = ['ardt-multipart-ppo_train_halfcheetah_level-3108_0401-33', 'ardt-multipart-ppo_train_halfcheetah_level-3108_0610-66', 'ardt-multipart-ppo_train_halfcheetah_level-3108_0822-99', 'ardt-multipart-ppo_train_hopper_level-3108_0802-33', 'ardt-multipart-ppo_train_hopper_level-3108_0919-66', 'ardt-multipart-ppo_train_hopper_level-3108_1037-99', 'ardt-multipart-ppo_train_walker2d_level-3108_0934-33', 'ardt-multipart-ppo_train_walker2d_level-3108_1139-66', 'ardt-multipart-ppo_train_walker2d_level-3108_1436-99', 'ardt-vanilla-ppo_train_halfcheetah_level-3108_0401-33', 'ardt-vanilla-ppo_train_halfcheetah_level-3108_0607-66', 'ardt-vanilla-ppo_train_halfcheetah_level-3108_0816-99', 'ardt-vanilla-ppo_train_hopper_level-3108_0844-33', 'ardt-vanilla-ppo_train_hopper_level-3108_1012-66', 'ardt-vanilla-ppo_train_hopper_level-3108_1144-99', 'ardt-vanilla-ppo_train_walker2d_level-3108_1028-33', 'ardt-vanilla-ppo_train_walker2d_level-3108_1203-66', 'ardt-vanilla-ppo_train_walker2d_level-3108_1426-99', 'dt-ppo_train_halfcheetah_level-3108_0527-33', 'dt-ppo_train_halfcheetah_level-3108_0816-66', 'dt-ppo_train_halfcheetah_level-3108_1105-99', 'dt-ppo_train_hopper_level-3108_0851-33', 'dt-ppo_train_hopper_level-3108_1003-66', 'dt-ppo_train_hopper_level-3108_1115-99', 'dt-ppo_train_walker2d_level-3108_1042-33', 'dt-ppo_train_walker2d_level-3108_1217-66', 'dt-ppo_train_walker2d_level-3108_1440-99']\n",
    "a_ppo_2 = ['ardt-multipart', 'ardt-multipart', 'ardt-multipart', 'ardt-multipart', 'ardt-multipart', 'ardt-multipart', 'ardt-multipart', 'ardt-multipart', 'ardt-multipart', 'ardt-vanilla', 'ardt-vanilla', 'ardt-vanilla', 'ardt-vanilla', 'ardt-vanilla', 'ardt-vanilla', 'ardt-vanilla', 'ardt-vanilla', 'ardt-vanilla', 'dt', 'dt', 'dt', 'dt', 'dt', 'dt', 'dt', 'dt', 'dt']\n",
    "a_ppo_3 = ['hf', 'hf', 'hf', 'hf', 'hf', 'hf', 'hf', 'hf', 'hf', 'hf', 'hf', 'hf', 'hf', 'hf', 'hf', 'hf', 'hf', 'hf', 'hf', 'hf', 'hf', 'hf', 'hf', 'hf', 'hf', 'hf', 'hf']\n",
    "\n",
    "print(len(a_ppo_1))"
   ]
  },
  {
   "cell_type": "code",
   "execution_count": null,
   "metadata": {},
   "outputs": [],
   "source": [
    "all_1 = a_high_1 + a_combo_1 + a_robust_1 + a_robust_level_1 + a_ppo_1\n",
    "all_2 = a_high_2 + a_combo_2 + a_robust_2 + a_robust_level_2 + a_ppo_2\n",
    "all_3 = a_high_3 + a_combo_3 + a_robust_3 + a_robust_level_3 + a_ppo_3\n",
    "\n",
    "print(len(all_1))"
   ]
  },
  {
   "cell_type": "code",
   "execution_count": null,
   "metadata": {},
   "outputs": [],
   "source": [
    "print(all_1)\n",
    "print(all_2)\n",
    "print(all_3)"
   ]
  },
  {
   "cell_type": "markdown",
   "metadata": {},
   "source": [
    "## Filter All"
   ]
  },
  {
   "cell_type": "code",
   "execution_count": null,
   "metadata": {},
   "outputs": [],
   "source": [
    "all_types = {\n",
    "    \"arrl_high\": [a_arrl_high_1, a_arrl_high_2, a_arrl_high_3],\n",
    "    \"arrl_sgld_high\": [a_arrl_sgld_high_1, a_arrl_sgld_high_2, a_arrl_sgld_high_3],\n",
    "    \"combo\": [a_combo_1, a_combo_2, a_combo_3],\n",
    "    \"robust\": [a_robust_1, a_robust_2, a_robust_3],\n",
    "    \"robust_level\": [a_robust_level_1, a_robust_level_2, a_robust_level_3],\n",
    "    \"ppo\": [a_ppo_1, a_ppo_2, a_ppo_3],\n",
    "}\n",
    "\n",
    "chosen_type = \"ppo\"\n",
    "print(f\"Confirm length for type {chosen_type}: {len(all_types[chosen_type][0])}\")\n",
    "for l in all_types[chosen_type]:\n",
    "    print(l)"
   ]
  },
  {
   "cell_type": "code",
   "execution_count": null,
   "metadata": {},
   "outputs": [],
   "source": [
    "chosen_env = 'halfcheetah'\n",
    "\n",
    "final_all_1 = []\n",
    "final_all_2 = []\n",
    "final_all_3 = []\n",
    "for e1, e2, e3 in zip(all_types[chosen_type][0], all_types[chosen_type][1], all_types[chosen_type][2]):\n",
    "    if chosen_env in e1:\n",
    "        final_all_1.append(e1)\n",
    "        final_all_2.append(e2)\n",
    "        final_all_3.append(e3)\n",
    "\n",
    "print(f\"Confirm length for env {chosen_env}: {len(final_all_1)}\")\n",
    "print(\"trained_model_names:\", final_all_1)\n",
    "print(\"trained_model_types:\", final_all_2)\n",
    "print(\"trained_model_paths:\", final_all_3)"
   ]
  },
  {
   "cell_type": "code",
   "execution_count": null,
   "metadata": {},
   "outputs": [],
   "source": [
    "chosen_env = 'hopper'\n",
    "\n",
    "final_all_1 = []\n",
    "final_all_2 = []\n",
    "final_all_3 = []\n",
    "for e1, e2, e3 in zip(all_types[chosen_type][0], all_types[chosen_type][1], all_types[chosen_type][2]):\n",
    "    if chosen_env in e1:\n",
    "        final_all_1.append(e1)\n",
    "        final_all_2.append(e2)\n",
    "        final_all_3.append(e3)\n",
    "\n",
    "print(f\"Confirm length for env {chosen_env}: {len(final_all_1)}\")\n",
    "print(\"trained_model_names:\", final_all_1)\n",
    "print(\"trained_model_types:\", final_all_2)\n",
    "print(\"trained_model_paths:\", final_all_3)"
   ]
  },
  {
   "cell_type": "code",
   "execution_count": null,
   "metadata": {},
   "outputs": [],
   "source": [
    "chosen_env = 'walker2d'\n",
    "\n",
    "final_all_1 = []\n",
    "final_all_2 = []\n",
    "final_all_3 = []\n",
    "for e1, e2, e3 in zip(all_types[chosen_type][0], all_types[chosen_type][1], all_types[chosen_type][2]):\n",
    "    if chosen_env in e1:\n",
    "        final_all_1.append(e1)\n",
    "        final_all_2.append(e2)\n",
    "        final_all_3.append(e3)\n",
    "\n",
    "print(f\"Confirm length for env {chosen_env}: {len(final_all_1)}\")\n",
    "print(\"trained_model_names:\", final_all_1)\n",
    "print(\"trained_model_types:\", final_all_2)\n",
    "print(\"trained_model_paths:\", final_all_3)"
   ]
  }
 ],
 "metadata": {
  "kernelspec": {
   "display_name": "fp-adt",
   "language": "python",
   "name": "python3"
  },
  "language_info": {
   "codemirror_mode": {
    "name": "ipython",
    "version": 3
   },
   "file_extension": ".py",
   "mimetype": "text/x-python",
   "name": "python",
   "nbconvert_exporter": "python",
   "pygments_lexer": "ipython3",
   "version": "3.10.11"
  },
  "orig_nbformat": 4
 },
 "nbformat": 4,
 "nbformat_minor": 2
}
