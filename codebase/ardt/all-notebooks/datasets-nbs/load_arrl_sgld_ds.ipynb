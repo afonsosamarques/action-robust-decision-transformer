{
 "cells": [
  {
   "cell_type": "code",
   "execution_count": null,
   "metadata": {},
   "outputs": [],
   "source": [
    "import sys\n",
    "import os\n",
    "dir = os.path.abspath('')\n",
    "while not dir.endswith('ardt'): dir = os.path.dirname(dir)\n",
    "if not dir in sys.path: sys.path.append(dir)"
   ]
  },
  {
   "cell_type": "code",
   "execution_count": null,
   "metadata": {},
   "outputs": [],
   "source": [
    "import numpy as np\n",
    "import json\n",
    "import os\n",
    "\n",
    "import matplotlib.pyplot as plt\n",
    "import numpy as np\n",
    "import seaborn as sns\n",
    "\n",
    "from collections import defaultdict\n",
    "\n",
    "from datasets import Dataset\n",
    "\n",
    "from utils.helpers import find_root_dir\n",
    "\n",
    "from access_tokens import HF_WRITE_TOKEN"
   ]
  },
  {
   "cell_type": "code",
   "execution_count": null,
   "metadata": {},
   "outputs": [],
   "source": [
    "ARDT_DIR = find_root_dir()\n",
    "\n",
    "DIR = ARDT_DIR + \"/datasets-raw/arrl-sgld-raw-data/\"\n",
    "ENV_NAME = \"Walker2d-v4\""
   ]
  },
  {
   "cell_type": "code",
   "execution_count": null,
   "metadata": {},
   "outputs": [],
   "source": [
    "def compute_sum(ds):\n",
    "    return {'returns': sum(ds['rewards'])}\n",
    "\n",
    "filenames = next(os.walk(DIR), (None, None, []))[2]\n",
    "for filename in filenames:\n",
    "    if ENV_NAME in filename:\n",
    "        filepath = DIR + filename\n",
    "        with (open(filepath, \"rb\")) as f:\n",
    "            data = json.load(f)\n",
    "\n",
    "        print(f\"File {filename} has {max([int(k) for k in data.keys()])} episodes.\")\n",
    "        transformed_data = []\n",
    "        total_number_of_steps = 0\n",
    "\n",
    "        for k, v in data.items():\n",
    "            if len(v) > 1000:\n",
    "                sublists = [v[i:i + 1000] for i in range(0, len(v), 1000)]\n",
    "                for sl in sublists:\n",
    "                    total_number_of_steps += len(sl)\n",
    "            elif len(v) > 20:\n",
    "                sublists = [v]\n",
    "                total_number_of_steps += len(v)\n",
    "            else:\n",
    "                sublists = []\n",
    "                pass\n",
    "            if len(sublists) > 0:\n",
    "                transformed_data.extend(sublists)\n",
    "\n",
    "        print(\"Confirming total episodes: \", len(transformed_data))\n",
    "        print(\"Total steps: \", total_number_of_steps)\n",
    "\n",
    "        trajectories = []\n",
    "        for t in transformed_data:\n",
    "            traj = defaultdict(list)\n",
    "            for p in t:\n",
    "                traj['observations'].append(p['state'])\n",
    "                traj['pr_actions'].append(p['pr_action'])\n",
    "                traj['adv_actions'].append(p['adv_action'])\n",
    "                traj['rewards'].append(float(p['reward']))\n",
    "                traj['dones'].append(bool(p['done']))\n",
    "            trajectories.append(traj)\n",
    "\n",
    "        d = defaultdict(list)\n",
    "        for t in trajectories:\n",
    "            d['observations'].append(t['observations'])\n",
    "            d['pr_actions'].append(t['pr_actions'])\n",
    "            d['adv_actions'].append(t['adv_actions'])\n",
    "            d['rewards'].append(t['rewards'])\n",
    "            d['dones'].append(t['dones'])\n",
    "\n",
    "        ds = Dataset.from_dict(d)\n",
    "        print(\"Dataset info:\\n\", ds)\n",
    "\n",
    "        ds_to_vis = ds.map(compute_sum)\n",
    "        ds_to_vis = ds_to_vis.filter(lambda x: x['returns'] > 300)\n",
    "\n",
    "        print(\"New total episodes: \", len(ds_to_vis['rewards']))\n",
    "        total_number_of_steps = 0\n",
    "        for r in ds_to_vis['rewards']:\n",
    "            total_number_of_steps += len(r)\n",
    "        print(\"New total steps: \", total_number_of_steps, \" vs expected \", total_number_of_steps - 1000*1000)\n",
    "\n",
    "        print(\"Plotting returns distribution...\")\n",
    "        sns.displot(ds_to_vis['returns'], kind=\"kde\", bw_adjust=0.5)\n",
    "        plt.title(f\"Returns distribution for {filename}\")\n",
    "        plt.show()\n",
    "\n",
    "        print(\"=================================================================\")\n",
    "        "
   ]
  },
  {
   "cell_type": "code",
   "execution_count": null,
   "metadata": {},
   "outputs": [],
   "source": [
    "# MDP_VERSION = \"arrl_sgld_nrmdp\"\n",
    "# ENV = \"hopper\"\n",
    "# TYPE = \"train\"\n",
    "# DS_VERSION = \"v1\"\n",
    "\n",
    "# ds.save_to_disk(f'{ARDT_DIR}/datasets/{MDP_VERSION}_{TYPE}_{ENV}_{DS_VERSION}')"
   ]
  }
 ],
 "metadata": {
  "kernelspec": {
   "display_name": "fp-adt",
   "language": "python",
   "name": "python3"
  },
  "language_info": {
   "codemirror_mode": {
    "name": "ipython",
    "version": 3
   },
   "file_extension": ".py",
   "mimetype": "text/x-python",
   "name": "python",
   "nbconvert_exporter": "python",
   "pygments_lexer": "ipython3",
   "version": "3.10.11"
  },
  "orig_nbformat": 4
 },
 "nbformat": 4,
 "nbformat_minor": 2
}
