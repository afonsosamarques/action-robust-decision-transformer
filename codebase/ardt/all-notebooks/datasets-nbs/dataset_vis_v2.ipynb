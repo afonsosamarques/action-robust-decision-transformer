{
 "cells": [
  {
   "cell_type": "code",
   "execution_count": null,
   "metadata": {},
   "outputs": [],
   "source": [
    "import sys\n",
    "import os\n",
    "dir = os.path.abspath('')\n",
    "while not dir.endswith('ardt'): dir = os.path.dirname(dir)\n",
    "if not dir in sys.path: sys.path.append(dir)"
   ]
  },
  {
   "cell_type": "code",
   "execution_count": null,
   "metadata": {},
   "outputs": [],
   "source": [
    "import matplotlib.pyplot as plt\n",
    "import numpy as np\n",
    "import seaborn as sns\n",
    "\n",
    "from datasets import load_dataset, load_from_disk\n",
    "from huggingface_hub import login\n",
    "\n",
    "from utils.helpers import find_root_dir\n",
    "\n",
    "from access_tokens import HF_WRITE_TOKEN"
   ]
  },
  {
   "cell_type": "code",
   "execution_count": null,
   "metadata": {},
   "outputs": [],
   "source": [
    "ARDT_DIR = find_root_dir()\n",
    "\n",
    "dataset_dirname = \"datasets-all\"\n",
    "dataset_filename = \"d4rl_medium_!\""
   ]
  },
  {
   "cell_type": "code",
   "execution_count": null,
   "metadata": {},
   "outputs": [],
   "source": [
    "# login(token=HF_WRITE_TOKEN)\n",
    "# dataset = load_dataset(f\"afonsosamarques/{dataset_name}\")\n",
    "# dataset"
   ]
  },
  {
   "cell_type": "code",
   "execution_count": null,
   "metadata": {},
   "outputs": [],
   "source": [
    "for ds in ['halfcheetah', 'hopper', 'walker2d']:\n",
    "    ds_name = dataset_filename.replace('!', ds)\n",
    "    dataset = load_from_disk(f\"{ARDT_DIR}/{dataset_dirname}/{ds_name}\")\n",
    "\n",
    "    def compute_sum(ds):\n",
    "        return {'returns': sum(ds['rewards'])}\n",
    "\n",
    "    plt.figure(figsize=(10, 5))\n",
    "    ds_to_vis = dataset.map(compute_sum)\n",
    "    # fix bin size\n",
    "    sns.displot(ds_to_vis['returns'], kind=\"hist\", bins=100, color='blue');\n",
    "    plt.xlabel(\"Return\")\n",
    "    plt.title(f\"D4RL {ds_name.split('_')[2].capitalize()} Medium Dataset Return Distribution\", fontsize=12)\n",
    "    plt.show();"
   ]
  }
 ],
 "metadata": {
  "kernelspec": {
   "display_name": "fp-adt",
   "language": "python",
   "name": "python3"
  },
  "language_info": {
   "codemirror_mode": {
    "name": "ipython",
    "version": 3
   },
   "file_extension": ".py",
   "mimetype": "text/x-python",
   "name": "python",
   "nbconvert_exporter": "python",
   "pygments_lexer": "ipython3",
   "version": "3.10.11"
  },
  "orig_nbformat": 4
 },
 "nbformat": 4,
 "nbformat_minor": 2
}
