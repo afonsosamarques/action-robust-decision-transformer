{
 "cells": [
  {
   "cell_type": "code",
   "execution_count": null,
   "metadata": {},
   "outputs": [],
   "source": [
    "import sys\n",
    "import os\n",
    "dir = os.path.abspath('')\n",
    "while not dir.endswith('ardt'): dir = os.path.dirname(dir)\n",
    "if not dir in sys.path: sys.path.append(dir)"
   ]
  },
  {
   "cell_type": "code",
   "execution_count": null,
   "metadata": {},
   "outputs": [],
   "source": [
    "import matplotlib.pyplot as plt\n",
    "import numpy as np\n",
    "import seaborn as sns\n",
    "\n",
    "from datasets import load_dataset, load_from_disk\n",
    "from huggingface_hub import login\n",
    "\n",
    "from utils.helpers import find_root_dir\n",
    "\n",
    "from access_tokens import HF_WRITE_TOKEN"
   ]
  },
  {
   "cell_type": "code",
   "execution_count": null,
   "metadata": {},
   "outputs": [],
   "source": [
    "ARDT_DIR = find_root_dir()\n",
    "\n",
    "dataset_dirname = \"datasets\"\n",
    "dataset_filename = \"dataset_combo_train_halfcheetah_v2\""
   ]
  },
  {
   "cell_type": "code",
   "execution_count": null,
   "metadata": {},
   "outputs": [],
   "source": [
    "dataset = load_from_disk(f\"{ARDT_DIR}/{dataset_dirname}/{dataset_filename}\")\n",
    "\n",
    "# login(token=HF_WRITE_TOKEN)\n",
    "# dataset = load_dataset(f\"afonsosamarques/{dataset_name}\")\n",
    "\n",
    "dataset"
   ]
  },
  {
   "cell_type": "code",
   "execution_count": null,
   "metadata": {},
   "outputs": [],
   "source": [
    "# dataset = dataset.select(range(1000, 2000))"
   ]
  },
  {
   "cell_type": "code",
   "execution_count": null,
   "metadata": {},
   "outputs": [],
   "source": [
    "def compute_sum(ds):\n",
    "    return {'returns': sum(ds['rewards'])}\n",
    "\n",
    "ds_to_vis = dataset.map(compute_sum)\n",
    "sns.displot(ds_to_vis['returns'], kind=\"kde\", bw_adjust=0.5);"
   ]
  },
  {
   "cell_type": "code",
   "execution_count": null,
   "metadata": {},
   "outputs": [],
   "source": [
    "pr_actions = np.array(dataset['pr_actions'])\n",
    "for i in range(pr_actions.shape[2]):\n",
    "    print(\"===============================\")\n",
    "    # print(\"Action dimension: \", i+1)\n",
    "    # print(\"Min:\", np.min(pr_actions[:, :, i]))\n",
    "    # print(\"Median:\", np.median(pr_actions[:, :, i]))\n",
    "    # print(\"Max:\", np.max(pr_actions[:, :, i]))\n",
    "    # print(\"Mean:\", np.mean(pr_actions[:, :, i]))\n",
    "    plt.figure()\n",
    "    sns.displot(pr_actions[:, :, i].reshape(-1, 1).squeeze())\n",
    "    plt.show();"
   ]
  },
  {
   "cell_type": "code",
   "execution_count": null,
   "metadata": {},
   "outputs": [],
   "source": [
    "adv_actions = np.array(dataset['adv_actions'])#[:][1:900][0:6])\n",
    "for i in range(adv_actions.shape[2]):\n",
    "    print(\"===============================\")\n",
    "    # print(\"Action dimension: \", i+1)\n",
    "    # print(\"Min:\", np.min(adv_actions[:, :, i]))\n",
    "    # print(\"Median:\", np.median(adv_actions[:, :, i]))\n",
    "    # print(\"Max:\", np.max(adv_actions[:, :, i]))\n",
    "    # print(\"Mean:\", np.mean(adv_actions[:, :, i]))\n",
    "    plt.figure()\n",
    "    sns.displot(adv_actions[:, :, i].reshape(-1, 1).squeeze())\n",
    "    plt.show();\n"
   ]
  },
  {
   "cell_type": "code",
   "execution_count": null,
   "metadata": {},
   "outputs": [],
   "source": [
    "adv_actions[5, 100, :]"
   ]
  },
  {
   "cell_type": "code",
   "execution_count": null,
   "metadata": {},
   "outputs": [],
   "source": [
    "actions = np.array(pr_actions) + np.array(adv_actions)\n",
    "for i in range(actions.shape[2]):\n",
    "    print(\"===============================\")\n",
    "    # print(\"Action dimension: \", i+1)\n",
    "    # print(\"Min:\", np.min(adv_actions[:, :, i]))\n",
    "    # print(\"Median:\", np.median(adv_actions[:, :, i]))\n",
    "    # print(\"Max:\", np.max(adv_actions[:, :, i]))\n",
    "    # print(\"Mean:\", np.mean(adv_actions[:, :, i]))\n",
    "    plt.figure()\n",
    "    sns.displot(actions[:, :, i].reshape(-1, 1).squeeze())\n",
    "    plt.show();"
   ]
  }
 ],
 "metadata": {
  "kernelspec": {
   "display_name": "fp-adt",
   "language": "python",
   "name": "python3"
  },
  "language_info": {
   "codemirror_mode": {
    "name": "ipython",
    "version": 3
   },
   "file_extension": ".py",
   "mimetype": "text/x-python",
   "name": "python",
   "nbconvert_exporter": "python",
   "pygments_lexer": "ipython3",
   "version": "3.10.11"
  },
  "orig_nbformat": 4
 },
 "nbformat": 4,
 "nbformat_minor": 2
}
