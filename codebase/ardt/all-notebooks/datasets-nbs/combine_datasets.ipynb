{
 "cells": [
  {
   "cell_type": "code",
   "execution_count": null,
   "metadata": {},
   "outputs": [],
   "source": [
    "import sys\n",
    "import os\n",
    "dir = os.path.abspath('')\n",
    "while not dir.endswith('ardt'): dir = os.path.dirname(dir)\n",
    "if not dir in sys.path: sys.path.append(dir)"
   ]
  },
  {
   "cell_type": "code",
   "execution_count": null,
   "metadata": {},
   "outputs": [],
   "source": [
    "from datasets import load_dataset, load_from_disk, concatenate_datasets\n",
    "from huggingface_hub import login\n",
    "\n",
    "from utils.helpers import find_root_dir\n",
    "\n",
    "import numpy as np\n",
    "import seaborn as sns"
   ]
  },
  {
   "cell_type": "code",
   "execution_count": null,
   "metadata": {},
   "outputs": [],
   "source": [
    "ARDT_DIR = find_root_dir()\n",
    "VERSION_OF_COMBO = \"v1\"  # PLEASE CHANGE TO AVOID OVERRIDING!!!!!"
   ]
  },
  {
   "cell_type": "code",
   "execution_count": null,
   "metadata": {},
   "outputs": [],
   "source": [
    "total_episodes = 1000\n",
    "episode_len = 1000\n",
    "total_steps = total_episodes * episode_len  # ideally"
   ]
  },
  {
   "cell_type": "code",
   "execution_count": null,
   "metadata": {},
   "outputs": [],
   "source": [
    "dataset_names = [\"arrl_nrmdp_train_halfcheetah_v4\", \"d4rl_expert_halfcheetah\"]\n",
    "weights = [0.5, 0.5]"
   ]
  },
  {
   "cell_type": "code",
   "execution_count": null,
   "metadata": {},
   "outputs": [],
   "source": [
    "episodes_per_ds = [int(w * total_episodes) for w in weights]\n",
    "super_dataset = None\n",
    "\n",
    "for dataset_name, eps in zip(dataset_names, episodes_per_ds):\n",
    "    # load dataset\n",
    "    ds = load_from_disk(f\"{ARDT_DIR}/datasets/{dataset_name}\")\n",
    "    # select last episodes_per_ds episodes\n",
    "    len_ds = len(ds['observations'])\n",
    "    ds = ds.select(range(len_ds-eps, len_ds))\n",
    "    # visualise selection of dataset\n",
    "    returns = (np.array(ds['rewards'])).sum(axis=1)\n",
    "    sns.displot(returns, kind=\"kde\", bw_adjust=0.5);\n",
    "    # add to super dataset\n",
    "    if super_dataset is None:\n",
    "        super_dataset = ds\n",
    "    else:\n",
    "        ds = ds.cast(super_dataset.features)\n",
    "        super_dataset = concatenate_datasets([super_dataset, ds])"
   ]
  },
  {
   "cell_type": "code",
   "execution_count": null,
   "metadata": {},
   "outputs": [],
   "source": [
    "def compute_sum(ds):\n",
    "    return {'returns': sum(ds['rewards'])}\n",
    "\n",
    "ds_to_vis = super_dataset.map(compute_sum)\n",
    "sns.displot(ds_to_vis['returns'], kind=\"kde\", bw_adjust=0.5);"
   ]
  },
  {
   "cell_type": "code",
   "execution_count": null,
   "metadata": {},
   "outputs": [],
   "source": [
    "super_dataset.save_to_disk(f'{ARDT_DIR}/datasets/dataset_combo_{VERSION_OF_COMBO}')"
   ]
  }
 ],
 "metadata": {
  "kernelspec": {
   "display_name": "fp-adt",
   "language": "python",
   "name": "python3"
  },
  "language_info": {
   "codemirror_mode": {
    "name": "ipython",
    "version": 3
   },
   "file_extension": ".py",
   "mimetype": "text/x-python",
   "name": "python",
   "nbconvert_exporter": "python",
   "pygments_lexer": "ipython3",
   "version": "3.10.11"
  },
  "orig_nbformat": 4
 },
 "nbformat": 4,
 "nbformat_minor": 2
}
