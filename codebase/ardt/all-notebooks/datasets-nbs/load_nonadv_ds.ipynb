{
 "cells": [
  {
   "cell_type": "code",
   "execution_count": null,
   "metadata": {},
   "outputs": [],
   "source": [
    "import sys\n",
    "import os\n",
    "dir = os.path.abspath('')\n",
    "while not dir.endswith('ardt'): dir = os.path.dirname(dir)\n",
    "if not dir in sys.path: sys.path.append(dir)"
   ]
  },
  {
   "cell_type": "code",
   "execution_count": null,
   "metadata": {},
   "outputs": [],
   "source": [
    "import numpy as np\n",
    "import matplotlib.pyplot as plt\n",
    "import seaborn as sns\n",
    "\n",
    "from datasets import load_dataset, load_from_disk\n",
    "from huggingface_hub import login\n",
    "\n",
    "from utils.helpers import find_root_dir\n",
    "\n",
    "from access_tokens import HF_WRITE_TOKEN"
   ]
  },
  {
   "cell_type": "code",
   "execution_count": null,
   "metadata": {},
   "outputs": [],
   "source": [
    "login(token=HF_WRITE_TOKEN)\n",
    "ARDT_DIR = find_root_dir()\n",
    "DIR = ARDT_DIR + \"/datasets-raw/nonadv-raw-data/\"\n",
    "ENV_NAME = \"hopper\""
   ]
  },
  {
   "cell_type": "code",
   "execution_count": 32,
   "metadata": {},
   "outputs": [],
   "source": [
    "def compute_sum(ds):\n",
    "    return {'returns': sum(ds['rewards'])}\n",
    "\n",
    "filenames = os.listdir(DIR)\n",
    "for filename in filenames:\n",
    "    if ENV_NAME in filename:\n",
    "        filepath = DIR + filename\n",
    "        dataset = load_from_disk(filepath)\n",
    "\n",
    "        print(f\"File {filename} has {len(dataset['actions'])} episodes.\")\n",
    "\n",
    "        total_number_of_steps = 0\n",
    "        for l in dataset['actions']:\n",
    "            total_number_of_steps += len(l)\n",
    "\n",
    "        print(\"Confirming total episodes: \", len(dataset['actions']))\n",
    "        print(\"Total steps: \", total_number_of_steps)\n",
    "\n",
    "        pr_actions = dataset['actions']\n",
    "        adv_actions = [[0.0] * len(sublist) for sublist in pr_actions]\n",
    "\n",
    "        dataset = dataset.add_column('pr_actions', pr_actions)\n",
    "        dataset = dataset.add_column('adv_actions', adv_actions)\n",
    "        dataset = dataset.remove_columns(['actions'])\n",
    "\n",
    "        print(\"Dataset info:\\n\", dataset)\n",
    "\n",
    "        print(\"Plotting returns distribution...\")\n",
    "        ds_to_vis = dataset.map(compute_sum)\n",
    "        sns.displot(ds_to_vis['returns'], kind=\"kde\", bw_adjust=0.5)\n",
    "        plt.title(f\"Returns distribution for {filename}\")\n",
    "        plt.show()\n",
    "\n",
    "        print(\"=================================================================\")\n",
    "\n"
   ]
  },
  {
   "cell_type": "code",
   "execution_count": null,
   "metadata": {},
   "outputs": [],
   "source": [
    "# TYPE = 'train'\n",
    "# VERSION = 'v4'\n",
    "\n",
    "# dataset.save_to_disk(f'{ARDT_DIR}/datasets/ppo_noadv_{TYPE}_halfcheetah_{VERSION}')"
   ]
  }
 ],
 "metadata": {
  "kernelspec": {
   "display_name": "fp-adt",
   "language": "python",
   "name": "python3"
  },
  "language_info": {
   "codemirror_mode": {
    "name": "ipython",
    "version": 3
   },
   "file_extension": ".py",
   "mimetype": "text/x-python",
   "name": "python",
   "nbconvert_exporter": "python",
   "pygments_lexer": "ipython3",
   "version": "3.10.11"
  },
  "orig_nbformat": 4
 },
 "nbformat": 4,
 "nbformat_minor": 2
}
