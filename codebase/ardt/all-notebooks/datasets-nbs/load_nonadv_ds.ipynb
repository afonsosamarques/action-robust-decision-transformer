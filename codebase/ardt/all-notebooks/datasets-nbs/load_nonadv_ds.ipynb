{
 "cells": [
  {
   "cell_type": "code",
   "execution_count": null,
   "metadata": {},
   "outputs": [],
   "source": [
    "import sys\n",
    "import os\n",
    "dir = os.path.abspath('')\n",
    "while not dir.endswith('ardt'): dir = os.path.dirname(dir)\n",
    "if not dir in sys.path: sys.path.append(dir)"
   ]
  },
  {
   "cell_type": "code",
   "execution_count": null,
   "metadata": {},
   "outputs": [],
   "source": [
    "import numpy as np\n",
    "\n",
    "from datasets import load_dataset, load_from_disk\n",
    "from huggingface_hub import login\n",
    "\n",
    "from utils.helpers import find_root_dir\n",
    "\n",
    "from access_tokens import HF_WRITE_TOKEN"
   ]
  },
  {
   "cell_type": "code",
   "execution_count": null,
   "metadata": {},
   "outputs": [],
   "source": [
    "login(token=HF_WRITE_TOKEN)"
   ]
  },
  {
   "cell_type": "code",
   "execution_count": null,
   "metadata": {},
   "outputs": [],
   "source": [
    "ARDT_DIR = find_root_dir()"
   ]
  },
  {
   "cell_type": "code",
   "execution_count": null,
   "metadata": {},
   "outputs": [],
   "source": [
    "TYPE = 'train'\n",
    "VERSION = 'v2'"
   ]
  },
  {
   "cell_type": "code",
   "execution_count": null,
   "metadata": {},
   "outputs": [],
   "source": [
    "dataset = load_from_disk(f'{ARDT_DIR}/datasets-raw/nonadv-raw-data/ppo_halfcheetah_v2_train_v2')"
   ]
  },
  {
   "cell_type": "code",
   "execution_count": null,
   "metadata": {},
   "outputs": [],
   "source": [
    "total_max = 0\n",
    "total_min = 0\n",
    "\n",
    "for t in dataset:\n",
    "    total_max = max(total_max, np.sum(t['rewards']))\n",
    "    total_min = min(total_min, np.sum(t['rewards']))\n",
    "    \n",
    "print(\"Max total reward:\", total_max)\n",
    "print(\"Min total reward:\", total_min)"
   ]
  },
  {
   "cell_type": "code",
   "execution_count": null,
   "metadata": {},
   "outputs": [],
   "source": [
    "# run if we want to add a 0 adversary\n",
    "pr_actions = dataset['actions']\n",
    "new_pr_actions = []\n",
    "adv_actions =[]\n",
    "for tr in pr_actions:\n",
    "    pr_l = []\n",
    "    adv_l = []\n",
    "    for a in tr:\n",
    "        adv = np.array(a).astype(np.float32) * 0.0\n",
    "        pr = np.array(a).astype(np.float32)\n",
    "        pr_l.append(list(pr))\n",
    "        adv_l.append(list(adv))\n",
    "    new_pr_actions.append(pr_l)\n",
    "    adv_actions.append(adv_l)\n",
    "\n",
    "dataset = dataset.add_column('pr_actions', new_pr_actions)\n",
    "dataset = dataset.add_column('adv_actions', adv_actions)\n",
    "dataset = dataset.remove_columns(['actions'])"
   ]
  },
  {
   "cell_type": "code",
   "execution_count": null,
   "metadata": {},
   "outputs": [],
   "source": [
    "dataset.save_to_disk(f'{ARDT_DIR}/datasets/ppo_noadv_{TYPE}_halfcheetah_{VERSION}')"
   ]
  }
 ],
 "metadata": {
  "kernelspec": {
   "display_name": "fp-adt",
   "language": "python",
   "name": "python3"
  },
  "language_info": {
   "codemirror_mode": {
    "name": "ipython",
    "version": 3
   },
   "file_extension": ".py",
   "mimetype": "text/x-python",
   "name": "python",
   "nbconvert_exporter": "python",
   "pygments_lexer": "ipython3",
   "version": "3.10.11"
  },
  "orig_nbformat": 4
 },
 "nbformat": 4,
 "nbformat_minor": 2
}
