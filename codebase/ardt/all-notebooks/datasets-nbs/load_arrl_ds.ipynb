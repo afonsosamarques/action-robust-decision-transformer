{
 "cells": [
  {
   "cell_type": "code",
   "execution_count": null,
   "metadata": {},
   "outputs": [],
   "source": [
    "import sys\n",
    "import os\n",
    "dir = os.path.abspath('')\n",
    "while not dir.endswith('ardt'): dir = os.path.dirname(dir)\n",
    "if not dir in sys.path: sys.path.append(dir)"
   ]
  },
  {
   "cell_type": "code",
   "execution_count": null,
   "metadata": {},
   "outputs": [],
   "source": [
    "import numpy as np\n",
    "import json\n",
    "\n",
    "import matplotlib.pyplot as plt\n",
    "import numpy as np\n",
    "import seaborn as sns\n",
    "\n",
    "from collections import defaultdict\n",
    "\n",
    "from datasets import Dataset\n",
    "\n",
    "from utils.helpers import find_root_dir\n",
    "\n",
    "from access_tokens import HF_WRITE_TOKEN"
   ]
  },
  {
   "cell_type": "code",
   "execution_count": null,
   "metadata": {},
   "outputs": [],
   "source": [
    "ARDT_DIR = find_root_dir()\n",
    "\n",
    "DIR = ARDT_DIR + \"/datasets-raw/arrl-raw-data/\""
   ]
  },
  {
   "cell_type": "code",
   "execution_count": null,
   "metadata": {},
   "outputs": [],
   "source": [
    "filepath = f\"{DIR}/\" + \"arrl_nrmdp_raw_dataset-Hopper-v4-1408_0052\" + \".json\"\n",
    "\n",
    "with (open(filepath, \"rb\")) as f:\n",
    "    data = json.load(f)\n",
    "\n",
    "max([int(k) for k in data.keys()])"
   ]
  },
  {
   "cell_type": "code",
   "execution_count": null,
   "metadata": {},
   "outputs": [],
   "source": [
    "transformed_data = []\n",
    "total_number_of_steps = 0\n",
    "\n",
    "for k, v in data.items():\n",
    "    if len(v) > 1000:\n",
    "        sublists = [v[i:i + 1000] for i in range(0, len(v), 1000)]\n",
    "        for sl in sublists:\n",
    "            total_number_of_steps += len(sl)\n",
    "    elif len(v) > 20:\n",
    "        sublists = [v]\n",
    "        total_number_of_steps += len(v)\n",
    "    transformed_data.extend(sublists)\n",
    "\n",
    "print(len(transformed_data))\n",
    "print(total_number_of_steps)"
   ]
  },
  {
   "cell_type": "code",
   "execution_count": null,
   "metadata": {},
   "outputs": [],
   "source": [
    "# convert list of dictionaries into dictionaries of lists\n",
    "trajectories = []\n",
    "for t in transformed_data:\n",
    "    traj = defaultdict(list)\n",
    "    for p in t:\n",
    "        traj['observations'].append(p['state'])\n",
    "        traj['pr_actions'].append(p['pr_action'])\n",
    "        traj['adv_actions'].append(p['adv_action'])\n",
    "        traj['rewards'].append(float(p['reward']))\n",
    "        traj['dones'].append(bool(p['done']))\n",
    "    trajectories.append(traj)\n",
    "\n",
    "len(trajectories)"
   ]
  },
  {
   "cell_type": "code",
   "execution_count": null,
   "metadata": {},
   "outputs": [],
   "source": [
    "d = defaultdict(list)\n",
    "for t in trajectories:\n",
    "    d['observations'].append(t['observations'])\n",
    "    d['pr_actions'].append(t['pr_actions'])\n",
    "    d['adv_actions'].append(t['adv_actions'])\n",
    "    d['rewards'].append(t['rewards'])\n",
    "    d['dones'].append(t['dones'])\n",
    "\n",
    "ds = Dataset.from_dict(d)\n",
    "print(ds)"
   ]
  },
  {
   "cell_type": "code",
   "execution_count": null,
   "metadata": {},
   "outputs": [],
   "source": [
    "def compute_sum(ds):\n",
    "    return {'returns': sum(ds['rewards'])}\n",
    "\n",
    "ds_to_vis = ds.map(compute_sum)\n",
    "sns.displot(ds_to_vis['returns'], kind=\"kde\", bw_adjust=0.5);"
   ]
  },
  {
   "cell_type": "code",
   "execution_count": null,
   "metadata": {},
   "outputs": [],
   "source": [
    "# MDP_VERSION = \"arrl_sgld_nrmdp\"\n",
    "# ENV = \"hopper\"\n",
    "# TYPE = \"train\"\n",
    "# DS_VERSION = \"v1\"\n",
    "\n",
    "# ds.save_to_disk(f'{ARDT_DIR}/datasets/{MDP_VERSION}_{TYPE}_{ENV}_{DS_VERSION}')"
   ]
  }
 ],
 "metadata": {
  "kernelspec": {
   "display_name": "fp-adt",
   "language": "python",
   "name": "python3"
  },
  "language_info": {
   "codemirror_mode": {
    "name": "ipython",
    "version": 3
   },
   "file_extension": ".py",
   "mimetype": "text/x-python",
   "name": "python",
   "nbconvert_exporter": "python",
   "pygments_lexer": "ipython3",
   "version": "3.10.11"
  },
  "orig_nbformat": 4
 },
 "nbformat": 4,
 "nbformat_minor": 2
}
