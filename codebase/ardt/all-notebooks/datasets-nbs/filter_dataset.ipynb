{
 "cells": [
  {
   "cell_type": "code",
   "execution_count": null,
   "metadata": {},
   "outputs": [],
   "source": [
    "import sys\n",
    "import os\n",
    "dir = os.path.abspath('')\n",
    "while not dir.endswith('ardt'): dir = os.path.dirname(dir)\n",
    "if not dir in sys.path: sys.path.append(dir)"
   ]
  },
  {
   "cell_type": "code",
   "execution_count": null,
   "metadata": {},
   "outputs": [],
   "source": [
    "from datasets import load_from_disk\n",
    "\n",
    "from utils.helpers import find_root_dir\n",
    "\n",
    "import numpy as np\n",
    "import seaborn as sns"
   ]
  },
  {
   "cell_type": "code",
   "execution_count": null,
   "metadata": {},
   "outputs": [],
   "source": [
    "ARDT_DIR = find_root_dir()\n",
    "dataset_name = \"ppo_noadv_test_halfcheetah_v3\""
   ]
  },
  {
   "cell_type": "code",
   "execution_count": null,
   "metadata": {},
   "outputs": [],
   "source": [
    "def compute_sum(ds):\n",
    "    return {'returns': sum(ds['rewards'])}\n",
    "\n",
    "ds = load_from_disk(f\"{ARDT_DIR}/datasets/{dataset_name}\")\n",
    "ds = ds.map(compute_sum)\n",
    "sns.displot(ds['returns'], kind=\"kde\", bw_adjust=0.5);"
   ]
  },
  {
   "cell_type": "code",
   "execution_count": null,
   "metadata": {},
   "outputs": [],
   "source": [
    "min_return = 1000\n",
    "max_return = 1500\n",
    "filtered_ds = ds.filter(lambda x: x['returns'] > min_return and x['returns'] < max_return)\n",
    "print(\"Size of dataset: \", len(filtered_ds))\n",
    "sns.displot(filtered_ds['returns'], kind=\"kde\", bw_adjust=0.5);"
   ]
  },
  {
   "cell_type": "code",
   "execution_count": null,
   "metadata": {},
   "outputs": [],
   "source": [
    "idx = list(range(len(filtered_ds)))\n",
    "np.random.shuffle(idx)\n",
    "idx = idx[:334]\n",
    "new_filtered_ds = filtered_ds.select(idx)\n",
    "print(\"Size of dataset: \", len(new_filtered_ds))\n",
    "sns.displot(new_filtered_ds['returns'], kind=\"kde\", bw_adjust=0.5);"
   ]
  },
  {
   "cell_type": "code",
   "execution_count": null,
   "metadata": {},
   "outputs": [],
   "source": [
    "new_filtered_ds.save_to_disk(f\"{ARDT_DIR}/datasets/{dataset_name}_filtered\")"
   ]
  }
 ],
 "metadata": {
  "kernelspec": {
   "display_name": "fp-adt",
   "language": "python",
   "name": "python3"
  },
  "language_info": {
   "codemirror_mode": {
    "name": "ipython",
    "version": 3
   },
   "file_extension": ".py",
   "mimetype": "text/x-python",
   "name": "python",
   "nbconvert_exporter": "python",
   "pygments_lexer": "ipython3",
   "version": "3.10.11"
  },
  "orig_nbformat": 4
 },
 "nbformat": 4,
 "nbformat_minor": 2
}
