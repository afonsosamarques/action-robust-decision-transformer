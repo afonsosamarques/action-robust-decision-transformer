{
 "cells": [
  {
   "cell_type": "code",
   "execution_count": null,
   "metadata": {},
   "outputs": [],
   "source": [
    "import sys\n",
    "import os\n",
    "dir = os.path.abspath('')\n",
    "while not dir.endswith('ardt'): dir = os.path.dirname(dir)\n",
    "if not dir in sys.path: sys.path.append(dir)"
   ]
  },
  {
   "cell_type": "code",
   "execution_count": null,
   "metadata": {},
   "outputs": [],
   "source": [
    "import matplotlib.pyplot as plt\n",
    "import numpy as np\n",
    "import seaborn as sns\n",
    "import pandas as pd\n",
    "\n",
    "from datasets import load_dataset, load_from_disk\n",
    "from huggingface_hub import login\n",
    "\n",
    "from utils.helpers import find_root_dir\n",
    "\n",
    "from access_tokens import HF_WRITE_TOKEN"
   ]
  },
  {
   "cell_type": "code",
   "execution_count": null,
   "metadata": {},
   "outputs": [],
   "source": [
    "ARDT_DIR = find_root_dir()\n",
    "\n",
    "datasets_dirname = \"datasets-all\"\n",
    "datasets_dirpath = f\"{ARDT_DIR}/{datasets_dirname}\"\n",
    "\n",
    "# get names of all directories under dataset_dirname path\n",
    "dataset_dirpaths = []\n",
    "dataset_dirnames = []\n",
    "for name in os.listdir(datasets_dirpath):\n",
    "    if os.path.isdir(f\"{datasets_dirpath}/{name}\"):\n",
    "        dataset_dirpaths.append(f\"{datasets_dirpath}/{name}\")\n",
    "        dataset_dirnames.append(name)\n",
    "\n",
    "dataset_dirpaths = sorted(dataset_dirpaths)\n",
    "dataset_dirnames = sorted(dataset_dirnames)\n"
   ]
  },
  {
   "cell_type": "code",
   "execution_count": null,
   "metadata": {},
   "outputs": [],
   "source": [
    "def compute_sum(ds):\n",
    "    return {'returns': sum(ds['rewards'])}\n",
    "\n",
    "def get_name(dataset_dirname):\n",
    "    if dataset_dirname.startswith(\"arrl_sgld\"):\n",
    "        algo = \"AR-DDPG-SGLD\"\n",
    "    elif dataset_dirname.startswith(\"arrl\"):\n",
    "        algo = \"AR-DDPG\"\n",
    "    elif dataset_dirname.startswith(\"ppo\"):\n",
    "        algo = \"PPO\"\n",
    "    else:\n",
    "        algo = dataset_dirname.split(\"_\")[0].capitalize()\n",
    "    \n",
    "    env_name = dataset_dirname.split(\"_\")[-2].capitalize().replace(\"c\", \"C\").replace(\"d\", \"D\")\n",
    "\n",
    "    return env_name + \" \" + algo + (\" \" + dataset_dirname.split(\"_\")[-1].capitalize() if dataset_dirname.split(\"_\")[-1] == \"level\" else \"\")\n",
    "\n",
    "df = pd.DataFrame(columns=[\"returns\", \"Environment\"])\n",
    "for env in ['halfcheetah', 'hopper', 'walker2d']:\n",
    "    for dataset_dirpath, dataset_dirname in zip(dataset_dirpaths, dataset_dirnames):\n",
    "        # if \"Combo\" in get_name(dataset_dirname) or \"PPO\" in get_name(dataset_dirname):\n",
    "        #     continue\n",
    "        # if dataset_dirname != \"arrl_sgld_train_halfcheetah_v0\" and dataset_dirname != \"arrl_sgld_train_hopper_v10\" and dataset_dirname != \"arrl_sgld_train_walker2d_v5\":\n",
    "        #     continue\n",
    "        if env in dataset_dirname:\n",
    "            dataset = load_from_disk(dataset_dirpath)\n",
    "            ds_to_vis = ds_to_vis.map(compute_sum)\n",
    "            temp_df = pd.DataFrame({\n",
    "                'returns': ds_to_vis['returns'],\n",
    "                'Environment': [get_name(dataset_dirname)] * len(ds_to_vis['returns'])\n",
    "            })\n",
    "            df = pd.concat([df, temp_df])\n",
    "\n",
    "g = sns.FacetGrid(df, col=\"Environment\", col_wrap=4, sharex=False, sharey=False)\n",
    "g.map_dataframe(sns.histplot, x=\"returns\", bins=100, color='blue')\n",
    "g.set_axis_labels(\"Return\")\n",
    "g.set_titles(col_template=\"{col_name} Dataset\")\n",
    "\n",
    "num_cols = 4  # Number of columns in the grid\n",
    "for row in range(g.axes.shape[0] // num_cols + 1):\n",
    "    y_max = 0\n",
    "    for col in range(num_cols):\n",
    "        idx = row * num_cols + col\n",
    "        if idx >= len(g.axes):\n",
    "            break\n",
    "        ax = g.axes[idx]\n",
    "        y_max = max(y_max, ax.get_ylim()[1])\n",
    "\n",
    "    # Set y_max for each subplot in the same row\n",
    "    for col in range(num_cols):\n",
    "        idx = row * num_cols + col\n",
    "        if idx >= len(g.axes):\n",
    "            break\n",
    "        ax = g.axes[idx]\n",
    "        ax.set_ylim(0, y_max)\n",
    "\n",
    "plt.show()"
   ]
  }
 ],
 "metadata": {
  "kernelspec": {
   "display_name": "fp-adt",
   "language": "python",
   "name": "python3"
  },
  "language_info": {
   "codemirror_mode": {
    "name": "ipython",
    "version": 3
   },
   "file_extension": ".py",
   "mimetype": "text/x-python",
   "name": "python",
   "nbconvert_exporter": "python",
   "pygments_lexer": "ipython3",
   "version": "3.10.11"
  },
  "orig_nbformat": 4
 },
 "nbformat": 4,
 "nbformat_minor": 2
}
