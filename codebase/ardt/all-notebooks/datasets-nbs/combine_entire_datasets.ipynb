{
 "cells": [
  {
   "cell_type": "code",
   "execution_count": null,
   "metadata": {},
   "outputs": [],
   "source": [
    "import sys\n",
    "import os\n",
    "dir = os.path.abspath('')\n",
    "while not dir.endswith('ardt'): dir = os.path.dirname(dir)\n",
    "if not dir in sys.path: sys.path.append(dir)"
   ]
  },
  {
   "cell_type": "code",
   "execution_count": null,
   "metadata": {},
   "outputs": [],
   "source": [
    "from datasets import load_dataset, load_from_disk, concatenate_datasets\n",
    "from huggingface_hub import login\n",
    "\n",
    "from utils.helpers import find_root_dir\n",
    "\n",
    "import numpy as np\n",
    "import seaborn as sns"
   ]
  },
  {
   "cell_type": "code",
   "execution_count": null,
   "metadata": {},
   "outputs": [],
   "source": [
    "ARDT_DIR = find_root_dir()"
   ]
  },
  {
   "cell_type": "code",
   "execution_count": null,
   "metadata": {},
   "outputs": [],
   "source": [
    "dataset_names = [\"arrl_nrmdp_train_halfcheetah_v0\", \"arrl_nrmdp_train_halfcheetah_v1\"]\n",
    "weight_combs = [\n",
    "    [1, 1]\n",
    "]"
   ]
  },
  {
   "cell_type": "code",
   "execution_count": null,
   "metadata": {},
   "outputs": [],
   "source": [
    "def compute_sum(ds):\n",
    "    return {'returns': sum(ds['rewards'])}\n",
    "\n",
    "for i, weights in enumerate(weight_combs):    \n",
    "    super_dataset = None\n",
    "    for dataset_name in dataset_names:\n",
    "        # load dataset\n",
    "        ds = load_from_disk(f\"{ARDT_DIR}/datasets/{dataset_name}\")\n",
    "        ds = ds.map(compute_sum)\n",
    "        # # visualise selection of dataset\n",
    "        # returns = (np.array(ds['rewards'])).sum(axis=1)\n",
    "        # sns.displot(returns, kind=\"kde\", bw_adjust=0.5);\n",
    "        # add to super dataset\n",
    "        if super_dataset is None:\n",
    "            super_dataset = ds\n",
    "        else:\n",
    "            ds = ds.cast(super_dataset.features)\n",
    "            super_dataset = concatenate_datasets([super_dataset, ds])\n",
    "    # visualise combined dataset\n",
    "    ds_to_vis = super_dataset.map(compute_sum)\n",
    "    print(f\"Datasets: {dataset_names} \\n Weights: {weights}\")\n",
    "    # save\n",
    "    super_dataset.save_to_disk(f'{ARDT_DIR}/datasets/arrl_nrmdp_train_halfcheetah_v6')"
   ]
  }
 ],
 "metadata": {
  "kernelspec": {
   "display_name": "fp-adt",
   "language": "python",
   "name": "python3"
  },
  "language_info": {
   "codemirror_mode": {
    "name": "ipython",
    "version": 3
   },
   "file_extension": ".py",
   "mimetype": "text/x-python",
   "name": "python",
   "nbconvert_exporter": "python",
   "pygments_lexer": "ipython3",
   "version": "3.10.11"
  },
  "orig_nbformat": 4
 },
 "nbformat": 4,
 "nbformat_minor": 2
}
