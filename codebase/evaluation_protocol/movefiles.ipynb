{
 "cells": [
  {
   "cell_type": "code",
   "execution_count": null,
   "metadata": {},
   "outputs": [],
   "source": [
    "import os\n",
    "import shutil\n",
    "\n",
    "path = \"/Users/afonsosamarques/Downloads/eval-outputs-pipeline\"\n",
    "new_path = \"/Users/afonsosamarques/Documents/ucl-final-project/code/action-robust-decision-transformer/codebase/evaluation_protocol/results-thesis\"\n",
    "\n",
    "for dirpath, dirnames, filenames in os.walk(path):\n",
    "    for filename in filenames:\n",
    "        # Get the directory name relative to the initial path\n",
    "        relative_dir = os.path.relpath(dirpath, path)\n",
    "        \n",
    "        # Create the new directory if it does not exist\n",
    "        new_dir_path = os.path.join(new_path, relative_dir)\n",
    "        os.makedirs(new_dir_path, exist_ok=True)\n",
    "        \n",
    "        # Construct the full paths to the source and destination\n",
    "        src_filepath = os.path.join(dirpath, filename)\n",
    "        dest_filepath = os.path.join(new_dir_path, filename)\n",
    "        \n",
    "        # Move the file\n",
    "        shutil.move(src_filepath, dest_filepath)\n",
    "\n",
    "print(\"Files moved successfully\")"
   ]
  }
 ],
 "metadata": {
  "kernelspec": {
   "display_name": "fp-adt",
   "language": "python",
   "name": "python3"
  },
  "language_info": {
   "codemirror_mode": {
    "name": "ipython",
    "version": 3
   },
   "file_extension": ".py",
   "mimetype": "text/x-python",
   "name": "python",
   "nbconvert_exporter": "python",
   "pygments_lexer": "ipython3",
   "version": "3.10.11"
  },
  "orig_nbformat": 4
 },
 "nbformat": 4,
 "nbformat_minor": 2
}
